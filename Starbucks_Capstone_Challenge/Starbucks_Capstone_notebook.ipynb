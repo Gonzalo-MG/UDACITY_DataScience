{
 "cells": [
  {
   "cell_type": "markdown",
   "metadata": {},
   "source": [
    "# Project Description: Mining Starbucks customer data - predicting offer success\n",
    "\n",
    "**[BLOGPOST](https://gonzalo-munillag.medium.com/starbucks-challenge-accepted-ded225a0867)**\n",
    "\n",
    "## Table of Contents\n",
    "1. [Introduction and motivation](#Introduction_and_motivation)\n",
    "2. [Installation](#Installation)\n",
    "3. [Files in the repository](#files)\n",
    "4. [Results](#Results)\n",
    "5. [Details](#Details)\n",
    "6. [Data Sets](#Data)\n",
    "\n",
    "### Introduction and motivation <a name=\"Introduction_and_motivation\"></a>\n",
    "\n",
    "This project aims to answer a set of questions based on the provided datasets from Starbucks: transactions, customer profiles and offer types. \n",
    "The main question we will ask, and around which the whole project revolves, is:\n",
    "\n",
    "                What is the likelihood that a customer will respond to a certain offer?\n",
    "\n",
    "Other questions to be answered are:\n",
    "\n",
    "About the offers:\n",
    "- Which one is the longest offer duration?\n",
    "- Which one is the most rewarding offer?\n",
    "\n",
    "About the customers:\n",
    "- What is the gender distribution?\n",
    "- How different genders are distributed with respect to income?\n",
    "- How different genders are distributed with respect to age?\n",
    "- What is the distribution of new memberships along time?\n",
    "\n",
    "About the transactions:\n",
    "\n",
    "- Which offers are preferred according to gender?\n",
    "- Which offers are preferred according to income?\n",
    "- Which offers are preferred according to age?\n",
    "- Which offers are preferred according to date of becoming a member?\n",
    "- Which are the most successful offers?\n",
    "- Which are the most profitable offers?\n",
    "- Which are the most profitable offers between informational?\n",
    "- How much money was earned in total with offers Vs. without offers?\n",
    "\n",
    "**The motivation is to improve targeting of offers to Starbucks' customers to increase revenue.**\n",
    "\n",
    "**Process and results presented in this [blogpost](https://gonzalo-munillag.medium.com/starbucks-challenge-accepted-ded225a0867).**\n",
    "\n",
    "We will follow the [CRISP-DM](https://en.wikipedia.org/wiki/Cross-industry_standard_process_for_data_mining) data science process standard for accomplishing the data analysis at hand.\n",
    "\n",
    "### Installation <a name=\"Introduction_and_motivation\"></a>\n",
    "\n",
    "**Packages needed**\n",
    "Wrangling and cleansing: pandas, json, pickle\n",
    "Math: numpy, math, scipy\n",
    "Visualization: matplotlib, IPython, \n",
    "Progress bar: tim, progressbar\n",
    "ML: sklearn\n",
    "\n",
    "### Files in the repository <a name=\"files\"></a>\n",
    "\n",
    "1. data folder:\n",
    "    1.1 portfolio.json - containing offer ids and meta data about each offer (duration, type, etc.)\n",
    "    1.2 profile.json - demographic data for each customer\n",
    "    1.3 transcript.json - records for transactions, offers received, offers viewed, and offers completed\n",
    "2. Starbucks_Capstone_notebook.ipynb: Contains an executable python notebook for your to execute and modify as you wish.\n",
    "3. Starbucks_Capstone_notebook.html: If you are not interested in extending or executing the code yourself, you may open this file and read through the anaylsis.\n",
    "4. Other pickle files saving the datasets and models.\n",
    "\n",
    "### Results <a name=\"Results\"></a>\n",
    "\n",
    "The best model to predict if an offer will be successful is Gradient Boosting.\n",
    "However, 70% is not such a high accuracy, better than human though. \n",
    "Grid search did not show much improvements, so furtehr tunning should be carried out.\n",
    "We saw that the learning rate went from 0.1 to 0.5, while the rest of parameters stayed the same. The enxt logical step would be to try with a learning rate of 0.75 (as 1 was not chosen) and try to change other parameters.\n",
    "\n",
    "\n",
    "### Details <a name=\"Details\"></a>\n",
    "\n",
    "This data set contains simulated data that mimics customer behavior on the Starbucks rewards mobile app. Once every few days, Starbucks sends out an offer to users of the mobile app. An offer can be merely an advertisement for a drink or an actual offer such as a discount or BOGO (buy one get one free). Some users might not receive any offer during certain weeks. \n",
    "\n",
    "Not all users receive the same offer, and that is the challenge to solve with this data set.\n",
    "\n",
    "Your task is to combine transaction, demographic and offer data to determine which demographic groups respond best to which offer type. This data set is a simplified version of the real Starbucks app because the underlying simulator only has one product whereas Starbucks actually sells dozens of products.\n",
    "\n",
    "Every offer has a validity period before the offer expires. As an example, a BOGO offer might be valid for only 5 days. You'll see in the data set that informational offers have a validity period even though these ads are merely providing information about a product; for example, if an informational offer has 7 days of validity, you can assume the customer is feeling the influence of the offer for 7 days after receiving the advertisement.\n",
    "\n",
    "You'll be given transactional data showing user purchases made on the app including the timestamp of purchase and the amount of money spent on a purchase. This transactional data also has a record for each offer that a user receives as well as a record for when a user actually views the offer. There are also records for when a user completes an offer. \n",
    "\n",
    "Keep in mind as well that someone using the app might make a purchase through the app without having received an offer or seen an offer.\n",
    "\n",
    "#### Example\n",
    "\n",
    "To give an example, a user could receive a discount offer buy 10 dollars get 2 off on Monday. The offer is valid for 10 days from receipt. If the customer accumulates at least 10 dollars in purchases during the validity period, the customer completes the offer.\n",
    "\n",
    "However, there are a few things to watch out for in this data set. Customers do not opt into the offers that they receive; in other words, a user can receive an offer, never actually view the offer, and still complete the offer. For example, a user might receive the \"buy 10 dollars get 2 dollars off offer\", but the user never opens the offer during the 10 day validity period. The customer spends 15 dollars during those ten days. There will be an offer completion record in the data set; however, the customer was not influenced by the offer because the customer never viewed the offer.\n",
    "\n",
    "#### Cleaning\n",
    "\n",
    "This makes data cleaning especially important and tricky.\n",
    "\n",
    "You'll also want to take into account that some demographic groups will make purchases even if they don't receive an offer. From a business perspective, if a customer is going to make a 10 dollar purchase without an offer anyway, you wouldn't want to send a buy 10 dollars get 2 dollars off offer. You'll want to try to assess what a certain demographic group will buy when not receiving any offers.\n",
    "\n",
    "####  Advice\n",
    "\n",
    "Because this is a capstone project, you are free to analyze the data any way you see fit. For example, you could build a machine learning model that predicts how much someone will spend based on demographics and offer type. Or you could build a model that predicts whether or not someone will respond to an offer. Or, you don't need to build a machine learning model at all. You could develop a set of heuristics that determine what offer you should send to each customer (i.e., 75 percent of women customers who were 35 years old responded to offer A vs 40 percent from the same demographic to offer B, so send offer A).\n",
    "\n",
    "### Data Sets <a name=\"Data\"></a>\n",
    "\n",
    "This data set contains simulated data that mimics customer behavior on the Starbucks rewards mobile app. Once every few days, Starbucks sends out an offer to users of the mobile app. An offer can be merely an advertisement for a drink or an actual offer such as a discount or BOGO (buy one get one free). Some users might not receive any offer during certain weeks.\n",
    "\n",
    "The data is contained in three files:\n",
    "\n",
    "    portfolio.json - containing offer ids and meta data about each offer (duration, type, etc.)\n",
    "    profile.json - demographic data for each customer\n",
    "    transcript.json - records for transactions, offers received, offers viewed, and offers completed\n",
    "\n",
    "Here is the schema and explanation of each variable in the files:"
   ]
  },
  {
   "cell_type": "markdown",
   "metadata": {},
   "source": [
    "# Mining Starbucks customer data - predicting purchasing likelihood"
   ]
  },
  {
   "cell_type": "markdown",
   "metadata": {},
   "source": [
    "We will follow the [CRISP-DM](https://en.wikipedia.org/wiki/Cross-industry_standard_process_for_data_mining) data science process standard for accomplishing the data anaylsis at hand."
   ]
  },
  {
   "cell_type": "markdown",
   "metadata": {},
   "source": [
    "### 1. Business Understanding"
   ]
  },
  {
   "cell_type": "markdown",
   "metadata": {},
   "source": [
    "The motivation is to improve targeting of offers to Starbucks customers to increase revenue.\n",
    "Our goal therefore is to find a relationship between customers and Starbucks offers based on purchasing patterns from the customers.\n",
    "Thus, we need to understand the customers included in the datasets, identify groups within them, and assign the best matching offers to these groups.\n",
    "Therefore, the main question we should answer is:\n",
    "\n",
    "**What is the likelihood that a customer will respond to a certain offer?**\n",
    "\n",
    "Having a model that predicts a customer's behavior will accomplish the goal of this project.\n",
    "During the data exploration, other questions related to customers and offers will be formulated, as tour understanding of the data will be increased."
   ]
  },
  {
   "cell_type": "markdown",
   "metadata": {},
   "source": [
    "### 2. Data Understanding"
   ]
  },
  {
   "cell_type": "markdown",
   "metadata": {},
   "source": [
    "The goal of data understanding is to have an overview of what is in the datasets and already filter the data we need to answer the main question. \n",
    "After we filter the needed data, we will proceed to wrangle and clean the data to make modelling possible. After wrangling and cleaning, we will explore further the data to extract additional questions we could answer based on its new form."
   ]
  },
  {
   "cell_type": "markdown",
   "metadata": {},
   "source": [
    "### Metrics"
   ]
  },
  {
   "cell_type": "markdown",
   "metadata": {},
   "source": [
    "We first need to define a set of metrics to be able to assess whether an offer suits a particular customer (assesing whether we answered the question correctly with our model).\n",
    "\n",
    "We have a classification problem (customer-offer) and data to train a model. Thus, we we will use supervised learning models and use: \n",
    "1. **Accuracy** (number of correct predictions divided by the total number of predictions), \n",
    "2. **F-Score** with beta=0.5 ((1+beta^2)*Precision*Recall/(beta^2 * (Precision+Recall))) (F-score is used to combine precision (True_Positive/ (True_Positive+ False_Positive)) and recall(True_Positive / (True_Positive + False_Negative))).\n",
    "\n",
    "The data seems balanced, but nonetheless, the F-score might come in handy to choose between top models in case accuracy are similar.\n",
    "\n",
    "Definitions from [Medium blogpost](https://towardsdatascience.com/20-popular-machine-learning-metrics-part-1-classification-regression-evaluation-metrics-1ca3e282a2ce). And for a better understanding on precision and recall, [wikipedia](https://en.wikipedia.org/wiki/Precision_and_recall) does the job great!"
   ]
  },
  {
   "cell_type": "markdown",
   "metadata": {},
   "source": [
    "#### Imports for data handling"
   ]
  },
  {
   "cell_type": "code",
   "execution_count": 1,
   "metadata": {},
   "outputs": [
    {
     "name": "stdout",
     "output_type": "stream",
     "text": [
      "Populating the interactive namespace from numpy and matplotlib\n"
     ]
    }
   ],
   "source": [
    "# Data cleaning and wrangling \n",
    "import pandas as pd\n",
    "import json\n",
    "import pickle\n",
    "\n",
    "# Math\n",
    "import numpy as np\n",
    "import math\n",
    "from scipy.stats import wasserstein_distance\n",
    "\n",
    "# Visualization\n",
    "import matplotlib.pyplot as plt\n",
    "from IPython.display import display, Math, Latex\n",
    "%matplotlib inline\n",
    "%pylab inline\n",
    "\n",
    "# progress bar\n",
    "import progressbar\n",
    "from time import sleep\n",
    "from time import time\n",
    "\n",
    "# ML\n",
    "from sklearn.model_selection import train_test_split\n",
    "\n",
    "# disable warning for mapping\n",
    "pd.options.mode.chained_assignment = None  # default='warn'"
   ]
  },
  {
   "cell_type": "markdown",
   "metadata": {},
   "source": [
    "#### DataSets\n",
    "\n",
    "The data is contained in three files:\n",
    "\n",
    "* portfolio.json - containing offer ids and meta data about each offer (duration, type, etc.)\n",
    "* profile.json - demographic data for each customer\n",
    "* transcript.json - records for transactions, offers received, offers viewed, and offers completed\n"
   ]
  },
  {
   "cell_type": "markdown",
   "metadata": {},
   "source": [
    "#### Offer types: portfolio.json\n",
    "* id (string) - offer id\n",
    "* offer_type (string) - type of offer ie BOGO, discount, informational\n",
    "* difficulty (int) - minimum required spend to complete an offer\n",
    "* reward (int) - reward given for completing an offer\n",
    "* duration (int) - time for offer to be open, in days\n",
    "* channels (list of strings)"
   ]
  },
  {
   "cell_type": "code",
   "execution_count": 2,
   "metadata": {},
   "outputs": [],
   "source": [
    "# read in the json files\n",
    "portfolio = pd.read_json('data/portfolio.json', orient='records', lines=True)"
   ]
  },
  {
   "cell_type": "code",
   "execution_count": 3,
   "metadata": {},
   "outputs": [
    {
     "data": {
      "text/html": [
       "<div>\n",
       "<style scoped>\n",
       "    .dataframe tbody tr th:only-of-type {\n",
       "        vertical-align: middle;\n",
       "    }\n",
       "\n",
       "    .dataframe tbody tr th {\n",
       "        vertical-align: top;\n",
       "    }\n",
       "\n",
       "    .dataframe thead th {\n",
       "        text-align: right;\n",
       "    }\n",
       "</style>\n",
       "<table border=\"1\" class=\"dataframe\">\n",
       "  <thead>\n",
       "    <tr style=\"text-align: right;\">\n",
       "      <th></th>\n",
       "      <th>reward</th>\n",
       "      <th>channels</th>\n",
       "      <th>difficulty</th>\n",
       "      <th>duration</th>\n",
       "      <th>offer_type</th>\n",
       "      <th>id</th>\n",
       "    </tr>\n",
       "  </thead>\n",
       "  <tbody>\n",
       "    <tr>\n",
       "      <th>0</th>\n",
       "      <td>10</td>\n",
       "      <td>[email, mobile, social]</td>\n",
       "      <td>10</td>\n",
       "      <td>7</td>\n",
       "      <td>bogo</td>\n",
       "      <td>ae264e3637204a6fb9bb56bc8210ddfd</td>\n",
       "    </tr>\n",
       "    <tr>\n",
       "      <th>1</th>\n",
       "      <td>10</td>\n",
       "      <td>[web, email, mobile, social]</td>\n",
       "      <td>10</td>\n",
       "      <td>5</td>\n",
       "      <td>bogo</td>\n",
       "      <td>4d5c57ea9a6940dd891ad53e9dbe8da0</td>\n",
       "    </tr>\n",
       "    <tr>\n",
       "      <th>2</th>\n",
       "      <td>0</td>\n",
       "      <td>[web, email, mobile]</td>\n",
       "      <td>0</td>\n",
       "      <td>4</td>\n",
       "      <td>informational</td>\n",
       "      <td>3f207df678b143eea3cee63160fa8bed</td>\n",
       "    </tr>\n",
       "    <tr>\n",
       "      <th>3</th>\n",
       "      <td>5</td>\n",
       "      <td>[web, email, mobile]</td>\n",
       "      <td>5</td>\n",
       "      <td>7</td>\n",
       "      <td>bogo</td>\n",
       "      <td>9b98b8c7a33c4b65b9aebfe6a799e6d9</td>\n",
       "    </tr>\n",
       "    <tr>\n",
       "      <th>4</th>\n",
       "      <td>5</td>\n",
       "      <td>[web, email]</td>\n",
       "      <td>20</td>\n",
       "      <td>10</td>\n",
       "      <td>discount</td>\n",
       "      <td>0b1e1539f2cc45b7b9fa7c272da2e1d7</td>\n",
       "    </tr>\n",
       "    <tr>\n",
       "      <th>5</th>\n",
       "      <td>3</td>\n",
       "      <td>[web, email, mobile, social]</td>\n",
       "      <td>7</td>\n",
       "      <td>7</td>\n",
       "      <td>discount</td>\n",
       "      <td>2298d6c36e964ae4a3e7e9706d1fb8c2</td>\n",
       "    </tr>\n",
       "    <tr>\n",
       "      <th>6</th>\n",
       "      <td>2</td>\n",
       "      <td>[web, email, mobile, social]</td>\n",
       "      <td>10</td>\n",
       "      <td>10</td>\n",
       "      <td>discount</td>\n",
       "      <td>fafdcd668e3743c1bb461111dcafc2a4</td>\n",
       "    </tr>\n",
       "    <tr>\n",
       "      <th>7</th>\n",
       "      <td>0</td>\n",
       "      <td>[email, mobile, social]</td>\n",
       "      <td>0</td>\n",
       "      <td>3</td>\n",
       "      <td>informational</td>\n",
       "      <td>5a8bc65990b245e5a138643cd4eb9837</td>\n",
       "    </tr>\n",
       "    <tr>\n",
       "      <th>8</th>\n",
       "      <td>5</td>\n",
       "      <td>[web, email, mobile, social]</td>\n",
       "      <td>5</td>\n",
       "      <td>5</td>\n",
       "      <td>bogo</td>\n",
       "      <td>f19421c1d4aa40978ebb69ca19b0e20d</td>\n",
       "    </tr>\n",
       "    <tr>\n",
       "      <th>9</th>\n",
       "      <td>2</td>\n",
       "      <td>[web, email, mobile]</td>\n",
       "      <td>10</td>\n",
       "      <td>7</td>\n",
       "      <td>discount</td>\n",
       "      <td>2906b810c7d4411798c6938adc9daaa5</td>\n",
       "    </tr>\n",
       "  </tbody>\n",
       "</table>\n",
       "</div>"
      ],
      "text/plain": [
       "   reward                      channels  difficulty  duration     offer_type  \\\n",
       "0      10       [email, mobile, social]          10         7           bogo   \n",
       "1      10  [web, email, mobile, social]          10         5           bogo   \n",
       "2       0          [web, email, mobile]           0         4  informational   \n",
       "3       5          [web, email, mobile]           5         7           bogo   \n",
       "4       5                  [web, email]          20        10       discount   \n",
       "5       3  [web, email, mobile, social]           7         7       discount   \n",
       "6       2  [web, email, mobile, social]          10        10       discount   \n",
       "7       0       [email, mobile, social]           0         3  informational   \n",
       "8       5  [web, email, mobile, social]           5         5           bogo   \n",
       "9       2          [web, email, mobile]          10         7       discount   \n",
       "\n",
       "                                 id  \n",
       "0  ae264e3637204a6fb9bb56bc8210ddfd  \n",
       "1  4d5c57ea9a6940dd891ad53e9dbe8da0  \n",
       "2  3f207df678b143eea3cee63160fa8bed  \n",
       "3  9b98b8c7a33c4b65b9aebfe6a799e6d9  \n",
       "4  0b1e1539f2cc45b7b9fa7c272da2e1d7  \n",
       "5  2298d6c36e964ae4a3e7e9706d1fb8c2  \n",
       "6  fafdcd668e3743c1bb461111dcafc2a4  \n",
       "7  5a8bc65990b245e5a138643cd4eb9837  \n",
       "8  f19421c1d4aa40978ebb69ca19b0e20d  \n",
       "9  2906b810c7d4411798c6938adc9daaa5  "
      ]
     },
     "execution_count": 3,
     "metadata": {},
     "output_type": "execute_result"
    }
   ],
   "source": [
    "portfolio"
   ]
  },
  {
   "cell_type": "code",
   "execution_count": 4,
   "metadata": {},
   "outputs": [
    {
     "name": "stdout",
     "output_type": "stream",
     "text": [
      "Size: 60 Shape: (10, 6)\n",
      "\n",
      "\n",
      "Portfolio Information\n",
      "<class 'pandas.core.frame.DataFrame'>\n",
      "RangeIndex: 10 entries, 0 to 9\n",
      "Data columns (total 6 columns):\n",
      " #   Column      Non-Null Count  Dtype \n",
      "---  ------      --------------  ----- \n",
      " 0   reward      10 non-null     int64 \n",
      " 1   channels    10 non-null     object\n",
      " 2   difficulty  10 non-null     int64 \n",
      " 3   duration    10 non-null     int64 \n",
      " 4   offer_type  10 non-null     object\n",
      " 5   id          10 non-null     object\n",
      "dtypes: int64(3), object(3)\n",
      "memory usage: 608.0+ bytes\n",
      "None\n",
      "\n",
      "\n",
      "Null values [%]\n",
      "reward        0.0\n",
      "channels      0.0\n",
      "difficulty    0.0\n",
      "duration      0.0\n",
      "offer_type    0.0\n",
      "id            0.0\n",
      "dtype: float64\n",
      "\n",
      "\n",
      "Duplicated values\n",
      "0\n",
      "\n",
      "\n",
      "Portfolio Description\n",
      "          reward  difficulty   duration\n",
      "count  10.000000   10.000000  10.000000\n",
      "mean    4.200000    7.700000   6.500000\n",
      "std     3.583915    5.831905   2.321398\n",
      "min     0.000000    0.000000   3.000000\n",
      "25%     2.000000    5.000000   5.000000\n",
      "50%     4.000000    8.500000   7.000000\n",
      "75%     5.000000   10.000000   7.000000\n",
      "max    10.000000   20.000000  10.000000\n",
      "\n",
      "\n",
      "Skewness:  reward        0.665459\n",
      "difficulty    0.669945\n",
      "duration      0.233151\n",
      "dtype: float64\n"
     ]
    }
   ],
   "source": [
    "print('Size:', portfolio.size, 'Shape:', portfolio.shape)\n",
    "print('\\n')\n",
    "print('Portfolio Information')\n",
    "print(portfolio.info())\n",
    "print('\\n')\n",
    "print('Null values [%]')\n",
    "print(portfolio.isnull().sum()/portfolio.shape[0])\n",
    "print('\\n')\n",
    "print('Duplicated values')\n",
    "# We first need toconvert the channels attribute temporaly to a string insead of a list of strings. Otherwsie \"unhashable\"\n",
    "df_temp = portfolio\n",
    "df_temp = df_temp.astype({\"channels\": str})\n",
    "print(df_temp.duplicated().sum())\n",
    "print('\\n')\n",
    "print('Portfolio Description')\n",
    "print(portfolio.describe())\n",
    "print('\\n')\n",
    "print('Skewness: ', portfolio.skew())"
   ]
  },
  {
   "cell_type": "markdown",
   "metadata": {},
   "source": [
    "1. There are 10 types of offers for one product (as specified in the descrition) and are characterized by 6 attributes.\n",
    "2. They are a mixture of integers (3) and strings (2) and arrays of strings (1).\n",
    "3. There are no null values.\n",
    "4. The offers have an average reward of 4, a duration of 6.5 days and a difficulty of 7.7.\n",
    "5. The domain of the integer attributes is small (0-20).\n",
    "6. The median (50% percentile) is not too far from the mean, thus, the integer columms should be somewhat balanced.\n",
    "7. Cross checking with the skewness, we see that duration is balanced, while reward and difficulty are somwhat inbalance, but it is not extreme whatsoever. \n",
    "8. It is a very small datasets interms of bytes.\n",
    "9. We clearly see the types of categories that channels and offer_type have. \n",
    "10. There are no duplicated values"
   ]
  },
  {
   "cell_type": "markdown",
   "metadata": {},
   "source": [
    "To answer the proposed question, we need every data point of this dataset, as it characterizes all types of offers."
   ]
  },
  {
   "cell_type": "markdown",
   "metadata": {},
   "source": [
    "#### Customer demographics: profile.json\n",
    "* age (int) - age of the customer \n",
    "* became_member_on (int) - date when customer created an app account\n",
    "* gender (str) - gender of the customer (note some entries contain 'O' for other rather than M or F)\n",
    "* id (str) - customer id\n",
    "* income (float) - customer's income\n"
   ]
  },
  {
   "cell_type": "code",
   "execution_count": 5,
   "metadata": {},
   "outputs": [],
   "source": [
    "# read in the json files\n",
    "profile = pd.read_json('data/profile.json', orient='records', lines=True)"
   ]
  },
  {
   "cell_type": "code",
   "execution_count": 6,
   "metadata": {},
   "outputs": [
    {
     "data": {
      "text/html": [
       "<div>\n",
       "<style scoped>\n",
       "    .dataframe tbody tr th:only-of-type {\n",
       "        vertical-align: middle;\n",
       "    }\n",
       "\n",
       "    .dataframe tbody tr th {\n",
       "        vertical-align: top;\n",
       "    }\n",
       "\n",
       "    .dataframe thead th {\n",
       "        text-align: right;\n",
       "    }\n",
       "</style>\n",
       "<table border=\"1\" class=\"dataframe\">\n",
       "  <thead>\n",
       "    <tr style=\"text-align: right;\">\n",
       "      <th></th>\n",
       "      <th>gender</th>\n",
       "      <th>age</th>\n",
       "      <th>id</th>\n",
       "      <th>became_member_on</th>\n",
       "      <th>income</th>\n",
       "    </tr>\n",
       "  </thead>\n",
       "  <tbody>\n",
       "    <tr>\n",
       "      <th>0</th>\n",
       "      <td>None</td>\n",
       "      <td>118</td>\n",
       "      <td>68be06ca386d4c31939f3a4f0e3dd783</td>\n",
       "      <td>20170212</td>\n",
       "      <td>NaN</td>\n",
       "    </tr>\n",
       "    <tr>\n",
       "      <th>1</th>\n",
       "      <td>F</td>\n",
       "      <td>55</td>\n",
       "      <td>0610b486422d4921ae7d2bf64640c50b</td>\n",
       "      <td>20170715</td>\n",
       "      <td>112000.0</td>\n",
       "    </tr>\n",
       "    <tr>\n",
       "      <th>2</th>\n",
       "      <td>None</td>\n",
       "      <td>118</td>\n",
       "      <td>38fe809add3b4fcf9315a9694bb96ff5</td>\n",
       "      <td>20180712</td>\n",
       "      <td>NaN</td>\n",
       "    </tr>\n",
       "    <tr>\n",
       "      <th>3</th>\n",
       "      <td>F</td>\n",
       "      <td>75</td>\n",
       "      <td>78afa995795e4d85b5d9ceeca43f5fef</td>\n",
       "      <td>20170509</td>\n",
       "      <td>100000.0</td>\n",
       "    </tr>\n",
       "    <tr>\n",
       "      <th>4</th>\n",
       "      <td>None</td>\n",
       "      <td>118</td>\n",
       "      <td>a03223e636434f42ac4c3df47e8bac43</td>\n",
       "      <td>20170804</td>\n",
       "      <td>NaN</td>\n",
       "    </tr>\n",
       "  </tbody>\n",
       "</table>\n",
       "</div>"
      ],
      "text/plain": [
       "  gender  age                                id  became_member_on    income\n",
       "0   None  118  68be06ca386d4c31939f3a4f0e3dd783          20170212       NaN\n",
       "1      F   55  0610b486422d4921ae7d2bf64640c50b          20170715  112000.0\n",
       "2   None  118  38fe809add3b4fcf9315a9694bb96ff5          20180712       NaN\n",
       "3      F   75  78afa995795e4d85b5d9ceeca43f5fef          20170509  100000.0\n",
       "4   None  118  a03223e636434f42ac4c3df47e8bac43          20170804       NaN"
      ]
     },
     "execution_count": 6,
     "metadata": {},
     "output_type": "execute_result"
    }
   ],
   "source": [
    "profile.head()"
   ]
  },
  {
   "cell_type": "code",
   "execution_count": 7,
   "metadata": {},
   "outputs": [
    {
     "name": "stdout",
     "output_type": "stream",
     "text": [
      "Size: 85000 Shape: (17000, 5)\n",
      "\n",
      "\n",
      "Portfolio Information\n",
      "<class 'pandas.core.frame.DataFrame'>\n",
      "RangeIndex: 17000 entries, 0 to 16999\n",
      "Data columns (total 5 columns):\n",
      " #   Column            Non-Null Count  Dtype  \n",
      "---  ------            --------------  -----  \n",
      " 0   gender            14825 non-null  object \n",
      " 1   age               17000 non-null  int64  \n",
      " 2   id                17000 non-null  object \n",
      " 3   became_member_on  17000 non-null  int64  \n",
      " 4   income            14825 non-null  float64\n",
      "dtypes: float64(1), int64(2), object(2)\n",
      "memory usage: 664.2+ KB\n",
      "None\n",
      "\n",
      "\n",
      "Null values [%]\n",
      "gender              0.127941\n",
      "age                 0.000000\n",
      "id                  0.000000\n",
      "became_member_on    0.000000\n",
      "income              0.127941\n",
      "dtype: float64\n",
      "\n",
      "\n",
      "Duplicated values\n",
      "0\n",
      "\n",
      "\n",
      "Portfolio Description\n",
      "                age  became_member_on         income\n",
      "count  17000.000000      1.700000e+04   14825.000000\n",
      "mean      62.531412      2.016703e+07   65404.991568\n",
      "std       26.738580      1.167750e+04   21598.299410\n",
      "min       18.000000      2.013073e+07   30000.000000\n",
      "25%       45.000000      2.016053e+07   49000.000000\n",
      "50%       58.000000      2.017080e+07   64000.000000\n",
      "75%       73.000000      2.017123e+07   80000.000000\n",
      "max      118.000000      2.018073e+07  120000.000000\n",
      "\n",
      "\n",
      "Skewness:  age                 0.761858\n",
      "became_member_on   -0.900457\n",
      "income              0.402005\n",
      "dtype: float64\n"
     ]
    }
   ],
   "source": [
    "print('Size:', profile.size, 'Shape:', profile.shape)\n",
    "print('\\n')\n",
    "print('Portfolio Information')\n",
    "print(profile.info())\n",
    "print('\\n')\n",
    "print('Null values [%]')\n",
    "print(profile.isnull().sum()/profile.shape[0])\n",
    "print('\\n')\n",
    "print('Duplicated values')\n",
    "print(profile.duplicated().sum())\n",
    "print('\\n')\n",
    "print('Portfolio Description')\n",
    "print(profile.describe())\n",
    "print('\\n')\n",
    "print('Skewness: ', profile.skew())"
   ]
  },
  {
   "cell_type": "markdown",
   "metadata": {},
   "source": [
    "1. There are 17000 customer records (one per customer) and there are 5 attributes to charaterize each.\n",
    "2. They are a mixture of numeric values (2 ints and a float) and strings (2).\n",
    "3. There are some null values in gender and their income. The number is the same, so most probably they are paired in the same record. ~13% is not a considerable value but nonetheless, we will consider them as part of the analysis, and see if this group of people that do not share the gender have a particular preference for a type of offer. It is also interesting to see that these values apparently have an age of 118, therefore something wnet wrong on collection.\n",
    "4. The average salary \n",
    "5. The domain of the integer attributes is reasonable ,being the highest for the income column.\n",
    "6. The median (50% percentile) is not too far from the mean, thus, the integer columms should be somewhat balanced.\n",
    "7. Cross checking with the skewness, we see that income is balanced, while age and became_member_on are somwhat inbalance, but it is not extreme whatsoever. \n",
    "8. It is a relatively small dataset in terms of bytes.\n",
    "9. no duplicated values"
   ]
  },
  {
   "cell_type": "markdown",
   "metadata": {},
   "source": [
    "As noted for the previous dataset, it is clear that we will need all these data to cluster customers and find their best fitting offer matches."
   ]
  },
  {
   "cell_type": "markdown",
   "metadata": {},
   "source": [
    "#### Transactions: transcript.json\n",
    "* event (str) - record description (ie transaction, offer received, offer viewed, etc.)\n",
    "* person (str) - customer id\n",
    "* time (int) - time in hours since start of test. The data begins at time t=0\n",
    "* value - (dict of strings) - either an offer id or transaction amount depending on the record"
   ]
  },
  {
   "cell_type": "code",
   "execution_count": 8,
   "metadata": {},
   "outputs": [],
   "source": [
    "# read in the json files\n",
    "transcript = pd.read_json('data/transcript.json', orient='records', lines=True)"
   ]
  },
  {
   "cell_type": "code",
   "execution_count": 9,
   "metadata": {},
   "outputs": [
    {
     "data": {
      "text/html": [
       "<div>\n",
       "<style scoped>\n",
       "    .dataframe tbody tr th:only-of-type {\n",
       "        vertical-align: middle;\n",
       "    }\n",
       "\n",
       "    .dataframe tbody tr th {\n",
       "        vertical-align: top;\n",
       "    }\n",
       "\n",
       "    .dataframe thead th {\n",
       "        text-align: right;\n",
       "    }\n",
       "</style>\n",
       "<table border=\"1\" class=\"dataframe\">\n",
       "  <thead>\n",
       "    <tr style=\"text-align: right;\">\n",
       "      <th></th>\n",
       "      <th>person</th>\n",
       "      <th>event</th>\n",
       "      <th>value</th>\n",
       "      <th>time</th>\n",
       "    </tr>\n",
       "  </thead>\n",
       "  <tbody>\n",
       "    <tr>\n",
       "      <th>0</th>\n",
       "      <td>78afa995795e4d85b5d9ceeca43f5fef</td>\n",
       "      <td>offer received</td>\n",
       "      <td>{'offer id': '9b98b8c7a33c4b65b9aebfe6a799e6d9'}</td>\n",
       "      <td>0</td>\n",
       "    </tr>\n",
       "    <tr>\n",
       "      <th>1</th>\n",
       "      <td>a03223e636434f42ac4c3df47e8bac43</td>\n",
       "      <td>offer received</td>\n",
       "      <td>{'offer id': '0b1e1539f2cc45b7b9fa7c272da2e1d7'}</td>\n",
       "      <td>0</td>\n",
       "    </tr>\n",
       "    <tr>\n",
       "      <th>2</th>\n",
       "      <td>e2127556f4f64592b11af22de27a7932</td>\n",
       "      <td>offer received</td>\n",
       "      <td>{'offer id': '2906b810c7d4411798c6938adc9daaa5'}</td>\n",
       "      <td>0</td>\n",
       "    </tr>\n",
       "    <tr>\n",
       "      <th>3</th>\n",
       "      <td>8ec6ce2a7e7949b1bf142def7d0e0586</td>\n",
       "      <td>offer received</td>\n",
       "      <td>{'offer id': 'fafdcd668e3743c1bb461111dcafc2a4'}</td>\n",
       "      <td>0</td>\n",
       "    </tr>\n",
       "    <tr>\n",
       "      <th>4</th>\n",
       "      <td>68617ca6246f4fbc85e91a2a49552598</td>\n",
       "      <td>offer received</td>\n",
       "      <td>{'offer id': '4d5c57ea9a6940dd891ad53e9dbe8da0'}</td>\n",
       "      <td>0</td>\n",
       "    </tr>\n",
       "  </tbody>\n",
       "</table>\n",
       "</div>"
      ],
      "text/plain": [
       "                             person           event  \\\n",
       "0  78afa995795e4d85b5d9ceeca43f5fef  offer received   \n",
       "1  a03223e636434f42ac4c3df47e8bac43  offer received   \n",
       "2  e2127556f4f64592b11af22de27a7932  offer received   \n",
       "3  8ec6ce2a7e7949b1bf142def7d0e0586  offer received   \n",
       "4  68617ca6246f4fbc85e91a2a49552598  offer received   \n",
       "\n",
       "                                              value  time  \n",
       "0  {'offer id': '9b98b8c7a33c4b65b9aebfe6a799e6d9'}     0  \n",
       "1  {'offer id': '0b1e1539f2cc45b7b9fa7c272da2e1d7'}     0  \n",
       "2  {'offer id': '2906b810c7d4411798c6938adc9daaa5'}     0  \n",
       "3  {'offer id': 'fafdcd668e3743c1bb461111dcafc2a4'}     0  \n",
       "4  {'offer id': '4d5c57ea9a6940dd891ad53e9dbe8da0'}     0  "
      ]
     },
     "execution_count": 9,
     "metadata": {},
     "output_type": "execute_result"
    }
   ],
   "source": [
    "transcript.head()"
   ]
  },
  {
   "cell_type": "code",
   "execution_count": 10,
   "metadata": {},
   "outputs": [
    {
     "name": "stdout",
     "output_type": "stream",
     "text": [
      "Size: 1226136 Shape: (306534, 4)\n",
      "\n",
      "\n",
      "Portfolio Information\n",
      "<class 'pandas.core.frame.DataFrame'>\n",
      "RangeIndex: 306534 entries, 0 to 306533\n",
      "Data columns (total 4 columns):\n",
      " #   Column  Non-Null Count   Dtype \n",
      "---  ------  --------------   ----- \n",
      " 0   person  306534 non-null  object\n",
      " 1   event   306534 non-null  object\n",
      " 2   value   306534 non-null  object\n",
      " 3   time    306534 non-null  int64 \n",
      "dtypes: int64(1), object(3)\n",
      "memory usage: 9.4+ MB\n",
      "None\n",
      "\n",
      "\n",
      "Null values [%]\n",
      "person    0.0\n",
      "event     0.0\n",
      "value     0.0\n",
      "time      0.0\n",
      "dtype: float64\n",
      "\n",
      "\n",
      "Duplicated values\n",
      "0\n",
      "\n",
      "\n",
      "Portfolio Description\n",
      "                time\n",
      "count  306534.000000\n",
      "mean      366.382940\n",
      "std       200.326314\n",
      "min         0.000000\n",
      "25%       186.000000\n",
      "50%       408.000000\n",
      "75%       528.000000\n",
      "max       714.000000\n",
      "\n",
      "\n",
      "Skewness:  time   -0.318927\n",
      "dtype: float64\n"
     ]
    }
   ],
   "source": [
    "print('Size:', transcript.size, 'Shape:', transcript.shape)\n",
    "print('\\n')\n",
    "print('Portfolio Information')\n",
    "print(transcript.info())\n",
    "print('\\n')\n",
    "print('Null values [%]')\n",
    "print(transcript.isnull().sum()/transcript.shape[0])\n",
    "print('\\n')\n",
    "print('Duplicated values')\n",
    "print(profile.duplicated().sum())\n",
    "print('\\n')\n",
    "print('Portfolio Description')\n",
    "print(transcript.describe())\n",
    "print('\\n')\n",
    "print('Skewness: ', transcript.skew())"
   ]
  },
  {
   "cell_type": "markdown",
   "metadata": {},
   "source": [
    "1. There are 1226136 transactions recorded in the dataset.\n",
    "2. Teh attributes are strings, and one int.\n",
    "3. There are no null values.\n",
    "4. The domain for time is around 30 days, which is larger than the highest duration of the offer, which is 10. this indicates that we are also measuring pruchases past the offer time.  \n",
    "5. The time attribute is balanced.\n",
    "8. It is a mediun size dataset in terms of bytes, much larger if compared to the rest of the datasets.\n",
    "7. No duplicated values"
   ]
  },
  {
   "cell_type": "markdown",
   "metadata": {},
   "source": [
    "Let us check the category types of event, as they are not compeltly described in the project description."
   ]
  },
  {
   "cell_type": "code",
   "execution_count": 11,
   "metadata": {},
   "outputs": [
    {
     "data": {
      "text/plain": [
       "array(['offer received', 'offer viewed', 'transaction', 'offer completed'],\n",
       "      dtype=object)"
      ]
     },
     "execution_count": 11,
     "metadata": {},
     "output_type": "execute_result"
    }
   ],
   "source": [
    "transcript['event'].unique()"
   ]
  },
  {
   "cell_type": "markdown",
   "metadata": {},
   "source": [
    "The chronological order therefore would be:\n",
    "1. offer received\n",
    "2. offer viewed\n",
    "3. transaction\n",
    "4. offer completed"
   ]
  },
  {
   "cell_type": "markdown",
   "metadata": {},
   "source": [
    "With respect to 'value', we will need to clean the data to extact more information. But the amount is most probably attached when the event is 'transaction' and an offer 'id' otherwise."
   ]
  },
  {
   "cell_type": "markdown",
   "metadata": {},
   "source": [
    "As with the rest of datasets, we need all information from this one as wel in order to answer the main question."
   ]
  },
  {
   "cell_type": "markdown",
   "metadata": {},
   "source": [
    "#### Overall Observations"
   ]
  },
  {
   "cell_type": "markdown",
   "metadata": {},
   "source": [
    "Looking how we need all data points for answering our question (there is no attribute that we could delete without further knowledge), and that everything has the potential to be correlated, we will merge the 3 datasets into one after wrangling and cleaning."
   ]
  },
  {
   "cell_type": "markdown",
   "metadata": {},
   "source": [
    "### 3. Data Preparation "
   ]
  },
  {
   "cell_type": "markdown",
   "metadata": {},
   "source": [
    "We will follow [Tidy Data from Hadley Wickham](https://vita.had.co.nz/papers/tidy-data.pdf) to prepare the datasets."
   ]
  },
  {
   "cell_type": "markdown",
   "metadata": {},
   "source": [
    "We will visualize further each dataset and come up with further questions that we also could answer. We will also indicate the data we need to answer each. There will be an exploration section after wrangling and cleansing."
   ]
  },
  {
   "cell_type": "markdown",
   "metadata": {},
   "source": [
    "#### PORTFOLIO"
   ]
  },
  {
   "cell_type": "code",
   "execution_count": 12,
   "metadata": {},
   "outputs": [
    {
     "data": {
      "text/html": [
       "<div>\n",
       "<style scoped>\n",
       "    .dataframe tbody tr th:only-of-type {\n",
       "        vertical-align: middle;\n",
       "    }\n",
       "\n",
       "    .dataframe tbody tr th {\n",
       "        vertical-align: top;\n",
       "    }\n",
       "\n",
       "    .dataframe thead th {\n",
       "        text-align: right;\n",
       "    }\n",
       "</style>\n",
       "<table border=\"1\" class=\"dataframe\">\n",
       "  <thead>\n",
       "    <tr style=\"text-align: right;\">\n",
       "      <th></th>\n",
       "      <th>reward</th>\n",
       "      <th>channels</th>\n",
       "      <th>difficulty</th>\n",
       "      <th>duration</th>\n",
       "      <th>offer_type</th>\n",
       "      <th>id</th>\n",
       "    </tr>\n",
       "  </thead>\n",
       "  <tbody>\n",
       "    <tr>\n",
       "      <th>0</th>\n",
       "      <td>10</td>\n",
       "      <td>[email, mobile, social]</td>\n",
       "      <td>10</td>\n",
       "      <td>7</td>\n",
       "      <td>bogo</td>\n",
       "      <td>ae264e3637204a6fb9bb56bc8210ddfd</td>\n",
       "    </tr>\n",
       "    <tr>\n",
       "      <th>1</th>\n",
       "      <td>10</td>\n",
       "      <td>[web, email, mobile, social]</td>\n",
       "      <td>10</td>\n",
       "      <td>5</td>\n",
       "      <td>bogo</td>\n",
       "      <td>4d5c57ea9a6940dd891ad53e9dbe8da0</td>\n",
       "    </tr>\n",
       "    <tr>\n",
       "      <th>2</th>\n",
       "      <td>0</td>\n",
       "      <td>[web, email, mobile]</td>\n",
       "      <td>0</td>\n",
       "      <td>4</td>\n",
       "      <td>informational</td>\n",
       "      <td>3f207df678b143eea3cee63160fa8bed</td>\n",
       "    </tr>\n",
       "    <tr>\n",
       "      <th>3</th>\n",
       "      <td>5</td>\n",
       "      <td>[web, email, mobile]</td>\n",
       "      <td>5</td>\n",
       "      <td>7</td>\n",
       "      <td>bogo</td>\n",
       "      <td>9b98b8c7a33c4b65b9aebfe6a799e6d9</td>\n",
       "    </tr>\n",
       "    <tr>\n",
       "      <th>4</th>\n",
       "      <td>5</td>\n",
       "      <td>[web, email]</td>\n",
       "      <td>20</td>\n",
       "      <td>10</td>\n",
       "      <td>discount</td>\n",
       "      <td>0b1e1539f2cc45b7b9fa7c272da2e1d7</td>\n",
       "    </tr>\n",
       "    <tr>\n",
       "      <th>5</th>\n",
       "      <td>3</td>\n",
       "      <td>[web, email, mobile, social]</td>\n",
       "      <td>7</td>\n",
       "      <td>7</td>\n",
       "      <td>discount</td>\n",
       "      <td>2298d6c36e964ae4a3e7e9706d1fb8c2</td>\n",
       "    </tr>\n",
       "    <tr>\n",
       "      <th>6</th>\n",
       "      <td>2</td>\n",
       "      <td>[web, email, mobile, social]</td>\n",
       "      <td>10</td>\n",
       "      <td>10</td>\n",
       "      <td>discount</td>\n",
       "      <td>fafdcd668e3743c1bb461111dcafc2a4</td>\n",
       "    </tr>\n",
       "    <tr>\n",
       "      <th>7</th>\n",
       "      <td>0</td>\n",
       "      <td>[email, mobile, social]</td>\n",
       "      <td>0</td>\n",
       "      <td>3</td>\n",
       "      <td>informational</td>\n",
       "      <td>5a8bc65990b245e5a138643cd4eb9837</td>\n",
       "    </tr>\n",
       "    <tr>\n",
       "      <th>8</th>\n",
       "      <td>5</td>\n",
       "      <td>[web, email, mobile, social]</td>\n",
       "      <td>5</td>\n",
       "      <td>5</td>\n",
       "      <td>bogo</td>\n",
       "      <td>f19421c1d4aa40978ebb69ca19b0e20d</td>\n",
       "    </tr>\n",
       "    <tr>\n",
       "      <th>9</th>\n",
       "      <td>2</td>\n",
       "      <td>[web, email, mobile]</td>\n",
       "      <td>10</td>\n",
       "      <td>7</td>\n",
       "      <td>discount</td>\n",
       "      <td>2906b810c7d4411798c6938adc9daaa5</td>\n",
       "    </tr>\n",
       "  </tbody>\n",
       "</table>\n",
       "</div>"
      ],
      "text/plain": [
       "   reward                      channels  difficulty  duration     offer_type  \\\n",
       "0      10       [email, mobile, social]          10         7           bogo   \n",
       "1      10  [web, email, mobile, social]          10         5           bogo   \n",
       "2       0          [web, email, mobile]           0         4  informational   \n",
       "3       5          [web, email, mobile]           5         7           bogo   \n",
       "4       5                  [web, email]          20        10       discount   \n",
       "5       3  [web, email, mobile, social]           7         7       discount   \n",
       "6       2  [web, email, mobile, social]          10        10       discount   \n",
       "7       0       [email, mobile, social]           0         3  informational   \n",
       "8       5  [web, email, mobile, social]           5         5           bogo   \n",
       "9       2          [web, email, mobile]          10         7       discount   \n",
       "\n",
       "                                 id  \n",
       "0  ae264e3637204a6fb9bb56bc8210ddfd  \n",
       "1  4d5c57ea9a6940dd891ad53e9dbe8da0  \n",
       "2  3f207df678b143eea3cee63160fa8bed  \n",
       "3  9b98b8c7a33c4b65b9aebfe6a799e6d9  \n",
       "4  0b1e1539f2cc45b7b9fa7c272da2e1d7  \n",
       "5  2298d6c36e964ae4a3e7e9706d1fb8c2  \n",
       "6  fafdcd668e3743c1bb461111dcafc2a4  \n",
       "7  5a8bc65990b245e5a138643cd4eb9837  \n",
       "8  f19421c1d4aa40978ebb69ca19b0e20d  \n",
       "9  2906b810c7d4411798c6938adc9daaa5  "
      ]
     },
     "execution_count": 12,
     "metadata": {},
     "output_type": "execute_result"
    }
   ],
   "source": [
    "portfolio = pd.read_json('data/portfolio.json', orient='records', lines=True)\n",
    "portfolio"
   ]
  },
  {
   "cell_type": "markdown",
   "metadata": {},
   "source": [
    "#### Data wrangling"
   ]
  },
  {
   "cell_type": "markdown",
   "metadata": {},
   "source": [
    "1. reward: no change\n",
    "2. Channels: create 4 new columns with binary values for the training of the model\n",
    "3. difficulty: no change\n",
    "4. duration: change to hours to be on the same units as the other dataset\n",
    "5. offer_type: reate 3 new columns with binary values ofr the trainig of the model\n",
    "6. id: Convert it into an increasing integer ID for easier representation later\n",
    "\n",
    "It is common to all that for better understand-ability, we will rename the attributes in a way that we can know the units of the column and that we can link the datasets as we already surmised."
   ]
  },
  {
   "cell_type": "markdown",
   "metadata": {},
   "source": [
    "###### Rename columns"
   ]
  },
  {
   "cell_type": "code",
   "execution_count": 13,
   "metadata": {},
   "outputs": [],
   "source": [
    "# Renaming columns\n",
    "portfolio.columns = ['reward_[$]', 'channels', 'difficulty_[$]', 'duration_[h]', 'offer_type', 'offer_id']"
   ]
  },
  {
   "cell_type": "markdown",
   "metadata": {},
   "source": [
    "###### convert to hours the duration column"
   ]
  },
  {
   "cell_type": "code",
   "execution_count": 14,
   "metadata": {},
   "outputs": [],
   "source": [
    "portfolio['duration_[h]'] = portfolio['duration_[h]'].apply(lambda x: x * 24)"
   ]
  },
  {
   "cell_type": "markdown",
   "metadata": {},
   "source": [
    "###### Rename the offer ids"
   ]
  },
  {
   "cell_type": "code",
   "execution_count": 15,
   "metadata": {},
   "outputs": [],
   "source": [
    "# We create a dictionary with offer ids we will need to save for later use\n",
    "offer_id_dict = portfolio['offer_id'].to_dict()\n",
    "\n",
    "# We invert the key-value pairs so the hash is in the key position\n",
    "offer_id_dict = {v: k for k, v in offer_id_dict.items()}\n",
    "\n",
    "# We save it as a pickle file\n",
    "with open('offer_id_dict.pickle', 'wb') as handle:\n",
    "    pickle.dump(offer_id_dict, handle, protocol=pickle.HIGHEST_PROTOCOL)\n",
    "    "
   ]
  },
  {
   "cell_type": "code",
   "execution_count": 16,
   "metadata": {},
   "outputs": [],
   "source": [
    "# Now we convert the column: https://stackoverflow.com/questions/20250771/remap-values-in-pandas-column-with-a-dict\n",
    "portfolio = portfolio.replace({\"offer_id\": offer_id_dict})"
   ]
  },
  {
   "cell_type": "markdown",
   "metadata": {},
   "source": [
    "###### Create new columns based on offer_type"
   ]
  },
  {
   "cell_type": "code",
   "execution_count": 17,
   "metadata": {},
   "outputs": [],
   "source": [
    "# We save the dummy column of offer type (convinient for later analysis)\n",
    "offer_type_dummy = portfolio['offer_type']"
   ]
  },
  {
   "cell_type": "code",
   "execution_count": 18,
   "metadata": {},
   "outputs": [],
   "source": [
    "# Get dummies: https://pandas.pydata.org/pandas-docs/stable/reference/api/pandas.get_dummies.html\n",
    "portfolio = pd.get_dummies(portfolio, prefix=['offer_type'], columns=['offer_type'])"
   ]
  },
  {
   "cell_type": "code",
   "execution_count": 19,
   "metadata": {},
   "outputs": [],
   "source": [
    "# We concat the dummy column \n",
    "portfolio = pd.concat([portfolio, offer_type_dummy], axis=1)"
   ]
  },
  {
   "cell_type": "markdown",
   "metadata": {},
   "source": [
    "###### Create new columns based on event"
   ]
  },
  {
   "cell_type": "code",
   "execution_count": 20,
   "metadata": {},
   "outputs": [],
   "source": [
    "# Get teh dummie variables: https://stackoverflow.com/questions/29034928/pandas-convert-a-column-of-list-to-dummies\n",
    "channel_dummies = pd.get_dummies(portfolio['channels'].apply(pd.Series).stack(), prefix='channel').sum(level=0)\n",
    "\n",
    "# We drop the old column and concat the new one\n",
    "portfolio.drop(columns=['channels'], inplace=True)\n",
    "\n",
    "# We concat the new set of columns\n",
    "portfolio = pd.concat([portfolio, channel_dummies], axis=1)"
   ]
  },
  {
   "cell_type": "markdown",
   "metadata": {},
   "source": [
    "#### Data cleansing"
   ]
  },
  {
   "cell_type": "markdown",
   "metadata": {},
   "source": [
    "Undesirable value detection:\n",
    "1. Missing values: No\n",
    "3. Duplicates: No \n",
    "4. Incorrect values: No. We trust Starbucks that the offer portfolio is correct, as there is no way for us to verify it.\n",
    "5. Irrelevant: Each row is relevant becuase it belongs to a distinct offer we will have to match with customers. The dataset is not large, we do not need to use PCA to know that the channel_email column does not explain any variability (all values are the same), so we can drop it.\n",
    "\n",
    "Measures:\n",
    "1. Replace: No\n",
    "2. Modify: No\n",
    "3. Delete: channel_email"
   ]
  },
  {
   "cell_type": "markdown",
   "metadata": {},
   "source": [
    "###### Irrelevancy"
   ]
  },
  {
   "cell_type": "code",
   "execution_count": 21,
   "metadata": {},
   "outputs": [],
   "source": [
    "# We delete the email channel column\n",
    "portfolio.drop(columns=['channel_email'], inplace=True)"
   ]
  },
  {
   "cell_type": "markdown",
   "metadata": {},
   "source": [
    "###### We save the dataframe as a pickle file"
   ]
  },
  {
   "cell_type": "code",
   "execution_count": 22,
   "metadata": {},
   "outputs": [],
   "source": [
    "portfolio.to_pickle(\"./portfolio.pkl\")"
   ]
  },
  {
   "cell_type": "markdown",
   "metadata": {},
   "source": [
    "#### Data exploration"
   ]
  },
  {
   "cell_type": "code",
   "execution_count": 23,
   "metadata": {},
   "outputs": [
    {
     "data": {
      "text/html": [
       "<div>\n",
       "<style scoped>\n",
       "    .dataframe tbody tr th:only-of-type {\n",
       "        vertical-align: middle;\n",
       "    }\n",
       "\n",
       "    .dataframe tbody tr th {\n",
       "        vertical-align: top;\n",
       "    }\n",
       "\n",
       "    .dataframe thead th {\n",
       "        text-align: right;\n",
       "    }\n",
       "</style>\n",
       "<table border=\"1\" class=\"dataframe\">\n",
       "  <thead>\n",
       "    <tr style=\"text-align: right;\">\n",
       "      <th></th>\n",
       "      <th>reward_[$]</th>\n",
       "      <th>difficulty_[$]</th>\n",
       "      <th>duration_[h]</th>\n",
       "      <th>offer_id</th>\n",
       "      <th>offer_type_bogo</th>\n",
       "      <th>offer_type_discount</th>\n",
       "      <th>offer_type_informational</th>\n",
       "      <th>offer_type</th>\n",
       "      <th>channel_mobile</th>\n",
       "      <th>channel_social</th>\n",
       "      <th>channel_web</th>\n",
       "    </tr>\n",
       "  </thead>\n",
       "  <tbody>\n",
       "    <tr>\n",
       "      <th>0</th>\n",
       "      <td>10</td>\n",
       "      <td>10</td>\n",
       "      <td>168</td>\n",
       "      <td>0</td>\n",
       "      <td>1</td>\n",
       "      <td>0</td>\n",
       "      <td>0</td>\n",
       "      <td>bogo</td>\n",
       "      <td>1</td>\n",
       "      <td>1</td>\n",
       "      <td>0</td>\n",
       "    </tr>\n",
       "    <tr>\n",
       "      <th>1</th>\n",
       "      <td>10</td>\n",
       "      <td>10</td>\n",
       "      <td>120</td>\n",
       "      <td>1</td>\n",
       "      <td>1</td>\n",
       "      <td>0</td>\n",
       "      <td>0</td>\n",
       "      <td>bogo</td>\n",
       "      <td>1</td>\n",
       "      <td>1</td>\n",
       "      <td>1</td>\n",
       "    </tr>\n",
       "    <tr>\n",
       "      <th>2</th>\n",
       "      <td>0</td>\n",
       "      <td>0</td>\n",
       "      <td>96</td>\n",
       "      <td>2</td>\n",
       "      <td>0</td>\n",
       "      <td>0</td>\n",
       "      <td>1</td>\n",
       "      <td>informational</td>\n",
       "      <td>1</td>\n",
       "      <td>0</td>\n",
       "      <td>1</td>\n",
       "    </tr>\n",
       "    <tr>\n",
       "      <th>3</th>\n",
       "      <td>5</td>\n",
       "      <td>5</td>\n",
       "      <td>168</td>\n",
       "      <td>3</td>\n",
       "      <td>1</td>\n",
       "      <td>0</td>\n",
       "      <td>0</td>\n",
       "      <td>bogo</td>\n",
       "      <td>1</td>\n",
       "      <td>0</td>\n",
       "      <td>1</td>\n",
       "    </tr>\n",
       "    <tr>\n",
       "      <th>4</th>\n",
       "      <td>5</td>\n",
       "      <td>20</td>\n",
       "      <td>240</td>\n",
       "      <td>4</td>\n",
       "      <td>0</td>\n",
       "      <td>1</td>\n",
       "      <td>0</td>\n",
       "      <td>discount</td>\n",
       "      <td>0</td>\n",
       "      <td>0</td>\n",
       "      <td>1</td>\n",
       "    </tr>\n",
       "    <tr>\n",
       "      <th>5</th>\n",
       "      <td>3</td>\n",
       "      <td>7</td>\n",
       "      <td>168</td>\n",
       "      <td>5</td>\n",
       "      <td>0</td>\n",
       "      <td>1</td>\n",
       "      <td>0</td>\n",
       "      <td>discount</td>\n",
       "      <td>1</td>\n",
       "      <td>1</td>\n",
       "      <td>1</td>\n",
       "    </tr>\n",
       "    <tr>\n",
       "      <th>6</th>\n",
       "      <td>2</td>\n",
       "      <td>10</td>\n",
       "      <td>240</td>\n",
       "      <td>6</td>\n",
       "      <td>0</td>\n",
       "      <td>1</td>\n",
       "      <td>0</td>\n",
       "      <td>discount</td>\n",
       "      <td>1</td>\n",
       "      <td>1</td>\n",
       "      <td>1</td>\n",
       "    </tr>\n",
       "    <tr>\n",
       "      <th>7</th>\n",
       "      <td>0</td>\n",
       "      <td>0</td>\n",
       "      <td>72</td>\n",
       "      <td>7</td>\n",
       "      <td>0</td>\n",
       "      <td>0</td>\n",
       "      <td>1</td>\n",
       "      <td>informational</td>\n",
       "      <td>1</td>\n",
       "      <td>1</td>\n",
       "      <td>0</td>\n",
       "    </tr>\n",
       "    <tr>\n",
       "      <th>8</th>\n",
       "      <td>5</td>\n",
       "      <td>5</td>\n",
       "      <td>120</td>\n",
       "      <td>8</td>\n",
       "      <td>1</td>\n",
       "      <td>0</td>\n",
       "      <td>0</td>\n",
       "      <td>bogo</td>\n",
       "      <td>1</td>\n",
       "      <td>1</td>\n",
       "      <td>1</td>\n",
       "    </tr>\n",
       "    <tr>\n",
       "      <th>9</th>\n",
       "      <td>2</td>\n",
       "      <td>10</td>\n",
       "      <td>168</td>\n",
       "      <td>9</td>\n",
       "      <td>0</td>\n",
       "      <td>1</td>\n",
       "      <td>0</td>\n",
       "      <td>discount</td>\n",
       "      <td>1</td>\n",
       "      <td>0</td>\n",
       "      <td>1</td>\n",
       "    </tr>\n",
       "  </tbody>\n",
       "</table>\n",
       "</div>"
      ],
      "text/plain": [
       "   reward_[$]  difficulty_[$]  duration_[h]  offer_id  offer_type_bogo  \\\n",
       "0          10              10           168         0                1   \n",
       "1          10              10           120         1                1   \n",
       "2           0               0            96         2                0   \n",
       "3           5               5           168         3                1   \n",
       "4           5              20           240         4                0   \n",
       "5           3               7           168         5                0   \n",
       "6           2              10           240         6                0   \n",
       "7           0               0            72         7                0   \n",
       "8           5               5           120         8                1   \n",
       "9           2              10           168         9                0   \n",
       "\n",
       "   offer_type_discount  offer_type_informational     offer_type  \\\n",
       "0                    0                         0           bogo   \n",
       "1                    0                         0           bogo   \n",
       "2                    0                         1  informational   \n",
       "3                    0                         0           bogo   \n",
       "4                    1                         0       discount   \n",
       "5                    1                         0       discount   \n",
       "6                    1                         0       discount   \n",
       "7                    0                         1  informational   \n",
       "8                    0                         0           bogo   \n",
       "9                    1                         0       discount   \n",
       "\n",
       "   channel_mobile  channel_social  channel_web  \n",
       "0               1               1            0  \n",
       "1               1               1            1  \n",
       "2               1               0            1  \n",
       "3               1               0            1  \n",
       "4               0               0            1  \n",
       "5               1               1            1  \n",
       "6               1               1            1  \n",
       "7               1               1            0  \n",
       "8               1               1            1  \n",
       "9               1               0            1  "
      ]
     },
     "execution_count": 23,
     "metadata": {},
     "output_type": "execute_result"
    }
   ],
   "source": [
    "portfolio"
   ]
  },
  {
   "cell_type": "markdown",
   "metadata": {},
   "source": [
    "We now habve tidy data, each record is an observation, we only have one observation type (offer), the values are in the cells and all variable names are in the columns (except for the column offer_type which is left there for visualization purposes later, it will be deleted)\n"
   ]
  },
  {
   "cell_type": "markdown",
   "metadata": {},
   "source": [
    "This is the portfolio dataset by itself, the questions that we could make are solely related to the types of offers Starbucks has. It is not so interesting given the small size of the dataset, looking at the layout, one can have a feeling for the data already. There are 4 bogo offer types, 4 discount types and 2 informationa. There is only one offer that is using one channel and is of discount type. The rest use at least 2 channels. \n",
    "Let us set a few further questions:\n",
    "1. Which one is the longest offer duration?\n",
    "2. Which one is the most rewarding offer?\n",
    "This one however is interesting, but we cannot answer it yet:"
   ]
  },
  {
   "cell_type": "markdown",
   "metadata": {},
   "source": [
    "###### Which one is the longest offer duration?"
   ]
  },
  {
   "cell_type": "code",
   "execution_count": 24,
   "metadata": {},
   "outputs": [
    {
     "name": "stdout",
     "output_type": "stream",
     "text": [
      "The maximum duration offers are 4 and 6\n",
      "With a duration of: 240 h\n"
     ]
    }
   ],
   "source": [
    "max_duration_offers = portfolio.loc[portfolio['duration_[h]'] == portfolio['duration_[h]'].max()].index\n",
    "print('The maximum duration offers are', portfolio.iloc[max_duration_offers]['offer_id'].iloc[0], 'and', \\\n",
    "                                         portfolio.iloc[max_duration_offers]['offer_id'].iloc[1])\n",
    "print('With a duration of:', portfolio['duration_[h]'].max(), 'h')"
   ]
  },
  {
   "cell_type": "markdown",
   "metadata": {},
   "source": [
    "###### Which one is the most rewarding offer?"
   ]
  },
  {
   "cell_type": "code",
   "execution_count": 25,
   "metadata": {},
   "outputs": [
    {
     "name": "stdout",
     "output_type": "stream",
     "text": [
      "The most rewarding offers are 0 and 1\n",
      "With a reward of: 10 $\n"
     ]
    }
   ],
   "source": [
    "max_reward_offers = portfolio.loc[portfolio['reward_[$]'] == portfolio['reward_[$]'].max()].index\n",
    "print('The most rewarding offers are', portfolio.iloc[max_reward_offers]['offer_id'].iloc[0], 'and', \\\n",
    "                                       portfolio.iloc[max_reward_offers]['offer_id'].iloc[1])\n",
    "print('With a reward of:', portfolio['reward_[$]'].max(), '$')"
   ]
  },
  {
   "cell_type": "markdown",
   "metadata": {},
   "source": [
    "However, a question that is interesting but that we cannot yet answer with this data (we need to use the other datasets as well), is what are the features of an offer that explain better which offer aligns better with a user."
   ]
  },
  {
   "cell_type": "markdown",
   "metadata": {},
   "source": [
    "#### PROFILE"
   ]
  },
  {
   "cell_type": "code",
   "execution_count": 26,
   "metadata": {},
   "outputs": [
    {
     "data": {
      "text/html": [
       "<div>\n",
       "<style scoped>\n",
       "    .dataframe tbody tr th:only-of-type {\n",
       "        vertical-align: middle;\n",
       "    }\n",
       "\n",
       "    .dataframe tbody tr th {\n",
       "        vertical-align: top;\n",
       "    }\n",
       "\n",
       "    .dataframe thead th {\n",
       "        text-align: right;\n",
       "    }\n",
       "</style>\n",
       "<table border=\"1\" class=\"dataframe\">\n",
       "  <thead>\n",
       "    <tr style=\"text-align: right;\">\n",
       "      <th></th>\n",
       "      <th>gender</th>\n",
       "      <th>age</th>\n",
       "      <th>id</th>\n",
       "      <th>became_member_on</th>\n",
       "      <th>income</th>\n",
       "    </tr>\n",
       "  </thead>\n",
       "  <tbody>\n",
       "    <tr>\n",
       "      <th>0</th>\n",
       "      <td>None</td>\n",
       "      <td>118</td>\n",
       "      <td>68be06ca386d4c31939f3a4f0e3dd783</td>\n",
       "      <td>20170212</td>\n",
       "      <td>NaN</td>\n",
       "    </tr>\n",
       "    <tr>\n",
       "      <th>1</th>\n",
       "      <td>F</td>\n",
       "      <td>55</td>\n",
       "      <td>0610b486422d4921ae7d2bf64640c50b</td>\n",
       "      <td>20170715</td>\n",
       "      <td>112000.0</td>\n",
       "    </tr>\n",
       "    <tr>\n",
       "      <th>2</th>\n",
       "      <td>None</td>\n",
       "      <td>118</td>\n",
       "      <td>38fe809add3b4fcf9315a9694bb96ff5</td>\n",
       "      <td>20180712</td>\n",
       "      <td>NaN</td>\n",
       "    </tr>\n",
       "    <tr>\n",
       "      <th>3</th>\n",
       "      <td>F</td>\n",
       "      <td>75</td>\n",
       "      <td>78afa995795e4d85b5d9ceeca43f5fef</td>\n",
       "      <td>20170509</td>\n",
       "      <td>100000.0</td>\n",
       "    </tr>\n",
       "    <tr>\n",
       "      <th>4</th>\n",
       "      <td>None</td>\n",
       "      <td>118</td>\n",
       "      <td>a03223e636434f42ac4c3df47e8bac43</td>\n",
       "      <td>20170804</td>\n",
       "      <td>NaN</td>\n",
       "    </tr>\n",
       "  </tbody>\n",
       "</table>\n",
       "</div>"
      ],
      "text/plain": [
       "  gender  age                                id  became_member_on    income\n",
       "0   None  118  68be06ca386d4c31939f3a4f0e3dd783          20170212       NaN\n",
       "1      F   55  0610b486422d4921ae7d2bf64640c50b          20170715  112000.0\n",
       "2   None  118  38fe809add3b4fcf9315a9694bb96ff5          20180712       NaN\n",
       "3      F   75  78afa995795e4d85b5d9ceeca43f5fef          20170509  100000.0\n",
       "4   None  118  a03223e636434f42ac4c3df47e8bac43          20170804       NaN"
      ]
     },
     "execution_count": 26,
     "metadata": {},
     "output_type": "execute_result"
    }
   ],
   "source": [
    "# read in the json files\n",
    "profile = pd.read_json('data/profile.json', orient='records', lines=True)\n",
    "profile.head()"
   ]
  },
  {
   "cell_type": "markdown",
   "metadata": {},
   "source": [
    "#### Data wrangling"
   ]
  },
  {
   "cell_type": "markdown",
   "metadata": {},
   "source": [
    "1. age: No changes \n",
    "2. became_member_on: transform into date and time\n",
    "3. gender: Create dummy variables with M, F, O, and missing_gender. We keep the missing values because they do not seem random, as income has the same number of missing values\n",
    "4. id: transform it into an easier id to read\n",
    "5. income: No changes\n",
    "\n",
    "We will change the column names to add the units and proper names."
   ]
  },
  {
   "cell_type": "markdown",
   "metadata": {},
   "source": [
    "###### Understanding NaN records"
   ]
  },
  {
   "cell_type": "code",
   "execution_count": 27,
   "metadata": {
    "scrolled": false
   },
   "outputs": [
    {
     "data": {
      "text/plain": [
       "True    17000\n",
       "dtype: int64"
      ]
     },
     "execution_count": 27,
     "metadata": {},
     "output_type": "execute_result"
    }
   ],
   "source": [
    "# Let us verify that the missing values of gender pair with the ones from income\n",
    "(profile['gender'].isnull() == profile['income'].isnull()).value_counts()"
   ]
  },
  {
   "cell_type": "markdown",
   "metadata": {},
   "source": [
    "There are no False values, therefore they match. Now let us check what types of values in age and became_member_on these outliers have."
   ]
  },
  {
   "cell_type": "code",
   "execution_count": 28,
   "metadata": {},
   "outputs": [
    {
     "name": "stdout",
     "output_type": "stream",
     "text": [
      "Here is the age from the discussed outliers\n",
      "[118]\n",
      "Here is the number of unique became_member_on values of the discussed outliers\n",
      "950\n"
     ]
    }
   ],
   "source": [
    "print('Here is the age from the discussed outliers')\n",
    "print(profile[profile['gender'].isnull()]['age'].unique())\n",
    "print('Here is the number of unique became_member_on values of the discussed outliers')\n",
    "print(profile[profile['gender'].isnull()]['became_member_on'].nunique())"
   ]
  },
  {
   "cell_type": "code",
   "execution_count": 29,
   "metadata": {},
   "outputs": [
    {
     "name": "stdout",
     "output_type": "stream",
     "text": [
      "Age unique values 85\n",
      "Maximum age of not outliers 101\n"
     ]
    }
   ],
   "source": [
    "# Let us check how many unique values does age have\n",
    "print('Age unique values', profile['age'].nunique())\n",
    "# Let us check what is the maximum age of the records that do not have missing values\n",
    "print('Maximum age of not outliers', profile[~profile['gender'].isnull()]['age'].max())"
   ]
  },
  {
   "cell_type": "markdown",
   "metadata": {},
   "source": [
    "From these data we understand that the age of the outliers (records of missing valzes) is in itself an outlier (duh!). Because the oldest person is 101. In data cleansing, we will replace 118 by the average age of the customers as age is not too skewed. If we leave it at 118, these records would be weighted higher, which is not desirable. We will do the same for the income, we will substitute the nan values with the average income, as that column was not too skewed as well. \n",
    "What is important for data wrangling (and this overlaps with cleansing) is that we will replace the missing values with a gender sampled from a distribution equal to the distribution of the non_missing values. This way we do not skew the column. Additionally, we will add another column called 'missing_gender', to add another layer of information about these outliers."
   ]
  },
  {
   "cell_type": "code",
   "execution_count": 30,
   "metadata": {
    "scrolled": true
   },
   "outputs": [
    {
     "data": {
      "text/plain": [
       "1716"
      ]
     },
     "execution_count": 30,
     "metadata": {},
     "output_type": "execute_result"
    }
   ],
   "source": [
    "# Let us check the number of became_member_on unique values\n",
    "profile['became_member_on'].nunique()"
   ]
  },
  {
   "cell_type": "markdown",
   "metadata": {},
   "source": [
    "There are 950 unique values of became_member_on in the outlier records, which is more than half of the toal unique values in the dataset. Considering that the outliers constitute about 12% of the dataset, this diversity hints that these values are true."
   ]
  },
  {
   "cell_type": "markdown",
   "metadata": {},
   "source": [
    "###### Change column names"
   ]
  },
  {
   "cell_type": "code",
   "execution_count": 31,
   "metadata": {},
   "outputs": [],
   "source": [
    "profile.columns = ['gender', 'age', 'customer_id', 'became_member_on_[y-m-d]', 'income_[$]']"
   ]
  },
  {
   "cell_type": "markdown",
   "metadata": {},
   "source": [
    "###### Transform become_member_on date and time"
   ]
  },
  {
   "cell_type": "code",
   "execution_count": 32,
   "metadata": {},
   "outputs": [],
   "source": [
    "profile['became_member_on_[y-m-d]'] =  pd.to_datetime(profile['became_member_on_[y-m-d]'], format='%Y%m%d')"
   ]
  },
  {
   "cell_type": "markdown",
   "metadata": {},
   "source": [
    "###### Transform id into an easier id form"
   ]
  },
  {
   "cell_type": "code",
   "execution_count": 33,
   "metadata": {},
   "outputs": [],
   "source": [
    "# We create a dictionary with offer ids we will need to save for later use\n",
    "customer_id_dict = profile['customer_id'].to_dict()\n",
    "\n",
    "# We invert the key-value pairs so the hash is in the key position\n",
    "customer_id_dict = {v: k for k, v in customer_id_dict.items()}\n",
    "\n",
    "# We save it as a pickle file\n",
    "with open('customer_id_dict.pickle', 'wb') as handle:\n",
    "    pickle.dump(customer_id_dict, handle, protocol=pickle.HIGHEST_PROTOCOL)"
   ]
  },
  {
   "cell_type": "code",
   "execution_count": 34,
   "metadata": {},
   "outputs": [],
   "source": [
    "# Now we convert the column: https://stackoverflow.com/questions/20250771/remap-values-in-pandas-column-with-a-dict\n",
    "profile = profile.replace({\"customer_id\": customer_id_dict})"
   ]
  },
  {
   "cell_type": "markdown",
   "metadata": {},
   "source": [
    "###### Gender wrangling"
   ]
  },
  {
   "cell_type": "markdown",
   "metadata": {},
   "source": [
    "First we create a new binary column indicating if the record had missing values"
   ]
  },
  {
   "cell_type": "code",
   "execution_count": 35,
   "metadata": {},
   "outputs": [
    {
     "name": "stdout",
     "output_type": "stream",
     "text": [
      "<class 'NoneType'>\n"
     ]
    }
   ],
   "source": [
    "# first we identify which type of missing values has gender\n",
    "# We know the first value of gender is missing\n",
    "print(type(profile['gender'].iloc[0]))"
   ]
  },
  {
   "cell_type": "code",
   "execution_count": 36,
   "metadata": {},
   "outputs": [
    {
     "name": "stdout",
     "output_type": "stream",
     "text": [
      "True\n",
      "False\n"
     ]
    }
   ],
   "source": [
    "# Thus, we know we have to check with None\n",
    "print(profile['gender'].iloc[0] is None)\n",
    "print(profile['gender'].iloc[0] is np.nan)"
   ]
  },
  {
   "cell_type": "code",
   "execution_count": 37,
   "metadata": {},
   "outputs": [],
   "source": [
    "profile['missing_values'] = profile['gender'].apply(lambda x: 1 if x is None else 0)"
   ]
  },
  {
   "cell_type": "markdown",
   "metadata": {},
   "source": [
    "Second, we assign M,F or O to the missing values according to the underlying distribution of gender"
   ]
  },
  {
   "cell_type": "code",
   "execution_count": 38,
   "metadata": {},
   "outputs": [
    {
     "name": "stdout",
     "output_type": "stream",
     "text": [
      "Frecuencies in %:\n",
      "M    0.572277\n",
      "F    0.413423\n",
      "O    0.014300\n",
      "Name: gender, dtype: float64\n"
     ]
    }
   ],
   "source": [
    "# We also get the frecuencies and categories. It is a nnice trick becuase value_counts does not consider None values\n",
    "number_None_values = profile['gender'].isnull().sum()\n",
    "total_gender_counts = profile.shape[0] - number_None_values\n",
    "frecuencies_gender = profile['gender'].value_counts() / total_gender_counts\n",
    "print('Frecuencies in %:')\n",
    "print(frecuencies_gender)"
   ]
  },
  {
   "cell_type": "code",
   "execution_count": 39,
   "metadata": {},
   "outputs": [],
   "source": [
    "# Secomf we replicate the disribution\n",
    "profile['gender'] = profile['gender'].apply \\\n",
    "                (lambda x: np.random.choice(frecuencies_gender.index, p=frecuencies_gender.values) if x is None else x)"
   ]
  },
  {
   "cell_type": "markdown",
   "metadata": {},
   "source": [
    "Third, we perofrm one hot encoding on gender"
   ]
  },
  {
   "cell_type": "code",
   "execution_count": 40,
   "metadata": {},
   "outputs": [],
   "source": [
    "# Save dummy variable for later (visualization\n",
    "gender_dummy = profile['gender']"
   ]
  },
  {
   "cell_type": "code",
   "execution_count": 41,
   "metadata": {},
   "outputs": [],
   "source": [
    "# Get dummies: https://pandas.pydata.org/pandas-docs/stable/reference/api/pandas.get_dummies.html\n",
    "profile = pd.get_dummies(profile, prefix=['gender'], columns=['gender'])"
   ]
  },
  {
   "cell_type": "code",
   "execution_count": 42,
   "metadata": {},
   "outputs": [],
   "source": [
    "profile = pd.concat([profile, gender_dummy], axis=1)"
   ]
  },
  {
   "cell_type": "markdown",
   "metadata": {},
   "source": [
    "#### Data cleansing"
   ]
  },
  {
   "cell_type": "markdown",
   "metadata": {},
   "source": [
    "Undesirable value detection:\n",
    "1. Missing values: income. Gender was taken care by the wrangling step.\n",
    "3. Duplicates: No \n",
    "4. Incorrect values: age\n",
    "5. Irrelevant: \n",
    "\n",
    "Measures:\n",
    "1. Replace: replace income nans with the average of the column. Replace the age of 118 with the average age.\n",
    "2. Modify: no\n",
    "3. Delete: gender_dummy column (AFTER EXPLORATION OF ALL THE DATSETS COMBINED)"
   ]
  },
  {
   "cell_type": "markdown",
   "metadata": {},
   "source": [
    "###### We replace income nan values with the average income"
   ]
  },
  {
   "cell_type": "code",
   "execution_count": 43,
   "metadata": {},
   "outputs": [],
   "source": [
    "# We calculate the average income\n",
    "mean_income = profile['income_[$]'].mean()"
   ]
  },
  {
   "cell_type": "code",
   "execution_count": 44,
   "metadata": {},
   "outputs": [
    {
     "name": "stdout",
     "output_type": "stream",
     "text": [
      "<class 'numpy.float64'>\n"
     ]
    }
   ],
   "source": [
    "# We know the first value of income is missing\n",
    "print(type(profile['income_[$]'].iloc[0]))"
   ]
  },
  {
   "cell_type": "code",
   "execution_count": 45,
   "metadata": {},
   "outputs": [
    {
     "name": "stdout",
     "output_type": "stream",
     "text": [
      "False\n",
      "False\n",
      "True\n"
     ]
    }
   ],
   "source": [
    "# Let us check how we can identify this value\n",
    "print(profile['income_[$]'].iloc[0] is None)\n",
    "print(profile['income_[$]'].iloc[0] is np.nan)\n",
    "print(pd.isna(profile['income_[$]'].iloc[0]))"
   ]
  },
  {
   "cell_type": "code",
   "execution_count": 46,
   "metadata": {},
   "outputs": [],
   "source": [
    "# We replace the nan values with the mean income\n",
    "profile['income_[$]'] = profile['income_[$]'].apply(lambda x: mean_income if pd.isna(x) else x)"
   ]
  },
  {
   "cell_type": "markdown",
   "metadata": {},
   "source": [
    "###### We replace the 118 values with the average age (we truncate it)"
   ]
  },
  {
   "cell_type": "code",
   "execution_count": 47,
   "metadata": {},
   "outputs": [],
   "source": [
    "# We get the mean age\n",
    "mean_age = int(profile['age'].mean())"
   ]
  },
  {
   "cell_type": "code",
   "execution_count": 48,
   "metadata": {},
   "outputs": [],
   "source": [
    "# We replace the 118 values by the mean\n",
    "profile['age'] = profile['age'].apply(lambda x: mean_age if x == 118 else x)"
   ]
  },
  {
   "cell_type": "markdown",
   "metadata": {},
   "source": [
    "#### Data exploration"
   ]
  },
  {
   "cell_type": "code",
   "execution_count": 49,
   "metadata": {},
   "outputs": [
    {
     "data": {
      "text/html": [
       "<div>\n",
       "<style scoped>\n",
       "    .dataframe tbody tr th:only-of-type {\n",
       "        vertical-align: middle;\n",
       "    }\n",
       "\n",
       "    .dataframe tbody tr th {\n",
       "        vertical-align: top;\n",
       "    }\n",
       "\n",
       "    .dataframe thead th {\n",
       "        text-align: right;\n",
       "    }\n",
       "</style>\n",
       "<table border=\"1\" class=\"dataframe\">\n",
       "  <thead>\n",
       "    <tr style=\"text-align: right;\">\n",
       "      <th></th>\n",
       "      <th>age</th>\n",
       "      <th>customer_id</th>\n",
       "      <th>became_member_on_[y-m-d]</th>\n",
       "      <th>income_[$]</th>\n",
       "      <th>missing_values</th>\n",
       "      <th>gender_F</th>\n",
       "      <th>gender_M</th>\n",
       "      <th>gender_O</th>\n",
       "      <th>gender</th>\n",
       "    </tr>\n",
       "  </thead>\n",
       "  <tbody>\n",
       "    <tr>\n",
       "      <th>0</th>\n",
       "      <td>62</td>\n",
       "      <td>0</td>\n",
       "      <td>2017-02-12</td>\n",
       "      <td>65404.991568</td>\n",
       "      <td>1</td>\n",
       "      <td>1</td>\n",
       "      <td>0</td>\n",
       "      <td>0</td>\n",
       "      <td>F</td>\n",
       "    </tr>\n",
       "    <tr>\n",
       "      <th>1</th>\n",
       "      <td>55</td>\n",
       "      <td>1</td>\n",
       "      <td>2017-07-15</td>\n",
       "      <td>112000.000000</td>\n",
       "      <td>0</td>\n",
       "      <td>1</td>\n",
       "      <td>0</td>\n",
       "      <td>0</td>\n",
       "      <td>F</td>\n",
       "    </tr>\n",
       "    <tr>\n",
       "      <th>2</th>\n",
       "      <td>62</td>\n",
       "      <td>2</td>\n",
       "      <td>2018-07-12</td>\n",
       "      <td>65404.991568</td>\n",
       "      <td>1</td>\n",
       "      <td>0</td>\n",
       "      <td>1</td>\n",
       "      <td>0</td>\n",
       "      <td>M</td>\n",
       "    </tr>\n",
       "    <tr>\n",
       "      <th>3</th>\n",
       "      <td>75</td>\n",
       "      <td>3</td>\n",
       "      <td>2017-05-09</td>\n",
       "      <td>100000.000000</td>\n",
       "      <td>0</td>\n",
       "      <td>1</td>\n",
       "      <td>0</td>\n",
       "      <td>0</td>\n",
       "      <td>F</td>\n",
       "    </tr>\n",
       "    <tr>\n",
       "      <th>4</th>\n",
       "      <td>62</td>\n",
       "      <td>4</td>\n",
       "      <td>2017-08-04</td>\n",
       "      <td>65404.991568</td>\n",
       "      <td>1</td>\n",
       "      <td>0</td>\n",
       "      <td>1</td>\n",
       "      <td>0</td>\n",
       "      <td>M</td>\n",
       "    </tr>\n",
       "    <tr>\n",
       "      <th>...</th>\n",
       "      <td>...</td>\n",
       "      <td>...</td>\n",
       "      <td>...</td>\n",
       "      <td>...</td>\n",
       "      <td>...</td>\n",
       "      <td>...</td>\n",
       "      <td>...</td>\n",
       "      <td>...</td>\n",
       "      <td>...</td>\n",
       "    </tr>\n",
       "    <tr>\n",
       "      <th>16995</th>\n",
       "      <td>45</td>\n",
       "      <td>16995</td>\n",
       "      <td>2018-06-04</td>\n",
       "      <td>54000.000000</td>\n",
       "      <td>0</td>\n",
       "      <td>1</td>\n",
       "      <td>0</td>\n",
       "      <td>0</td>\n",
       "      <td>F</td>\n",
       "    </tr>\n",
       "    <tr>\n",
       "      <th>16996</th>\n",
       "      <td>61</td>\n",
       "      <td>16996</td>\n",
       "      <td>2018-07-13</td>\n",
       "      <td>72000.000000</td>\n",
       "      <td>0</td>\n",
       "      <td>0</td>\n",
       "      <td>1</td>\n",
       "      <td>0</td>\n",
       "      <td>M</td>\n",
       "    </tr>\n",
       "    <tr>\n",
       "      <th>16997</th>\n",
       "      <td>49</td>\n",
       "      <td>16997</td>\n",
       "      <td>2017-01-26</td>\n",
       "      <td>73000.000000</td>\n",
       "      <td>0</td>\n",
       "      <td>0</td>\n",
       "      <td>1</td>\n",
       "      <td>0</td>\n",
       "      <td>M</td>\n",
       "    </tr>\n",
       "    <tr>\n",
       "      <th>16998</th>\n",
       "      <td>83</td>\n",
       "      <td>16998</td>\n",
       "      <td>2016-03-07</td>\n",
       "      <td>50000.000000</td>\n",
       "      <td>0</td>\n",
       "      <td>1</td>\n",
       "      <td>0</td>\n",
       "      <td>0</td>\n",
       "      <td>F</td>\n",
       "    </tr>\n",
       "    <tr>\n",
       "      <th>16999</th>\n",
       "      <td>62</td>\n",
       "      <td>16999</td>\n",
       "      <td>2017-07-22</td>\n",
       "      <td>82000.000000</td>\n",
       "      <td>0</td>\n",
       "      <td>1</td>\n",
       "      <td>0</td>\n",
       "      <td>0</td>\n",
       "      <td>F</td>\n",
       "    </tr>\n",
       "  </tbody>\n",
       "</table>\n",
       "<p>17000 rows × 9 columns</p>\n",
       "</div>"
      ],
      "text/plain": [
       "       age  customer_id became_member_on_[y-m-d]     income_[$]  \\\n",
       "0       62            0               2017-02-12   65404.991568   \n",
       "1       55            1               2017-07-15  112000.000000   \n",
       "2       62            2               2018-07-12   65404.991568   \n",
       "3       75            3               2017-05-09  100000.000000   \n",
       "4       62            4               2017-08-04   65404.991568   \n",
       "...    ...          ...                      ...            ...   \n",
       "16995   45        16995               2018-06-04   54000.000000   \n",
       "16996   61        16996               2018-07-13   72000.000000   \n",
       "16997   49        16997               2017-01-26   73000.000000   \n",
       "16998   83        16998               2016-03-07   50000.000000   \n",
       "16999   62        16999               2017-07-22   82000.000000   \n",
       "\n",
       "       missing_values  gender_F  gender_M  gender_O gender  \n",
       "0                   1         1         0         0      F  \n",
       "1                   0         1         0         0      F  \n",
       "2                   1         0         1         0      M  \n",
       "3                   0         1         0         0      F  \n",
       "4                   1         0         1         0      M  \n",
       "...               ...       ...       ...       ...    ...  \n",
       "16995               0         1         0         0      F  \n",
       "16996               0         0         1         0      M  \n",
       "16997               0         0         1         0      M  \n",
       "16998               0         1         0         0      F  \n",
       "16999               0         1         0         0      F  \n",
       "\n",
       "[17000 rows x 9 columns]"
      ]
     },
     "execution_count": 49,
     "metadata": {},
     "output_type": "execute_result"
    }
   ],
   "source": [
    "profile"
   ]
  },
  {
   "cell_type": "markdown",
   "metadata": {},
   "source": [
    "We now habve tidy data, each record is an observation, we only have one observation type (customer), the values are in the cells and all variable names are in the columns (except for the column gender which is left there for visualization purposes later, it will be deleted)"
   ]
  },
  {
   "cell_type": "markdown",
   "metadata": {},
   "source": [
    "Question we could answe:\n",
    "1. What is the gender distribution?\n",
    "2. How different genders are distributed with respect to income?\n",
    "3. How different genders are distributed with respect to age?\n",
    "4. What is the istribution of new memberships along time?"
   ]
  },
  {
   "cell_type": "markdown",
   "metadata": {},
   "source": [
    "###### What is the gender distribution?"
   ]
  },
  {
   "cell_type": "code",
   "execution_count": 50,
   "metadata": {},
   "outputs": [
    {
     "data": {
      "text/plain": [
       "<matplotlib.axes._subplots.AxesSubplot at 0x7ff658e2ef50>"
      ]
     },
     "execution_count": 50,
     "metadata": {},
     "output_type": "execute_result"
    },
    {
     "data": {
      "image/png": "[encoded data removed]",
      "text/plain": [
       "<Figure size 432x288 with 1 Axes>"
      ]
     },
     "metadata": {
      "needs_background": "light"
     },
     "output_type": "display_data"
    }
   ],
   "source": [
    "profile['gender'].hist()"
   ]
  },
  {
   "cell_type": "markdown",
   "metadata": {},
   "source": [
    "There are more males in the dataset"
   ]
  },
  {
   "cell_type": "markdown",
   "metadata": {},
   "source": [
    "###### How different genders are distributed with respect to income?"
   ]
  },
  {
   "cell_type": "code",
   "execution_count": 51,
   "metadata": {},
   "outputs": [
    {
     "data": {
      "text/plain": [
       "array([[<matplotlib.axes._subplots.AxesSubplot object at 0x7ff658e3b950>,\n",
       "        <matplotlib.axes._subplots.AxesSubplot object at 0x7ff658eca510>],\n",
       "       [<matplotlib.axes._subplots.AxesSubplot object at 0x7ff658e21390>,\n",
       "        <matplotlib.axes._subplots.AxesSubplot object at 0x7ff658dfc710>]],\n",
       "      dtype=object)"
      ]
     },
     "execution_count": 51,
     "metadata": {},
     "output_type": "execute_result"
    },
    {
     "data": {
      "image/png": "[encoded data removed]",
      "text/plain": [
       "<Figure size 432x288 with 4 Axes>"
      ]
     },
     "metadata": {
      "needs_background": "light"
     },
     "output_type": "display_data"
    }
   ],
   "source": [
    "profile['income_[$]'].hist(by=profile['gender'])"
   ]
  },
  {
   "cell_type": "markdown",
   "metadata": {},
   "source": [
    "It seems that females and males have more or less the same income in this dataset. But it also seems that there is more women that earn abover the average than men. (The comparisons are not perfect becaus ethe number of women is around 3000 less than men, so the sample of women is less representative)\n",
    "It is worth extracting mroe insights as the distributions seem different. Let us check the [wassertein_distance](https://docs.scipy.org/doc/scipy/reference/generated/scipy.stats.wasserstein_distance.html)"
   ]
  },
  {
   "cell_type": "code",
   "execution_count": 52,
   "metadata": {},
   "outputs": [
    {
     "data": {
      "text/plain": [
       "8824.90372841801"
      ]
     },
     "execution_count": 52,
     "metadata": {},
     "output_type": "execute_result"
    }
   ],
   "source": [
    "wasserstein_distance(profile.loc[profile['gender'] == 'F']['income_[$]'], profile.loc[profile['gender'] == 'M']['income_[$]'])"
   ]
  },
  {
   "cell_type": "markdown",
   "metadata": {},
   "source": [
    "Indeed, the difference is prety high between the distributions of men and women."
   ]
  },
  {
   "cell_type": "code",
   "execution_count": 53,
   "metadata": {},
   "outputs": [
    {
     "data": {
      "text/plain": [
       "70566.20827461942"
      ]
     },
     "execution_count": 53,
     "metadata": {},
     "output_type": "execute_result"
    }
   ],
   "source": [
    "profile.loc[profile['gender'] == 'F']['income_[$]'].mean()"
   ]
  },
  {
   "cell_type": "code",
   "execution_count": 54,
   "metadata": {},
   "outputs": [
    {
     "name": "stdout",
     "output_type": "stream",
     "text": [
      "Mean salary for women is 70566.20827461942\n",
      "Mean salary for men is 61741.30454620141\n",
      "In this datase, women earn more money than men in average, by:  8824.903728418009 $\n"
     ]
    }
   ],
   "source": [
    "women_mean_income = profile.loc[profile['gender'] == 'F']['income_[$]'].mean()\n",
    "men_mean_income =  profile.loc[profile['gender'] == 'M']['income_[$]'].mean()\n",
    "print('Mean salary for women is', women_mean_income)\n",
    "print('Mean salary for men is', men_mean_income)\n",
    "print('In this datase, women earn more money than men in average, by: ', women_mean_income-men_mean_income, '$')"
   ]
  },
  {
   "cell_type": "code",
   "execution_count": 55,
   "metadata": {},
   "outputs": [
    {
     "name": "stdout",
     "output_type": "stream",
     "text": [
      "Median salary for women is 66000.0\n",
      "Median salary for men is 63000.0\n",
      "In this datase, however, the median is not so far from genders:  3000.0 $\n"
     ]
    }
   ],
   "source": [
    "women_median_income = profile.loc[profile['gender'] == 'F']['income_[$]'].median()\n",
    "men_median_income =  profile.loc[profile['gender'] == 'M']['income_[$]'].median()\n",
    "print('Median salary for women is', women_median_income)\n",
    "print('Median salary for men is', men_median_income)\n",
    "print('In this dataset, however, the median is not so far from genders: ', women_median_income-men_median_income, '$')"
   ]
  },
  {
   "cell_type": "markdown",
   "metadata": {},
   "source": [
    "There are around 5000 men earning above $63k and around 3500 women earning mnore than $66k. "
   ]
  },
  {
   "cell_type": "code",
   "execution_count": 56,
   "metadata": {},
   "outputs": [
    {
     "name": "stdout",
     "output_type": "stream",
     "text": [
      "The std of the salary for women is 20981.542952480755\n",
      "The std of the salary for men is 18774.535245943607\n",
      "In this datase, however, the median is not so far from genders:  2207.007706537148 $\n"
     ]
    }
   ],
   "source": [
    "women_std_income = profile.loc[profile['gender'] == 'F']['income_[$]'].std()\n",
    "men_std_income =  profile.loc[profile['gender'] == 'M']['income_[$]'].std()\n",
    "print('The std of the salary for women is', women_std_income)\n",
    "print('The std of the salary for men is', men_std_income)\n",
    "print('In this datase, however, the median is not so far from genders: ', women_std_income-men_std_income, '$')"
   ]
  },
  {
   "cell_type": "markdown",
   "metadata": {},
   "source": [
    "The stds are high, and the one from women is higher (representative that there are less women in the sample than men)"
   ]
  },
  {
   "cell_type": "markdown",
   "metadata": {},
   "source": [
    "###### How different genders distributed with respect to age?"
   ]
  },
  {
   "cell_type": "code",
   "execution_count": 57,
   "metadata": {},
   "outputs": [
    {
     "data": {
      "text/plain": [
       "array([[<matplotlib.axes._subplots.AxesSubplot object at 0x7ff658d067d0>,\n",
       "        <matplotlib.axes._subplots.AxesSubplot object at 0x7ff658cac4d0>],\n",
       "       [<matplotlib.axes._subplots.AxesSubplot object at 0x7ff658ca5810>,\n",
       "        <matplotlib.axes._subplots.AxesSubplot object at 0x7ff658c7b710>]],\n",
       "      dtype=object)"
      ]
     },
     "execution_count": 57,
     "metadata": {},
     "output_type": "execute_result"
    },
    {
     "data": {
      "image/png": "[encoded data removed]",
      "text/plain": [
       "<Figure size 432x288 with 4 Axes>"
      ]
     },
     "metadata": {
      "needs_background": "light"
     },
     "output_type": "display_data"
    }
   ],
   "source": [
    "profile['age'].hist(by=profile['gender'])"
   ]
  },
  {
   "cell_type": "markdown",
   "metadata": {},
   "source": [
    "The histograms here are very similar. We could perform the same statictics as with income, but the histograms seem prety similar. Let us check the statistcial distance we used before:"
   ]
  },
  {
   "cell_type": "code",
   "execution_count": 58,
   "metadata": {},
   "outputs": [
    {
     "data": {
      "text/plain": [
       "4.703738584474886"
      ]
     },
     "execution_count": 58,
     "metadata": {},
     "output_type": "execute_result"
    }
   ],
   "source": [
    "wasserstein_distance(profile.loc[profile['gender'] == 'F']['age'], profile.loc[profile['gender'] == 'M']['age'])"
   ]
  },
  {
   "cell_type": "markdown",
   "metadata": {},
   "source": [
    "Indeed they are very similar."
   ]
  },
  {
   "cell_type": "markdown",
   "metadata": {},
   "source": [
    "###### What is the istribution of new memberships along time?"
   ]
  },
  {
   "cell_type": "code",
   "execution_count": 59,
   "metadata": {},
   "outputs": [
    {
     "data": {
      "text/plain": [
       "<matplotlib.axes._subplots.AxesSubplot at 0x7ff658c29950>"
      ]
     },
     "execution_count": 59,
     "metadata": {},
     "output_type": "execute_result"
    },
    {
     "data": {
      "image/png": "[encoded data removed]",
      "text/plain": [
       "<Figure size 432x288 with 1 Axes>"
      ]
     },
     "metadata": {
      "needs_background": "light"
     },
     "output_type": "display_data"
    }
   ],
   "source": [
    "profile['became_member_on_[y-m-d]'].value_counts().plot.line()"
   ]
  },
  {
   "cell_type": "markdown",
   "metadata": {},
   "source": [
    "There are noticeable jumps every 2 years (half of 2015 and half 2017). Perhaps they correspond to new campaigns or improvements in the app. It is also interesting that in 2018, the number of new memberships dropped (first time), thus perhaps new competitors arrived into the market."
   ]
  },
  {
   "cell_type": "markdown",
   "metadata": {},
   "source": [
    "###### We save the dataframe as a pickle file"
   ]
  },
  {
   "cell_type": "code",
   "execution_count": 60,
   "metadata": {},
   "outputs": [],
   "source": [
    "profile.to_pickle(\"./profile.pkl\")"
   ]
  },
  {
   "cell_type": "markdown",
   "metadata": {},
   "source": [
    "#### TRANSCRIPT"
   ]
  },
  {
   "cell_type": "code",
   "execution_count": 61,
   "metadata": {
    "scrolled": true
   },
   "outputs": [
    {
     "data": {
      "text/html": [
       "<div>\n",
       "<style scoped>\n",
       "    .dataframe tbody tr th:only-of-type {\n",
       "        vertical-align: middle;\n",
       "    }\n",
       "\n",
       "    .dataframe tbody tr th {\n",
       "        vertical-align: top;\n",
       "    }\n",
       "\n",
       "    .dataframe thead th {\n",
       "        text-align: right;\n",
       "    }\n",
       "</style>\n",
       "<table border=\"1\" class=\"dataframe\">\n",
       "  <thead>\n",
       "    <tr style=\"text-align: right;\">\n",
       "      <th></th>\n",
       "      <th>person</th>\n",
       "      <th>event</th>\n",
       "      <th>value</th>\n",
       "      <th>time</th>\n",
       "    </tr>\n",
       "  </thead>\n",
       "  <tbody>\n",
       "    <tr>\n",
       "      <th>0</th>\n",
       "      <td>78afa995795e4d85b5d9ceeca43f5fef</td>\n",
       "      <td>offer received</td>\n",
       "      <td>{'offer id': '9b98b8c7a33c4b65b9aebfe6a799e6d9'}</td>\n",
       "      <td>0</td>\n",
       "    </tr>\n",
       "    <tr>\n",
       "      <th>1</th>\n",
       "      <td>a03223e636434f42ac4c3df47e8bac43</td>\n",
       "      <td>offer received</td>\n",
       "      <td>{'offer id': '0b1e1539f2cc45b7b9fa7c272da2e1d7'}</td>\n",
       "      <td>0</td>\n",
       "    </tr>\n",
       "    <tr>\n",
       "      <th>2</th>\n",
       "      <td>e2127556f4f64592b11af22de27a7932</td>\n",
       "      <td>offer received</td>\n",
       "      <td>{'offer id': '2906b810c7d4411798c6938adc9daaa5'}</td>\n",
       "      <td>0</td>\n",
       "    </tr>\n",
       "    <tr>\n",
       "      <th>3</th>\n",
       "      <td>8ec6ce2a7e7949b1bf142def7d0e0586</td>\n",
       "      <td>offer received</td>\n",
       "      <td>{'offer id': 'fafdcd668e3743c1bb461111dcafc2a4'}</td>\n",
       "      <td>0</td>\n",
       "    </tr>\n",
       "    <tr>\n",
       "      <th>4</th>\n",
       "      <td>68617ca6246f4fbc85e91a2a49552598</td>\n",
       "      <td>offer received</td>\n",
       "      <td>{'offer id': '4d5c57ea9a6940dd891ad53e9dbe8da0'}</td>\n",
       "      <td>0</td>\n",
       "    </tr>\n",
       "    <tr>\n",
       "      <th>...</th>\n",
       "      <td>...</td>\n",
       "      <td>...</td>\n",
       "      <td>...</td>\n",
       "      <td>...</td>\n",
       "    </tr>\n",
       "    <tr>\n",
       "      <th>306529</th>\n",
       "      <td>b3a1272bc9904337b331bf348c3e8c17</td>\n",
       "      <td>transaction</td>\n",
       "      <td>{'amount': 1.5899999999999999}</td>\n",
       "      <td>714</td>\n",
       "    </tr>\n",
       "    <tr>\n",
       "      <th>306530</th>\n",
       "      <td>68213b08d99a4ae1b0dcb72aebd9aa35</td>\n",
       "      <td>transaction</td>\n",
       "      <td>{'amount': 9.53}</td>\n",
       "      <td>714</td>\n",
       "    </tr>\n",
       "    <tr>\n",
       "      <th>306531</th>\n",
       "      <td>a00058cf10334a308c68e7631c529907</td>\n",
       "      <td>transaction</td>\n",
       "      <td>{'amount': 3.61}</td>\n",
       "      <td>714</td>\n",
       "    </tr>\n",
       "    <tr>\n",
       "      <th>306532</th>\n",
       "      <td>76ddbd6576844afe811f1a3c0fbb5bec</td>\n",
       "      <td>transaction</td>\n",
       "      <td>{'amount': 3.5300000000000002}</td>\n",
       "      <td>714</td>\n",
       "    </tr>\n",
       "    <tr>\n",
       "      <th>306533</th>\n",
       "      <td>c02b10e8752c4d8e9b73f918558531f7</td>\n",
       "      <td>transaction</td>\n",
       "      <td>{'amount': 4.05}</td>\n",
       "      <td>714</td>\n",
       "    </tr>\n",
       "  </tbody>\n",
       "</table>\n",
       "<p>306534 rows × 4 columns</p>\n",
       "</div>"
      ],
      "text/plain": [
       "                                  person           event  \\\n",
       "0       78afa995795e4d85b5d9ceeca43f5fef  offer received   \n",
       "1       a03223e636434f42ac4c3df47e8bac43  offer received   \n",
       "2       e2127556f4f64592b11af22de27a7932  offer received   \n",
       "3       8ec6ce2a7e7949b1bf142def7d0e0586  offer received   \n",
       "4       68617ca6246f4fbc85e91a2a49552598  offer received   \n",
       "...                                  ...             ...   \n",
       "306529  b3a1272bc9904337b331bf348c3e8c17     transaction   \n",
       "306530  68213b08d99a4ae1b0dcb72aebd9aa35     transaction   \n",
       "306531  a00058cf10334a308c68e7631c529907     transaction   \n",
       "306532  76ddbd6576844afe811f1a3c0fbb5bec     transaction   \n",
       "306533  c02b10e8752c4d8e9b73f918558531f7     transaction   \n",
       "\n",
       "                                                   value  time  \n",
       "0       {'offer id': '9b98b8c7a33c4b65b9aebfe6a799e6d9'}     0  \n",
       "1       {'offer id': '0b1e1539f2cc45b7b9fa7c272da2e1d7'}     0  \n",
       "2       {'offer id': '2906b810c7d4411798c6938adc9daaa5'}     0  \n",
       "3       {'offer id': 'fafdcd668e3743c1bb461111dcafc2a4'}     0  \n",
       "4       {'offer id': '4d5c57ea9a6940dd891ad53e9dbe8da0'}     0  \n",
       "...                                                  ...   ...  \n",
       "306529                    {'amount': 1.5899999999999999}   714  \n",
       "306530                                  {'amount': 9.53}   714  \n",
       "306531                                  {'amount': 3.61}   714  \n",
       "306532                    {'amount': 3.5300000000000002}   714  \n",
       "306533                                  {'amount': 4.05}   714  \n",
       "\n",
       "[306534 rows x 4 columns]"
      ]
     },
     "execution_count": 61,
     "metadata": {},
     "output_type": "execute_result"
    }
   ],
   "source": [
    "# read in the json files\n",
    "transcript = pd.read_json('data/transcript.json', orient='records', lines=True)\n",
    "transcript"
   ]
  },
  {
   "cell_type": "markdown",
   "metadata": {},
   "source": [
    "#### Data wrangling"
   ]
  },
  {
   "cell_type": "markdown",
   "metadata": {},
   "source": [
    "1. person: replace the ids with the ones from the previous datasets. It can be connected to customer id \n",
    "2. event: no changes. We will not use this column for prediction and it is useful to have it in this format for cleaning and wrangling and visualization.\n",
    "3. time: no changes\n",
    "4. value: make dict_keys a column and dict_values the values within. Once we do that, we transform offer ids into the easier to read ids defined before and leave the nans as they are (dealt with in cleansing). And the transaction one, we could replace the nans with a 0. For the offer ids with nans (meniang there is only an amount), we can replace the nan value with higher number than the last offer id, indicating that there was no offer. With reward, we set it to 0 for nans, we must check if this coincides with offer completed.\n",
    "\n",
    "We will rename the columns so they can be combined later on.\n",
    "We have to think about how to collapse the records from a user into one row, so we can join the 3 datasets. This will require feature engineering. This last sentence is related ot the 'unsure' of points 2 and 4."
   ]
  },
  {
   "cell_type": "markdown",
   "metadata": {},
   "source": [
    "**In essence our final dataset should have pairs of customers and offers, together with a score for how well that offer did with the customer. The score can be binary, whether it worked or not. This score must be distilled from this transcript dataset**"
   ]
  },
  {
   "cell_type": "markdown",
   "metadata": {},
   "source": [
    "###### Change column names"
   ]
  },
  {
   "cell_type": "code",
   "execution_count": 62,
   "metadata": {},
   "outputs": [],
   "source": [
    "# Renaming specific column: https://stackoverflow.com/questions/20868394/changing-a-specific-column-name-in-pandas-dataframe\n",
    "transcript = transcript.rename(columns = {'person':'customer_id'})"
   ]
  },
  {
   "cell_type": "markdown",
   "metadata": {},
   "source": [
    "###### Replace the person id with the ones from the dictionary mapping hashes to ints"
   ]
  },
  {
   "cell_type": "code",
   "execution_count": 63,
   "metadata": {},
   "outputs": [],
   "source": [
    "# Read back the dictionary\n",
    "with open('customer_id_dict.pickle', 'rb') as handle:\n",
    "    customer_id_dict = pickle.load(handle) "
   ]
  },
  {
   "cell_type": "code",
   "execution_count": 64,
   "metadata": {},
   "outputs": [],
   "source": [
    "# Now we convert the column: https://stackoverflow.com/questions/20250771/remap-values-in-pandas-column-with-a-dict\n",
    "transcript = transcript.replace({\"customer_id\": customer_id_dict})"
   ]
  },
  {
   "cell_type": "code",
   "execution_count": 65,
   "metadata": {},
   "outputs": [],
   "source": [
    "# It tool a long time to execute the previous cell, let us do a check point\n",
    "transcript.to_pickle(\"./transcript.pkl\")\n"
   ]
  },
  {
   "cell_type": "markdown",
   "metadata": {},
   "source": [
    "###### We transform the 'value' column into new columns for better wrangling"
   ]
  },
  {
   "cell_type": "code",
   "execution_count": 66,
   "metadata": {},
   "outputs": [
    {
     "data": {
      "text/html": [
       "<div>\n",
       "<style scoped>\n",
       "    .dataframe tbody tr th:only-of-type {\n",
       "        vertical-align: middle;\n",
       "    }\n",
       "\n",
       "    .dataframe tbody tr th {\n",
       "        vertical-align: top;\n",
       "    }\n",
       "\n",
       "    .dataframe thead th {\n",
       "        text-align: right;\n",
       "    }\n",
       "</style>\n",
       "<table border=\"1\" class=\"dataframe\">\n",
       "  <thead>\n",
       "    <tr style=\"text-align: right;\">\n",
       "      <th></th>\n",
       "      <th>offer id</th>\n",
       "      <th>amount</th>\n",
       "      <th>offer_id</th>\n",
       "      <th>reward</th>\n",
       "    </tr>\n",
       "  </thead>\n",
       "  <tbody>\n",
       "    <tr>\n",
       "      <th>0</th>\n",
       "      <td>9b98b8c7a33c4b65b9aebfe6a799e6d9</td>\n",
       "      <td>NaN</td>\n",
       "      <td>NaN</td>\n",
       "      <td>NaN</td>\n",
       "    </tr>\n",
       "    <tr>\n",
       "      <th>1</th>\n",
       "      <td>0b1e1539f2cc45b7b9fa7c272da2e1d7</td>\n",
       "      <td>NaN</td>\n",
       "      <td>NaN</td>\n",
       "      <td>NaN</td>\n",
       "    </tr>\n",
       "    <tr>\n",
       "      <th>2</th>\n",
       "      <td>2906b810c7d4411798c6938adc9daaa5</td>\n",
       "      <td>NaN</td>\n",
       "      <td>NaN</td>\n",
       "      <td>NaN</td>\n",
       "    </tr>\n",
       "    <tr>\n",
       "      <th>3</th>\n",
       "      <td>fafdcd668e3743c1bb461111dcafc2a4</td>\n",
       "      <td>NaN</td>\n",
       "      <td>NaN</td>\n",
       "      <td>NaN</td>\n",
       "    </tr>\n",
       "    <tr>\n",
       "      <th>4</th>\n",
       "      <td>4d5c57ea9a6940dd891ad53e9dbe8da0</td>\n",
       "      <td>NaN</td>\n",
       "      <td>NaN</td>\n",
       "      <td>NaN</td>\n",
       "    </tr>\n",
       "    <tr>\n",
       "      <th>...</th>\n",
       "      <td>...</td>\n",
       "      <td>...</td>\n",
       "      <td>...</td>\n",
       "      <td>...</td>\n",
       "    </tr>\n",
       "    <tr>\n",
       "      <th>306529</th>\n",
       "      <td>NaN</td>\n",
       "      <td>1.59</td>\n",
       "      <td>NaN</td>\n",
       "      <td>NaN</td>\n",
       "    </tr>\n",
       "    <tr>\n",
       "      <th>306530</th>\n",
       "      <td>NaN</td>\n",
       "      <td>9.53</td>\n",
       "      <td>NaN</td>\n",
       "      <td>NaN</td>\n",
       "    </tr>\n",
       "    <tr>\n",
       "      <th>306531</th>\n",
       "      <td>NaN</td>\n",
       "      <td>3.61</td>\n",
       "      <td>NaN</td>\n",
       "      <td>NaN</td>\n",
       "    </tr>\n",
       "    <tr>\n",
       "      <th>306532</th>\n",
       "      <td>NaN</td>\n",
       "      <td>3.53</td>\n",
       "      <td>NaN</td>\n",
       "      <td>NaN</td>\n",
       "    </tr>\n",
       "    <tr>\n",
       "      <th>306533</th>\n",
       "      <td>NaN</td>\n",
       "      <td>4.05</td>\n",
       "      <td>NaN</td>\n",
       "      <td>NaN</td>\n",
       "    </tr>\n",
       "  </tbody>\n",
       "</table>\n",
       "<p>306534 rows × 4 columns</p>\n",
       "</div>"
      ],
      "text/plain": [
       "                                offer id  amount offer_id  reward\n",
       "0       9b98b8c7a33c4b65b9aebfe6a799e6d9     NaN      NaN     NaN\n",
       "1       0b1e1539f2cc45b7b9fa7c272da2e1d7     NaN      NaN     NaN\n",
       "2       2906b810c7d4411798c6938adc9daaa5     NaN      NaN     NaN\n",
       "3       fafdcd668e3743c1bb461111dcafc2a4     NaN      NaN     NaN\n",
       "4       4d5c57ea9a6940dd891ad53e9dbe8da0     NaN      NaN     NaN\n",
       "...                                  ...     ...      ...     ...\n",
       "306529                               NaN    1.59      NaN     NaN\n",
       "306530                               NaN    9.53      NaN     NaN\n",
       "306531                               NaN    3.61      NaN     NaN\n",
       "306532                               NaN    3.53      NaN     NaN\n",
       "306533                               NaN    4.05      NaN     NaN\n",
       "\n",
       "[306534 rows x 4 columns]"
      ]
     },
     "execution_count": 66,
     "metadata": {},
     "output_type": "execute_result"
    }
   ],
   "source": [
    "# Ref: https://www.codegrepper.com/code-examples/python/dict+column+to+be+in+multiple+columns+python\n",
    "value_dum = transcript['value'].apply(pd.Series)\n",
    "transcript.to_pickle(\"./transcript.pkl\")\n",
    "value_dum"
   ]
  },
  {
   "cell_type": "markdown",
   "metadata": {},
   "source": [
    "offer id and offer_id should be the same. We will combine both columns.\n",
    "Reward might be a new column we have not accounted for in the beginning."
   ]
  },
  {
   "cell_type": "code",
   "execution_count": 67,
   "metadata": {},
   "outputs": [
    {
     "data": {
      "text/plain": [
       "True     272955\n",
       "False     33579\n",
       "Name: offer_id, dtype: int64"
      ]
     },
     "execution_count": 67,
     "metadata": {},
     "output_type": "execute_result"
    }
   ],
   "source": [
    "# Let us check if this attribute is empty - It is not\n",
    "value_dum['offer_id'].isnull().value_counts()"
   ]
  },
  {
   "cell_type": "code",
   "execution_count": 68,
   "metadata": {},
   "outputs": [
    {
     "name": "stdout",
     "output_type": "stream",
     "text": [
      "Number of records where offer_id is NOT null 33579\n"
     ]
    },
    {
     "data": {
      "text/plain": [
       "True    33579\n",
       "Name: offer id, dtype: int64"
      ]
     },
     "execution_count": 68,
     "metadata": {},
     "output_type": "execute_result"
    }
   ],
   "source": [
    "# Let us check if the values that are NOT missing in offer_id overlap with the ones NOT missing in offer id\n",
    "print('Number of records where offer_id is NOT null', value_dum[~value_dum['offer_id'].isnull()].shape[0])\n",
    "# If the number of missing values in 'offer id' is equal to the following number, then, while there is an overlap\n",
    "# of both attributes in missing values, there is no overlap when there is content (we can assure this by means of\n",
    "# the mehtod used to find this value thorugh pandas) - We count nan values of 'offer id' in a df where there are NO\n",
    "# nans in 'offer_id'\n",
    "value_dum[~value_dum['offer_id'].isnull()]['offer id'].isnull().value_counts()"
   ]
  },
  {
   "cell_type": "markdown",
   "metadata": {},
   "source": [
    "We thus conclude that the columns 'offer id' and 'offer_id' are the same (duh! - but one needs to cross check). We need to merge them."
   ]
  },
  {
   "cell_type": "code",
   "execution_count": 69,
   "metadata": {},
   "outputs": [
    {
     "name": "stdout",
     "output_type": "stream",
     "text": [
      "False\n",
      "False\n",
      "True\n"
     ]
    }
   ],
   "source": [
    "# Let us check how to identify the nan value\n",
    "print(value_dum['offer_id'].iloc[-1] is None)\n",
    "print(value_dum['offer_id'].iloc[-1] is np.nan)\n",
    "print(pd.isna(value_dum['offer_id'].iloc[-1]))"
   ]
  },
  {
   "cell_type": "code",
   "execution_count": 70,
   "metadata": {
    "scrolled": true
   },
   "outputs": [],
   "source": [
    "# Let us check if the values that are NOT missing in offer_id overlap with the ones NOT missing in offer id\n",
    "value_dum['offer_id'] = value_dum.apply(lambda row: row['offer_id'] if pd.isna(row['offer id']) else row['offer id'], axis=1)"
   ]
  },
  {
   "cell_type": "code",
   "execution_count": 71,
   "metadata": {},
   "outputs": [],
   "source": [
    "# We drop the column from value_dum that is not useful\n",
    "value_dum.drop(columns=['offer id'], inplace=True)\n",
    "\n",
    "# We drop the old column and concat the new one\n",
    "transcript.drop(columns=['value'], inplace=True)\n",
    "\n",
    "# We concat the new set of columns\n",
    "transcript = pd.concat([transcript, value_dum], axis=1)"
   ]
  },
  {
   "cell_type": "markdown",
   "metadata": {},
   "source": [
    "###### We convert the offer id into the id we created before"
   ]
  },
  {
   "cell_type": "code",
   "execution_count": 72,
   "metadata": {},
   "outputs": [],
   "source": [
    "# Read back the dictionary\n",
    "with open('offer_id_dict.pickle', 'rb') as handle:\n",
    "    offer_id_dict = pickle.load(handle) "
   ]
  },
  {
   "cell_type": "code",
   "execution_count": 73,
   "metadata": {},
   "outputs": [],
   "source": [
    "# Now we convert the column: https://stackoverflow.com/questions/20250771/remap-values-in-pandas-column-with-a-dict\n",
    "transcript = transcript.replace({\"offer_id\": offer_id_dict})"
   ]
  },
  {
   "cell_type": "code",
   "execution_count": 74,
   "metadata": {},
   "outputs": [],
   "source": [
    "# It tool a long time to execute the previous cell, let us do a check point\n",
    "transcript.to_pickle(\"./transcript.pkl\")"
   ]
  },
  {
   "cell_type": "markdown",
   "metadata": {},
   "source": [
    "#### Data cleansing"
   ]
  },
  {
   "cell_type": "markdown",
   "metadata": {},
   "source": [
    "Undesirable value detection:\n",
    "1. Missing values: offer_id, amount, reward.\n",
    "3. Duplicates: No\n",
    "4. Incorrect values: offer ids are floats and not ints (probably becuase there are nans in the same column and somehow it affected the converion)\n",
    "5. Irrelevant: \n",
    "\n",
    "Measures:\n",
    "1. Replace: offer_id nans with the value 10 (one above the last offer id). amount and reward nans will be replaced with a 0\n",
    "2. Modify: offer_id into int again \n",
    "3. Delete: none"
   ]
  },
  {
   "cell_type": "markdown",
   "metadata": {},
   "source": [
    "###### Replace offer_id nans with the value 10"
   ]
  },
  {
   "cell_type": "code",
   "execution_count": 75,
   "metadata": {},
   "outputs": [
    {
     "name": "stdout",
     "output_type": "stream",
     "text": [
      "False\n",
      "False\n",
      "True\n",
      "False\n"
     ]
    }
   ],
   "source": [
    "# Let us check how to identify the nan value\n",
    "print(transcript['offer_id'].iloc[-1] == None)\n",
    "print(transcript['offer_id'].iloc[-1] is np.nan)\n",
    "print(pd.isna(transcript['offer_id'].iloc[-1]))\n",
    "print(transcript['offer_id'].iloc[-1] == 'nan')"
   ]
  },
  {
   "cell_type": "code",
   "execution_count": 76,
   "metadata": {},
   "outputs": [],
   "source": [
    "# We perform the change\n",
    "transcript['offer_id'] = transcript['offer_id'].apply(lambda x: 10 if pd.isna(x) else x)"
   ]
  },
  {
   "cell_type": "markdown",
   "metadata": {},
   "source": [
    "###### Convert offer_id into ints"
   ]
  },
  {
   "cell_type": "code",
   "execution_count": 77,
   "metadata": {},
   "outputs": [],
   "source": [
    "transcript = transcript.astype({\"offer_id\": int})"
   ]
  },
  {
   "cell_type": "markdown",
   "metadata": {},
   "source": [
    "###### Replace amount nans with 0"
   ]
  },
  {
   "cell_type": "code",
   "execution_count": 78,
   "metadata": {},
   "outputs": [
    {
     "name": "stdout",
     "output_type": "stream",
     "text": [
      "False\n",
      "False\n",
      "True\n",
      "False\n"
     ]
    }
   ],
   "source": [
    "# Let us check how to identify the nan value\n",
    "print(transcript['amount'].iloc[0] == None)\n",
    "print(transcript['amount'].iloc[0] is np.nan)\n",
    "print(pd.isna(transcript['amount'].iloc[0]))\n",
    "print(transcript['amount'].iloc[0] == 'nan')"
   ]
  },
  {
   "cell_type": "code",
   "execution_count": 79,
   "metadata": {},
   "outputs": [],
   "source": [
    "# We perform the change\n",
    "transcript['amount'] = transcript['amount'].apply(lambda x: 0 if pd.isna(x) else x)"
   ]
  },
  {
   "cell_type": "markdown",
   "metadata": {},
   "source": [
    "###### Replace reward nans with 0"
   ]
  },
  {
   "cell_type": "code",
   "execution_count": 80,
   "metadata": {},
   "outputs": [
    {
     "name": "stdout",
     "output_type": "stream",
     "text": [
      "False\n",
      "False\n",
      "True\n",
      "False\n"
     ]
    }
   ],
   "source": [
    "# Let us check how to identify the nan value\n",
    "print(transcript['reward'].iloc[0] == None)\n",
    "print(transcript['reward'].iloc[0] is np.nan)\n",
    "print(pd.isna(transcript['reward'].iloc[0]))\n",
    "print(transcript['reward'].iloc[0] == 'nan')"
   ]
  },
  {
   "cell_type": "code",
   "execution_count": 81,
   "metadata": {},
   "outputs": [],
   "source": [
    "# We perform the change\n",
    "transcript['reward'] = transcript['reward'].apply(lambda x: 0 if pd.isna(x) else x)"
   ]
  },
  {
   "cell_type": "markdown",
   "metadata": {},
   "source": [
    "Let us change the column names with the appropiate units"
   ]
  },
  {
   "cell_type": "code",
   "execution_count": 82,
   "metadata": {},
   "outputs": [],
   "source": [
    "transcript.columns = ['customer_id', 'event', 'time_[h]', 'amount_[$]', 'offer_id', 'reward_[$]']"
   ]
  },
  {
   "cell_type": "code",
   "execution_count": 83,
   "metadata": {},
   "outputs": [],
   "source": [
    "# It tool a long time to execute the previous cell, let us do a check point\n",
    "transcript.to_pickle(\"./transcript.pkl\")"
   ]
  },
  {
   "cell_type": "markdown",
   "metadata": {},
   "source": [
    "#### Feature engineering"
   ]
  },
  {
   "cell_type": "code",
   "execution_count": 84,
   "metadata": {},
   "outputs": [
    {
     "data": {
      "text/html": [
       "<div>\n",
       "<style scoped>\n",
       "    .dataframe tbody tr th:only-of-type {\n",
       "        vertical-align: middle;\n",
       "    }\n",
       "\n",
       "    .dataframe tbody tr th {\n",
       "        vertical-align: top;\n",
       "    }\n",
       "\n",
       "    .dataframe thead th {\n",
       "        text-align: right;\n",
       "    }\n",
       "</style>\n",
       "<table border=\"1\" class=\"dataframe\">\n",
       "  <thead>\n",
       "    <tr style=\"text-align: right;\">\n",
       "      <th></th>\n",
       "      <th>customer_id</th>\n",
       "      <th>event</th>\n",
       "      <th>time_[h]</th>\n",
       "      <th>amount_[$]</th>\n",
       "      <th>offer_id</th>\n",
       "      <th>reward_[$]</th>\n",
       "    </tr>\n",
       "  </thead>\n",
       "  <tbody>\n",
       "    <tr>\n",
       "      <th>0</th>\n",
       "      <td>3</td>\n",
       "      <td>offer received</td>\n",
       "      <td>0</td>\n",
       "      <td>0.00</td>\n",
       "      <td>3</td>\n",
       "      <td>0.0</td>\n",
       "    </tr>\n",
       "    <tr>\n",
       "      <th>1</th>\n",
       "      <td>4</td>\n",
       "      <td>offer received</td>\n",
       "      <td>0</td>\n",
       "      <td>0.00</td>\n",
       "      <td>4</td>\n",
       "      <td>0.0</td>\n",
       "    </tr>\n",
       "    <tr>\n",
       "      <th>2</th>\n",
       "      <td>5</td>\n",
       "      <td>offer received</td>\n",
       "      <td>0</td>\n",
       "      <td>0.00</td>\n",
       "      <td>9</td>\n",
       "      <td>0.0</td>\n",
       "    </tr>\n",
       "    <tr>\n",
       "      <th>3</th>\n",
       "      <td>6</td>\n",
       "      <td>offer received</td>\n",
       "      <td>0</td>\n",
       "      <td>0.00</td>\n",
       "      <td>6</td>\n",
       "      <td>0.0</td>\n",
       "    </tr>\n",
       "    <tr>\n",
       "      <th>4</th>\n",
       "      <td>7</td>\n",
       "      <td>offer received</td>\n",
       "      <td>0</td>\n",
       "      <td>0.00</td>\n",
       "      <td>1</td>\n",
       "      <td>0.0</td>\n",
       "    </tr>\n",
       "    <tr>\n",
       "      <th>...</th>\n",
       "      <td>...</td>\n",
       "      <td>...</td>\n",
       "      <td>...</td>\n",
       "      <td>...</td>\n",
       "      <td>...</td>\n",
       "      <td>...</td>\n",
       "    </tr>\n",
       "    <tr>\n",
       "      <th>306529</th>\n",
       "      <td>16959</td>\n",
       "      <td>transaction</td>\n",
       "      <td>714</td>\n",
       "      <td>1.59</td>\n",
       "      <td>10</td>\n",
       "      <td>0.0</td>\n",
       "    </tr>\n",
       "    <tr>\n",
       "      <th>306530</th>\n",
       "      <td>16964</td>\n",
       "      <td>transaction</td>\n",
       "      <td>714</td>\n",
       "      <td>9.53</td>\n",
       "      <td>10</td>\n",
       "      <td>0.0</td>\n",
       "    </tr>\n",
       "    <tr>\n",
       "      <th>306531</th>\n",
       "      <td>16979</td>\n",
       "      <td>transaction</td>\n",
       "      <td>714</td>\n",
       "      <td>3.61</td>\n",
       "      <td>10</td>\n",
       "      <td>0.0</td>\n",
       "    </tr>\n",
       "    <tr>\n",
       "      <th>306532</th>\n",
       "      <td>16987</td>\n",
       "      <td>transaction</td>\n",
       "      <td>714</td>\n",
       "      <td>3.53</td>\n",
       "      <td>10</td>\n",
       "      <td>0.0</td>\n",
       "    </tr>\n",
       "    <tr>\n",
       "      <th>306533</th>\n",
       "      <td>16994</td>\n",
       "      <td>transaction</td>\n",
       "      <td>714</td>\n",
       "      <td>4.05</td>\n",
       "      <td>10</td>\n",
       "      <td>0.0</td>\n",
       "    </tr>\n",
       "  </tbody>\n",
       "</table>\n",
       "<p>306534 rows × 6 columns</p>\n",
       "</div>"
      ],
      "text/plain": [
       "        customer_id           event  time_[h]  amount_[$]  offer_id  \\\n",
       "0                 3  offer received         0        0.00         3   \n",
       "1                 4  offer received         0        0.00         4   \n",
       "2                 5  offer received         0        0.00         9   \n",
       "3                 6  offer received         0        0.00         6   \n",
       "4                 7  offer received         0        0.00         1   \n",
       "...             ...             ...       ...         ...       ...   \n",
       "306529        16959     transaction       714        1.59        10   \n",
       "306530        16964     transaction       714        9.53        10   \n",
       "306531        16979     transaction       714        3.61        10   \n",
       "306532        16987     transaction       714        3.53        10   \n",
       "306533        16994     transaction       714        4.05        10   \n",
       "\n",
       "        reward_[$]  \n",
       "0              0.0  \n",
       "1              0.0  \n",
       "2              0.0  \n",
       "3              0.0  \n",
       "4              0.0  \n",
       "...            ...  \n",
       "306529         0.0  \n",
       "306530         0.0  \n",
       "306531         0.0  \n",
       "306532         0.0  \n",
       "306533         0.0  \n",
       "\n",
       "[306534 rows x 6 columns]"
      ]
     },
     "execution_count": 84,
     "metadata": {},
     "output_type": "execute_result"
    }
   ],
   "source": [
    "transcript = pd.read_pickle(\"./transcript.pkl\")\n",
    "transcript"
   ]
  },
  {
   "cell_type": "markdown",
   "metadata": {},
   "source": [
    "We would like to combine all datasets to feed it to a model. The transcript dataset contains information about successful and unsuccessful offers, about the purchasing of the customers and about the rewards they have retrieved. \n",
    "We have two id columns, we can use them as foreign keys for the primary keys in the other two datasets to combine them. However, we cannot do that yet. We have to distill the data of the transcript data set to obtain the valuable information that will allow us to prognosticate if an offer will be accepted or not by an individual in the future. \n",
    "So first of all, how the ideal dataset would look like:"
   ]
  },
  {
   "cell_type": "markdown",
   "metadata": {},
   "source": [
    "Offer id |...offer properties...| customer id | ...customer qualities... | success/no_success| profit | Viewed/Not viewed | Received/not_received"
   ]
  },
  {
   "cell_type": "markdown",
   "metadata": {},
   "source": [
    "In order to get this datset, we need to assess the success of the offer. For that, we need to attach to the transcript dataset information from the portfolio: **offer duration, reward, difficulty** and type for data exploration.\n",
    "- Success column: an offer is successful if a user has purchased the amount of the difficulty before the offer expires. thus, we need the duration and difficulty.\n",
    "- Profit column: we coul dmake predictions and comparisons between groups with this column. for this we need: difficulty - reward.\n",
    "- Viewed column: we need the event column of transaction\n",
    "- Received column: we need the event column from transaction"
   ]
  },
  {
   "cell_type": "markdown",
   "metadata": {},
   "source": [
    "Now let us start joining the transaction and the portfolio dataset"
   ]
  },
  {
   "cell_type": "code",
   "execution_count": 85,
   "metadata": {},
   "outputs": [],
   "source": [
    "# First, let us read again the portfolio\n",
    "portfolio = pd.read_pickle(\"./portfolio.pkl\")"
   ]
  },
  {
   "cell_type": "markdown",
   "metadata": {},
   "source": [
    "We will add a virtual row for an offer with id 10, menaing that the offer does not exits. This will be attached to the rows of transacript where there was no offer made, but nonetheless there was a transaction."
   ]
  },
  {
   "cell_type": "code",
   "execution_count": 86,
   "metadata": {},
   "outputs": [],
   "source": [
    "new_row = {'reward_[$]':[0],  'difficulty_[$]':[0], 'duration_[h]':[0], 'offer_id':[10], 'offer_type_bogo':[0], 'offer_type_discount':[0], \\\n",
    "           'offer_type_informational':[0], 'offer_type':'none', 'channel_mobile':[0], 'channel_social':[0], 'channel_web':[0]}\n",
    "new_row = pd.DataFrame.from_dict(new_row)\n",
    "portfolio = portfolio.append(new_row) \n",
    "portfolio.to_pickle(\"./portfolio.pkl\")"
   ]
  },
  {
   "cell_type": "code",
   "execution_count": 87,
   "metadata": {},
   "outputs": [],
   "source": [
    "transcript = pd.merge(transcript, portfolio, on='offer_id', how='left', sort=True, suffixes=('_trans', '_port'))\n",
    "transcript = transcript.drop(columns=['offer_type_bogo', 'offer_type_discount', 'offer_type_informational', 'channel_mobile', 'channel_social', 'channel_web'])"
   ]
  },
  {
   "cell_type": "markdown",
   "metadata": {},
   "source": [
    "(The offer_type attribute is only used for exploring raw data more easily, not needed to distill information)"
   ]
  },
  {
   "cell_type": "markdown",
   "metadata": {},
   "source": [
    "Let us check that we still have all the rows from transaction data, i.e. the left join was successful - we see it is, it contains all the infromation."
   ]
  },
  {
   "cell_type": "code",
   "execution_count": 88,
   "metadata": {},
   "outputs": [
    {
     "data": {
      "text/plain": [
       "306534"
      ]
     },
     "execution_count": 88,
     "metadata": {},
     "output_type": "execute_result"
    }
   ],
   "source": [
    "transcript.shape[0]"
   ]
  },
  {
   "cell_type": "markdown",
   "metadata": {},
   "source": [
    "We create a groubby object based on customer:"
   ]
  },
  {
   "cell_type": "code",
   "execution_count": 89,
   "metadata": {},
   "outputs": [],
   "source": [
    "customer_transactions = transcript.groupby(['customer_id'])"
   ]
  },
  {
   "cell_type": "markdown",
   "metadata": {},
   "source": [
    "**Build dictionary to store the distilled values foolowing:**\n",
    "\n",
    "Offer id |...offer properties...| customer id | ...customer qualities... | success/failure/Not_applicable | profit | Viewed/Not viewed | Received/not_received | effective_time"
   ]
  },
  {
   "cell_type": "code",
   "execution_count": 90,
   "metadata": {},
   "outputs": [],
   "source": [
    "ledger = {'customer_id': [], 'offer_id': [], 'received':[], 'viewed':[], 'completed':[], 'success': [], 'profit': []}\n"
   ]
  },
  {
   "cell_type": "markdown",
   "metadata": {},
   "source": [
    "We will append to this ledger the values sequentially. 'success' will be categorical for now, as there could be 3 possibilities."
   ]
  },
  {
   "cell_type": "markdown",
   "metadata": {},
   "source": [
    "###### Fearure engineering algorithm"
   ]
  },
  {
   "cell_type": "code",
   "execution_count": 91,
   "metadata": {},
   "outputs": [],
   "source": [
    "# Let us get every customer id in a list\n",
    "customer_ids = np.sort(transcript['customer_id'].unique())\n",
    "# Let is get every offer id in a list, \n",
    "offer_ids = np.sort(portfolio['offer_id'].unique())\n",
    "# Let us get a list of informatinoal offer ids, as they behave differently\n",
    "informational_offer_ids = [2, 7]\n",
    "# this is the id for the added offer which is not an offer\n",
    "non_offer_id = 10"
   ]
  },
  {
   "cell_type": "markdown",
   "metadata": {},
   "source": [
    "We have in mind that the last offer id is a non offer. And that bogos and discounts act essenstially in the same manner."
   ]
  },
  {
   "cell_type": "markdown",
   "metadata": {},
   "source": [
    "Something to note is that a customer might not spend exactly the same amount of money needed to fulfill the offer, that is interesting but unfortunately, becuase offers overlap, you cannot really assign a profit to a offer-customer pair aside from the obvious one of difficulty - reward."
   ]
  },
  {
   "cell_type": "markdown",
   "metadata": {},
   "source": [
    "What we will do for the profit attribute:\n",
    "bogos and discount profit = difficulty- reward (Note that bogos will have a profit of 0)\n",
    "informational = the amount of dollars transacted in its period. We could also subtract the rewards obtained in that period, but it would only be useful if we added the other offers that were completed at the same time. This is out of scope for my questions. So the word profit for informational is not completely right.\n",
    "non_offer = the amount of dollars outside any offer period"
   ]
  },
  {
   "cell_type": "markdown",
   "metadata": {},
   "source": [
    "Further considerations:\n",
    "For viewed or completed to happen, at least received has had to happen.\n",
    "There is no complete offer event outside the limit of time (offer leaves the app)\n",
    "There is no viewed offer event after the limit of time (offer leaves the app)\n",
    "There can be a viewed event after the complete event, so the offer is failure.\n",
    "Offers, be them the same or different, can overlap, which makes calculating which offer was successful trickier\n",
    "You can get the same offer in the same interval of time, you could get this combination: Received offer, received offer, complete offer, view offer, complete offer, view offer. You might think that at least one of the offers was successful, as view happens before complete at least once. That is in my view wrong. We assume that the same offer type comes sequentially, so the first time you see it, it belongs to the first offer you received, so that is why, in that sequence, both offers of the same type failed. We would need an identifier that says to which offer it belongs that helps you distinguish between views and completions of the same offer type.\n",
    "For the non-offers, we count only the gaps not influenced by an offer. Even if the offer was completed, we consider still it s influence."
   ]
  },
  {
   "cell_type": "markdown",
   "metadata": {},
   "source": [
    "The algorithm to find successful offers per customer (feature engineering):\n",
    "1. Group by customer\n",
    "2. Loop through each customer (for)\n",
    "    3. Loop through each offer (for)\n",
    "        4. Bogos and discounts: distill information about success, viewed, received, effective time and profit.\n",
    "            1. Get the amount of received offers\n",
    "            2. Iterate sequentially in time and event ordered, and find viewed or completed events. Depending on what was seen before, offers will have been successful or not\n",
    "        5. Informational: idem, but there is no concept of success\n",
    "        6. Non-offer: find the gaps where no offer was active and use these gaps to add the profit    \n",
    " \n",
    "*Profit is viewed at the end-customer of course, not considering how much money costs to sell the product. \n",
    "\n",
    "*Transaction periods can overlap"
   ]
  },
  {
   "cell_type": "code",
   "execution_count": 92,
   "metadata": {
    "scrolled": true
   },
   "outputs": [
    {
     "name": "stderr",
     "output_type": "stream",
     "text": [
      "[========================================================================] 100%\n"
     ]
    }
   ],
   "source": [
    "ledger = {'customer_id': [], 'offer_id': [], 'received':[], 'viewed':[], 'completed':[], 'success': [], 'profit': []}\n",
    "\n",
    "# initialize the progress bar\n",
    "bar = progressbar.ProgressBar(maxval=len(customer_ids), \\\n",
    "    widgets=[progressbar.Bar('=', '[', ']'), ' ', progressbar.Percentage()])\n",
    "\n",
    "# For sorting the events later, as receive and view can happen in the same hour\n",
    "event_sort = {'offer received':0,'offer viewed':1,'offer completed':2}\n",
    "\n",
    "# start the loop through the customer transaction entries\n",
    "bar.start()\n",
    "for customer_id in customer_transactions.groups.keys():\n",
    "    \n",
    "    # We isolate the customers\n",
    "    customer = customer_transactions.get_group(customer_id)\n",
    "    \n",
    "    # We get the offers received by the customer\n",
    "    customer_offer_ids = customer['offer_id'].unique()\n",
    "    \n",
    "    # Loop thorugh customer offers\n",
    "    for customer_offer_id in customer_offer_ids:\n",
    "        \n",
    "        # we filter the offer currently on in the loop\n",
    "        offers = customer.loc[(customer['offer_id'] == customer_offer_id)]\n",
    "        \n",
    "        # The events at the same hour are not ordered like R - V - C, so we must order them\n",
    "        offers['name_sort'] = offers['event'].map(event_sort)\n",
    "        offers = offers.sort_values(['time_[h]', 'name_sort'], ascending=[True, True])\n",
    "        \n",
    "        # We focus in BOGOS AND DISCOUNTS\n",
    "        if (customer_offer_id not in informational_offer_ids) and (customer_offer_id != non_offer_id):\n",
    "            \n",
    "            ledger_temp = {}\n",
    "            received_offers = offers.loc[offers['event'] == 'offer received'].shape[0]\n",
    "            for i in range(0, received_offers):\n",
    "            \n",
    "                ledger_temp[i] = {'received':1, 'viewed':0, 'completed':0, 'success': 0, 'profit': 0}\n",
    "                \n",
    "            # We loop through each row of the customer offer sub dataframe\n",
    "            for index, row in offers.iterrows():\n",
    "                \n",
    "                if (row['event'] == 'offer viewed'):\n",
    "                    \n",
    "                    for i in range(0, received_offers):\n",
    "                        \n",
    "                        if (ledger_temp[i]['viewed'] == 0):\n",
    "                            \n",
    "                            ledger_temp[i]['viewed'] = 1\n",
    "                            \n",
    "                            break\n",
    "                \n",
    "                elif (row['event'] == 'offer completed'):\n",
    "                \n",
    "                    for i in range(0, received_offers):\n",
    "                        \n",
    "                        if (ledger_temp[i]['completed'] == 0):\n",
    "                            \n",
    "                            ledger_temp[i]['completed'] = 1\n",
    "                            \n",
    "                            # only if it was viewed before was successful\n",
    "                            if (ledger_temp[i]['viewed'] == 1):\n",
    "                            \n",
    "                                ledger_temp[i]['success'] = 1\n",
    "                                ledger_temp[i]['profit'] = row['difficulty_[$]'] - row['reward_[$]_port']\n",
    "\n",
    "                            break   \n",
    "                            \n",
    "            for i in  range(0, received_offers):\n",
    "                \n",
    "                ledger['customer_id'].append(customer_id)\n",
    "                ledger['offer_id'].append(customer_offer_id)\n",
    "                ledger['received'].append(ledger_temp[i]['received'])\n",
    "                ledger['viewed'].append(ledger_temp[i]['viewed'])\n",
    "                ledger['completed'].append(ledger_temp[i]['completed'])\n",
    "                ledger['success'].append(ledger_temp[i]['success'])\n",
    "                ledger['profit'].append(ledger_temp[i]['profit'])\n",
    "\n",
    "        # We focus on INFORMATIONAL \n",
    "        elif (customer_offer_id != non_offer_id):\n",
    "            \n",
    "            ledger_temp = {}\n",
    "            received_offer_counter = 0                               \n",
    "            # We loop through each row of the customer offer sub dataframe\n",
    "            for index, row in offers.iterrows():\n",
    "                \n",
    "                if (row['event'] == 'offer received'): \n",
    "                    \n",
    "                    ledger_temp[received_offer_counter] = {'received':1, 'time_received':row['time_[h]'], 'viewed':0, 'completed':0, 'success': 0, 'profit': 0}\n",
    "                    received_offer_counter += 1\n",
    "                    \n",
    "                    \n",
    "                if (row['event'] == 'offer viewed'): \n",
    "                    \n",
    "                    # Calculate profit\n",
    "                    for i in range(0, received_offer_counter):\n",
    "                        \n",
    "                        if ledger_temp[i]['viewed'] == 0:\n",
    "                            \n",
    "                            ledger_temp[i]['viewed'] = 1\n",
    "                            \n",
    "                            time_of_view = row['time_[h]']\n",
    "                            expire_offer_time = ledger_temp[i]['time_received'] + row['duration_[h]']\n",
    "                            profit = customer.loc[(customer['time_[h]'] >= time_of_view) & \\\n",
    "                                (customer['time_[h]'] <= expire_offer_time)]['amount_[$]'].sum()\n",
    "\n",
    "                            ledger_temp[i]['profit'] = profit\n",
    "                            \n",
    "                            # We consider it successful if the customer bought something\n",
    "                            if profit > 0:\n",
    "                                \n",
    "                                ledger_temp[i]['success'] = 1\n",
    "                        \n",
    "                        break\n",
    "\n",
    "            for i in  range(0, received_offer_counter):\n",
    "                \n",
    "                ledger['customer_id'].append(customer_id)\n",
    "                ledger['offer_id'].append(customer_offer_id)\n",
    "                ledger['received'].append(ledger_temp[i]['received'])\n",
    "                ledger['viewed'].append(ledger_temp[i]['viewed'])\n",
    "                ledger['completed'].append(ledger_temp[i]['completed'])\n",
    "                ledger['success'].append(ledger_temp[i]['success'])\n",
    "                ledger['profit'].append(ledger_temp[i]['profit'])\n",
    "    \n",
    "    # Order the offers properly\n",
    "    # The events at the same hour are not ordered like R - V - C, so we must order them\n",
    "    temp_customer = customer\n",
    "    temp_customer['name_sort'] = temp_customer['event'].map(event_sort)\n",
    "    temp_customer = temp_customer.sort_values(['time_[h]', 'name_sort'], ascending=[True, True])\n",
    "                    \n",
    "    # We get the amount spent without offer influence\n",
    "    # We find the first and last offer received\n",
    "    start_times = []\n",
    "    end_times = []\n",
    "    offers_received = False\n",
    "    for index, row in temp_customer.iterrows():\n",
    "        \n",
    "        if row['event'] == 'offer received':\n",
    "    \n",
    "            start_times.append(row['time_[h]'])\n",
    "            end_times.append(row['time_[h]'] + row['duration_[h]'])\n",
    "            offers_received = True\n",
    "    \n",
    "    if offers_received:\n",
    "        \n",
    "        time_gap_start = []\n",
    "        time_gap_start.append(0)\n",
    "        time_gap_end = []\n",
    "        time_gap_end.append(start_times[0])\n",
    "        for index in range(0, len(start_times)-1):\n",
    "\n",
    "            if end_times[index] < start_times[index+1]:\n",
    "\n",
    "                time_gap_start.append(end_times[index])\n",
    "                time_gap_end.append(start_times[index+1])\n",
    "\n",
    "        time_gap_start.append(end_times[-1])\n",
    "        time_gap_end.append(temp_customer.iloc[-1]['time_[h]'])\n",
    "        # Initialize the amount\n",
    "        total_profit = 0\n",
    "        for index in range(0, len(time_gap_start)): \n",
    "\n",
    "            total_profit += temp_customer.loc[(temp_customer['time_[h]'] >= time_gap_start[index]) & \\\n",
    "                                       (temp_customer['time_[h]'] <= time_gap_end[index])]['amount_[$]'].sum()\n",
    "    \n",
    "    else:\n",
    "        \n",
    "        total_profit = temp_customer.loc[temp_customer['offer_id'] == non_offer_id]['amount_[$]'].sum()\n",
    "    \n",
    "    ledger['customer_id'].append(customer_id)\n",
    "    ledger['offer_id'].append(non_offer_id)\n",
    "    ledger['received'].append(0)\n",
    "    ledger['viewed'].append(0)\n",
    "    ledger['completed'].append(0)\n",
    "    ledger['success'].append(0)\n",
    "    ledger['profit'].append(total_profit)\n",
    "\n",
    "    # initialize bool and total profit again\n",
    "    offers_received = False\n",
    "    total_profit = 0\n",
    "    \n",
    "    # progress bar\n",
    "    bar.update(customer_id+1)\n",
    "    sleep(0.1)\n",
    "    \n",
    "bar.finish()"
   ]
  },
  {
   "cell_type": "markdown",
   "metadata": {},
   "source": [
    "We save the ledger"
   ]
  },
  {
   "cell_type": "code",
   "execution_count": 93,
   "metadata": {},
   "outputs": [],
   "source": [
    "with open('ledger.pickle', 'wb') as handle:\n",
    "    pickle.dump(ledger, handle, protocol=pickle.HIGHEST_PROTOCOL)"
   ]
  },
  {
   "cell_type": "code",
   "execution_count": 94,
   "metadata": {},
   "outputs": [],
   "source": [
    "Starbucks_ledger = pd.DataFrame.from_dict(ledger)"
   ]
  },
  {
   "cell_type": "code",
   "execution_count": 95,
   "metadata": {},
   "outputs": [],
   "source": [
    "Starbucks_ledger.to_pickle(\"./Starbucks_ledger.pkl\")"
   ]
  },
  {
   "cell_type": "markdown",
   "metadata": {},
   "source": [
    "#### FINAL STEP: Join all three datasets, Portfolio, profile and ledger"
   ]
  },
  {
   "cell_type": "code",
   "execution_count": 96,
   "metadata": {},
   "outputs": [],
   "source": [
    "# We read the wrangled and clean datasets\n",
    "portfolio = pd.read_pickle(\"./portfolio.pkl\")\n",
    "profile = pd.read_pickle(\"./profile.pkl\")\n",
    "Starbucks_ledger = pd.read_pickle(\"./Starbucks_ledger.pkl\")"
   ]
  },
  {
   "cell_type": "code",
   "execution_count": 97,
   "metadata": {},
   "outputs": [
    {
     "data": {
      "text/html": [
       "<div>\n",
       "<style scoped>\n",
       "    .dataframe tbody tr th:only-of-type {\n",
       "        vertical-align: middle;\n",
       "    }\n",
       "\n",
       "    .dataframe tbody tr th {\n",
       "        vertical-align: top;\n",
       "    }\n",
       "\n",
       "    .dataframe thead th {\n",
       "        text-align: right;\n",
       "    }\n",
       "</style>\n",
       "<table border=\"1\" class=\"dataframe\">\n",
       "  <thead>\n",
       "    <tr style=\"text-align: right;\">\n",
       "      <th></th>\n",
       "      <th>customer_id</th>\n",
       "      <th>offer_id</th>\n",
       "      <th>received</th>\n",
       "      <th>viewed</th>\n",
       "      <th>completed</th>\n",
       "      <th>success</th>\n",
       "      <th>profit</th>\n",
       "    </tr>\n",
       "  </thead>\n",
       "  <tbody>\n",
       "    <tr>\n",
       "      <th>0</th>\n",
       "      <td>0</td>\n",
       "      <td>4</td>\n",
       "      <td>1</td>\n",
       "      <td>1</td>\n",
       "      <td>0</td>\n",
       "      <td>0</td>\n",
       "      <td>0.00</td>\n",
       "    </tr>\n",
       "    <tr>\n",
       "      <th>1</th>\n",
       "      <td>0</td>\n",
       "      <td>5</td>\n",
       "      <td>1</td>\n",
       "      <td>1</td>\n",
       "      <td>1</td>\n",
       "      <td>1</td>\n",
       "      <td>4.00</td>\n",
       "    </tr>\n",
       "    <tr>\n",
       "      <th>2</th>\n",
       "      <td>0</td>\n",
       "      <td>6</td>\n",
       "      <td>1</td>\n",
       "      <td>1</td>\n",
       "      <td>1</td>\n",
       "      <td>1</td>\n",
       "      <td>8.00</td>\n",
       "    </tr>\n",
       "    <tr>\n",
       "      <th>3</th>\n",
       "      <td>0</td>\n",
       "      <td>6</td>\n",
       "      <td>1</td>\n",
       "      <td>1</td>\n",
       "      <td>0</td>\n",
       "      <td>0</td>\n",
       "      <td>0.00</td>\n",
       "    </tr>\n",
       "    <tr>\n",
       "      <th>4</th>\n",
       "      <td>0</td>\n",
       "      <td>9</td>\n",
       "      <td>1</td>\n",
       "      <td>1</td>\n",
       "      <td>0</td>\n",
       "      <td>0</td>\n",
       "      <td>0.00</td>\n",
       "    </tr>\n",
       "    <tr>\n",
       "      <th>...</th>\n",
       "      <td>...</td>\n",
       "      <td>...</td>\n",
       "      <td>...</td>\n",
       "      <td>...</td>\n",
       "      <td>...</td>\n",
       "      <td>...</td>\n",
       "      <td>...</td>\n",
       "    </tr>\n",
       "    <tr>\n",
       "      <th>93272</th>\n",
       "      <td>16999</td>\n",
       "      <td>2</td>\n",
       "      <td>1</td>\n",
       "      <td>0</td>\n",
       "      <td>0</td>\n",
       "      <td>0</td>\n",
       "      <td>0.00</td>\n",
       "    </tr>\n",
       "    <tr>\n",
       "      <th>93273</th>\n",
       "      <td>16999</td>\n",
       "      <td>2</td>\n",
       "      <td>1</td>\n",
       "      <td>0</td>\n",
       "      <td>0</td>\n",
       "      <td>0</td>\n",
       "      <td>0.00</td>\n",
       "    </tr>\n",
       "    <tr>\n",
       "      <th>93274</th>\n",
       "      <td>16999</td>\n",
       "      <td>5</td>\n",
       "      <td>1</td>\n",
       "      <td>1</td>\n",
       "      <td>1</td>\n",
       "      <td>1</td>\n",
       "      <td>4.00</td>\n",
       "    </tr>\n",
       "    <tr>\n",
       "      <th>93275</th>\n",
       "      <td>16999</td>\n",
       "      <td>8</td>\n",
       "      <td>1</td>\n",
       "      <td>1</td>\n",
       "      <td>1</td>\n",
       "      <td>0</td>\n",
       "      <td>0.00</td>\n",
       "    </tr>\n",
       "    <tr>\n",
       "      <th>93276</th>\n",
       "      <td>16999</td>\n",
       "      <td>10</td>\n",
       "      <td>0</td>\n",
       "      <td>0</td>\n",
       "      <td>0</td>\n",
       "      <td>0</td>\n",
       "      <td>24.71</td>\n",
       "    </tr>\n",
       "  </tbody>\n",
       "</table>\n",
       "<p>93277 rows × 7 columns</p>\n",
       "</div>"
      ],
      "text/plain": [
       "       customer_id  offer_id  received  viewed  completed  success  profit\n",
       "0                0         4         1       1          0        0    0.00\n",
       "1                0         5         1       1          1        1    4.00\n",
       "2                0         6         1       1          1        1    8.00\n",
       "3                0         6         1       1          0        0    0.00\n",
       "4                0         9         1       1          0        0    0.00\n",
       "...            ...       ...       ...     ...        ...      ...     ...\n",
       "93272        16999         2         1       0          0        0    0.00\n",
       "93273        16999         2         1       0          0        0    0.00\n",
       "93274        16999         5         1       1          1        1    4.00\n",
       "93275        16999         8         1       1          1        0    0.00\n",
       "93276        16999        10         0       0          0        0   24.71\n",
       "\n",
       "[93277 rows x 7 columns]"
      ]
     },
     "execution_count": 97,
     "metadata": {},
     "output_type": "execute_result"
    }
   ],
   "source": [
    "Starbucks_ledger"
   ]
  },
  {
   "cell_type": "code",
   "execution_count": 98,
   "metadata": {},
   "outputs": [],
   "source": [
    "Starbucks_final_df = pd.merge(Starbucks_ledger, profile, on='customer_id', how='left', sort=True, suffixes=('_led', '_pro'))\n"
   ]
  },
  {
   "cell_type": "code",
   "execution_count": 99,
   "metadata": {},
   "outputs": [],
   "source": [
    "Starbucks_final_df = pd.merge(Starbucks_final_df, portfolio, on='offer_id', how='left', sort=True, suffixes=('_led', '_port'))\n"
   ]
  },
  {
   "cell_type": "markdown",
   "metadata": {},
   "source": [
    "###### We save the FINAL dataframe as a pickle file"
   ]
  },
  {
   "cell_type": "code",
   "execution_count": 100,
   "metadata": {},
   "outputs": [],
   "source": [
    "Starbucks_final_df.to_pickle(\"./Starbucks_final_df.pkl\")"
   ]
  },
  {
   "cell_type": "code",
   "execution_count": 101,
   "metadata": {},
   "outputs": [],
   "source": [
    "Starbucks_final_df = pd.read_pickle(\"./Starbucks_final_df.pkl\")"
   ]
  },
  {
   "cell_type": "markdown",
   "metadata": {},
   "source": [
    "#### HERE IS THE BEAUTY:"
   ]
  },
  {
   "cell_type": "code",
   "execution_count": 102,
   "metadata": {},
   "outputs": [
    {
     "data": {
      "text/html": [
       "<div>\n",
       "<style scoped>\n",
       "    .dataframe tbody tr th:only-of-type {\n",
       "        vertical-align: middle;\n",
       "    }\n",
       "\n",
       "    .dataframe tbody tr th {\n",
       "        vertical-align: top;\n",
       "    }\n",
       "\n",
       "    .dataframe thead th {\n",
       "        text-align: right;\n",
       "    }\n",
       "</style>\n",
       "<table border=\"1\" class=\"dataframe\">\n",
       "  <thead>\n",
       "    <tr style=\"text-align: right;\">\n",
       "      <th></th>\n",
       "      <th>customer_id</th>\n",
       "      <th>offer_id</th>\n",
       "      <th>received</th>\n",
       "      <th>viewed</th>\n",
       "      <th>completed</th>\n",
       "      <th>success</th>\n",
       "      <th>profit</th>\n",
       "      <th>age</th>\n",
       "      <th>became_member_on_[y-m-d]</th>\n",
       "      <th>income_[$]</th>\n",
       "      <th>...</th>\n",
       "      <th>reward_[$]</th>\n",
       "      <th>difficulty_[$]</th>\n",
       "      <th>duration_[h]</th>\n",
       "      <th>offer_type_bogo</th>\n",
       "      <th>offer_type_discount</th>\n",
       "      <th>offer_type_informational</th>\n",
       "      <th>offer_type</th>\n",
       "      <th>channel_mobile</th>\n",
       "      <th>channel_social</th>\n",
       "      <th>channel_web</th>\n",
       "    </tr>\n",
       "  </thead>\n",
       "  <tbody>\n",
       "    <tr>\n",
       "      <th>0</th>\n",
       "      <td>3</td>\n",
       "      <td>0</td>\n",
       "      <td>1</td>\n",
       "      <td>1</td>\n",
       "      <td>1</td>\n",
       "      <td>1</td>\n",
       "      <td>0.00</td>\n",
       "      <td>75</td>\n",
       "      <td>2017-05-09</td>\n",
       "      <td>100000.000000</td>\n",
       "      <td>...</td>\n",
       "      <td>10</td>\n",
       "      <td>10</td>\n",
       "      <td>168</td>\n",
       "      <td>1</td>\n",
       "      <td>0</td>\n",
       "      <td>0</td>\n",
       "      <td>bogo</td>\n",
       "      <td>1</td>\n",
       "      <td>1</td>\n",
       "      <td>0</td>\n",
       "    </tr>\n",
       "    <tr>\n",
       "      <th>1</th>\n",
       "      <td>7</td>\n",
       "      <td>0</td>\n",
       "      <td>1</td>\n",
       "      <td>0</td>\n",
       "      <td>0</td>\n",
       "      <td>0</td>\n",
       "      <td>0.00</td>\n",
       "      <td>62</td>\n",
       "      <td>2017-10-02</td>\n",
       "      <td>65404.991568</td>\n",
       "      <td>...</td>\n",
       "      <td>10</td>\n",
       "      <td>10</td>\n",
       "      <td>168</td>\n",
       "      <td>1</td>\n",
       "      <td>0</td>\n",
       "      <td>0</td>\n",
       "      <td>bogo</td>\n",
       "      <td>1</td>\n",
       "      <td>1</td>\n",
       "      <td>0</td>\n",
       "    </tr>\n",
       "    <tr>\n",
       "      <th>2</th>\n",
       "      <td>10</td>\n",
       "      <td>0</td>\n",
       "      <td>1</td>\n",
       "      <td>1</td>\n",
       "      <td>1</td>\n",
       "      <td>1</td>\n",
       "      <td>0.00</td>\n",
       "      <td>62</td>\n",
       "      <td>2017-08-24</td>\n",
       "      <td>65404.991568</td>\n",
       "      <td>...</td>\n",
       "      <td>10</td>\n",
       "      <td>10</td>\n",
       "      <td>168</td>\n",
       "      <td>1</td>\n",
       "      <td>0</td>\n",
       "      <td>0</td>\n",
       "      <td>bogo</td>\n",
       "      <td>1</td>\n",
       "      <td>1</td>\n",
       "      <td>0</td>\n",
       "    </tr>\n",
       "    <tr>\n",
       "      <th>3</th>\n",
       "      <td>11</td>\n",
       "      <td>0</td>\n",
       "      <td>1</td>\n",
       "      <td>1</td>\n",
       "      <td>0</td>\n",
       "      <td>0</td>\n",
       "      <td>0.00</td>\n",
       "      <td>62</td>\n",
       "      <td>2015-09-19</td>\n",
       "      <td>65404.991568</td>\n",
       "      <td>...</td>\n",
       "      <td>10</td>\n",
       "      <td>10</td>\n",
       "      <td>168</td>\n",
       "      <td>1</td>\n",
       "      <td>0</td>\n",
       "      <td>0</td>\n",
       "      <td>bogo</td>\n",
       "      <td>1</td>\n",
       "      <td>1</td>\n",
       "      <td>0</td>\n",
       "    </tr>\n",
       "    <tr>\n",
       "      <th>4</th>\n",
       "      <td>13</td>\n",
       "      <td>0</td>\n",
       "      <td>1</td>\n",
       "      <td>1</td>\n",
       "      <td>1</td>\n",
       "      <td>0</td>\n",
       "      <td>0.00</td>\n",
       "      <td>61</td>\n",
       "      <td>2017-09-11</td>\n",
       "      <td>57000.000000</td>\n",
       "      <td>...</td>\n",
       "      <td>10</td>\n",
       "      <td>10</td>\n",
       "      <td>168</td>\n",
       "      <td>1</td>\n",
       "      <td>0</td>\n",
       "      <td>0</td>\n",
       "      <td>bogo</td>\n",
       "      <td>1</td>\n",
       "      <td>1</td>\n",
       "      <td>0</td>\n",
       "    </tr>\n",
       "    <tr>\n",
       "      <th>...</th>\n",
       "      <td>...</td>\n",
       "      <td>...</td>\n",
       "      <td>...</td>\n",
       "      <td>...</td>\n",
       "      <td>...</td>\n",
       "      <td>...</td>\n",
       "      <td>...</td>\n",
       "      <td>...</td>\n",
       "      <td>...</td>\n",
       "      <td>...</td>\n",
       "      <td>...</td>\n",
       "      <td>...</td>\n",
       "      <td>...</td>\n",
       "      <td>...</td>\n",
       "      <td>...</td>\n",
       "      <td>...</td>\n",
       "      <td>...</td>\n",
       "      <td>...</td>\n",
       "      <td>...</td>\n",
       "      <td>...</td>\n",
       "      <td>...</td>\n",
       "    </tr>\n",
       "    <tr>\n",
       "      <th>93272</th>\n",
       "      <td>16995</td>\n",
       "      <td>10</td>\n",
       "      <td>0</td>\n",
       "      <td>0</td>\n",
       "      <td>0</td>\n",
       "      <td>0</td>\n",
       "      <td>13.27</td>\n",
       "      <td>45</td>\n",
       "      <td>2018-06-04</td>\n",
       "      <td>54000.000000</td>\n",
       "      <td>...</td>\n",
       "      <td>0</td>\n",
       "      <td>0</td>\n",
       "      <td>0</td>\n",
       "      <td>0</td>\n",
       "      <td>0</td>\n",
       "      <td>0</td>\n",
       "      <td>none</td>\n",
       "      <td>0</td>\n",
       "      <td>0</td>\n",
       "      <td>0</td>\n",
       "    </tr>\n",
       "    <tr>\n",
       "      <th>93273</th>\n",
       "      <td>16996</td>\n",
       "      <td>10</td>\n",
       "      <td>0</td>\n",
       "      <td>0</td>\n",
       "      <td>0</td>\n",
       "      <td>0</td>\n",
       "      <td>19.51</td>\n",
       "      <td>61</td>\n",
       "      <td>2018-07-13</td>\n",
       "      <td>72000.000000</td>\n",
       "      <td>...</td>\n",
       "      <td>0</td>\n",
       "      <td>0</td>\n",
       "      <td>0</td>\n",
       "      <td>0</td>\n",
       "      <td>0</td>\n",
       "      <td>0</td>\n",
       "      <td>none</td>\n",
       "      <td>0</td>\n",
       "      <td>0</td>\n",
       "      <td>0</td>\n",
       "    </tr>\n",
       "    <tr>\n",
       "      <th>93274</th>\n",
       "      <td>16997</td>\n",
       "      <td>10</td>\n",
       "      <td>0</td>\n",
       "      <td>0</td>\n",
       "      <td>0</td>\n",
       "      <td>0</td>\n",
       "      <td>12.93</td>\n",
       "      <td>49</td>\n",
       "      <td>2017-01-26</td>\n",
       "      <td>73000.000000</td>\n",
       "      <td>...</td>\n",
       "      <td>0</td>\n",
       "      <td>0</td>\n",
       "      <td>0</td>\n",
       "      <td>0</td>\n",
       "      <td>0</td>\n",
       "      <td>0</td>\n",
       "      <td>none</td>\n",
       "      <td>0</td>\n",
       "      <td>0</td>\n",
       "      <td>0</td>\n",
       "    </tr>\n",
       "    <tr>\n",
       "      <th>93275</th>\n",
       "      <td>16998</td>\n",
       "      <td>10</td>\n",
       "      <td>0</td>\n",
       "      <td>0</td>\n",
       "      <td>0</td>\n",
       "      <td>0</td>\n",
       "      <td>24.81</td>\n",
       "      <td>83</td>\n",
       "      <td>2016-03-07</td>\n",
       "      <td>50000.000000</td>\n",
       "      <td>...</td>\n",
       "      <td>0</td>\n",
       "      <td>0</td>\n",
       "      <td>0</td>\n",
       "      <td>0</td>\n",
       "      <td>0</td>\n",
       "      <td>0</td>\n",
       "      <td>none</td>\n",
       "      <td>0</td>\n",
       "      <td>0</td>\n",
       "      <td>0</td>\n",
       "    </tr>\n",
       "    <tr>\n",
       "      <th>93276</th>\n",
       "      <td>16999</td>\n",
       "      <td>10</td>\n",
       "      <td>0</td>\n",
       "      <td>0</td>\n",
       "      <td>0</td>\n",
       "      <td>0</td>\n",
       "      <td>24.71</td>\n",
       "      <td>62</td>\n",
       "      <td>2017-07-22</td>\n",
       "      <td>82000.000000</td>\n",
       "      <td>...</td>\n",
       "      <td>0</td>\n",
       "      <td>0</td>\n",
       "      <td>0</td>\n",
       "      <td>0</td>\n",
       "      <td>0</td>\n",
       "      <td>0</td>\n",
       "      <td>none</td>\n",
       "      <td>0</td>\n",
       "      <td>0</td>\n",
       "      <td>0</td>\n",
       "    </tr>\n",
       "  </tbody>\n",
       "</table>\n",
       "<p>93277 rows × 25 columns</p>\n",
       "</div>"
      ],
      "text/plain": [
       "       customer_id  offer_id  received  viewed  completed  success  profit  \\\n",
       "0                3         0         1       1          1        1    0.00   \n",
       "1                7         0         1       0          0        0    0.00   \n",
       "2               10         0         1       1          1        1    0.00   \n",
       "3               11         0         1       1          0        0    0.00   \n",
       "4               13         0         1       1          1        0    0.00   \n",
       "...            ...       ...       ...     ...        ...      ...     ...   \n",
       "93272        16995        10         0       0          0        0   13.27   \n",
       "93273        16996        10         0       0          0        0   19.51   \n",
       "93274        16997        10         0       0          0        0   12.93   \n",
       "93275        16998        10         0       0          0        0   24.81   \n",
       "93276        16999        10         0       0          0        0   24.71   \n",
       "\n",
       "       age became_member_on_[y-m-d]     income_[$]  ...  reward_[$]  \\\n",
       "0       75               2017-05-09  100000.000000  ...          10   \n",
       "1       62               2017-10-02   65404.991568  ...          10   \n",
       "2       62               2017-08-24   65404.991568  ...          10   \n",
       "3       62               2015-09-19   65404.991568  ...          10   \n",
       "4       61               2017-09-11   57000.000000  ...          10   \n",
       "...    ...                      ...            ...  ...         ...   \n",
       "93272   45               2018-06-04   54000.000000  ...           0   \n",
       "93273   61               2018-07-13   72000.000000  ...           0   \n",
       "93274   49               2017-01-26   73000.000000  ...           0   \n",
       "93275   83               2016-03-07   50000.000000  ...           0   \n",
       "93276   62               2017-07-22   82000.000000  ...           0   \n",
       "\n",
       "       difficulty_[$]  duration_[h]  offer_type_bogo offer_type_discount  \\\n",
       "0                  10           168                1                   0   \n",
       "1                  10           168                1                   0   \n",
       "2                  10           168                1                   0   \n",
       "3                  10           168                1                   0   \n",
       "4                  10           168                1                   0   \n",
       "...               ...           ...              ...                 ...   \n",
       "93272               0             0                0                   0   \n",
       "93273               0             0                0                   0   \n",
       "93274               0             0                0                   0   \n",
       "93275               0             0                0                   0   \n",
       "93276               0             0                0                   0   \n",
       "\n",
       "       offer_type_informational  offer_type  channel_mobile  channel_social  \\\n",
       "0                             0        bogo               1               1   \n",
       "1                             0        bogo               1               1   \n",
       "2                             0        bogo               1               1   \n",
       "3                             0        bogo               1               1   \n",
       "4                             0        bogo               1               1   \n",
       "...                         ...         ...             ...             ...   \n",
       "93272                         0        none               0               0   \n",
       "93273                         0        none               0               0   \n",
       "93274                         0        none               0               0   \n",
       "93275                         0        none               0               0   \n",
       "93276                         0        none               0               0   \n",
       "\n",
       "       channel_web  \n",
       "0                0  \n",
       "1                0  \n",
       "2                0  \n",
       "3                0  \n",
       "4                0  \n",
       "...            ...  \n",
       "93272            0  \n",
       "93273            0  \n",
       "93274            0  \n",
       "93275            0  \n",
       "93276            0  \n",
       "\n",
       "[93277 rows x 25 columns]"
      ]
     },
     "execution_count": 102,
     "metadata": {},
     "output_type": "execute_result"
    }
   ],
   "source": [
    "Starbucks_final_df"
   ]
  },
  {
   "cell_type": "code",
   "execution_count": 103,
   "metadata": {},
   "outputs": [
    {
     "data": {
      "text/html": [
       "<div>\n",
       "<style scoped>\n",
       "    .dataframe tbody tr th:only-of-type {\n",
       "        vertical-align: middle;\n",
       "    }\n",
       "\n",
       "    .dataframe tbody tr th {\n",
       "        vertical-align: top;\n",
       "    }\n",
       "\n",
       "    .dataframe thead th {\n",
       "        text-align: right;\n",
       "    }\n",
       "</style>\n",
       "<table border=\"1\" class=\"dataframe\">\n",
       "  <thead>\n",
       "    <tr style=\"text-align: right;\">\n",
       "      <th></th>\n",
       "      <th>customer_id</th>\n",
       "      <th>offer_id</th>\n",
       "      <th>received</th>\n",
       "      <th>viewed</th>\n",
       "      <th>completed</th>\n",
       "      <th>success</th>\n",
       "      <th>profit</th>\n",
       "      <th>age</th>\n",
       "      <th>income_[$]</th>\n",
       "      <th>missing_values</th>\n",
       "      <th>...</th>\n",
       "      <th>gender_O</th>\n",
       "      <th>reward_[$]</th>\n",
       "      <th>difficulty_[$]</th>\n",
       "      <th>duration_[h]</th>\n",
       "      <th>offer_type_bogo</th>\n",
       "      <th>offer_type_discount</th>\n",
       "      <th>offer_type_informational</th>\n",
       "      <th>channel_mobile</th>\n",
       "      <th>channel_social</th>\n",
       "      <th>channel_web</th>\n",
       "    </tr>\n",
       "  </thead>\n",
       "  <tbody>\n",
       "    <tr>\n",
       "      <th>count</th>\n",
       "      <td>93277.000000</td>\n",
       "      <td>93277.000000</td>\n",
       "      <td>93277.000000</td>\n",
       "      <td>93277.000000</td>\n",
       "      <td>93277.000000</td>\n",
       "      <td>93277.000000</td>\n",
       "      <td>93277.000000</td>\n",
       "      <td>93277.000000</td>\n",
       "      <td>93277.000000</td>\n",
       "      <td>93277.000000</td>\n",
       "      <td>...</td>\n",
       "      <td>93277.000000</td>\n",
       "      <td>93277.000000</td>\n",
       "      <td>93277.000000</td>\n",
       "      <td>93277.000000</td>\n",
       "      <td>93277.000000</td>\n",
       "      <td>93277.000000</td>\n",
       "      <td>93277.000000</td>\n",
       "      <td>93277.000000</td>\n",
       "      <td>93277.000000</td>\n",
       "      <td>93277.000000</td>\n",
       "    </tr>\n",
       "    <tr>\n",
       "      <th>mean</th>\n",
       "      <td>8499.395178</td>\n",
       "      <td>5.498933</td>\n",
       "      <td>0.817747</td>\n",
       "      <td>0.602539</td>\n",
       "      <td>0.359992</td>\n",
       "      <td>0.305263</td>\n",
       "      <td>4.991949</td>\n",
       "      <td>55.350794</td>\n",
       "      <td>65381.198519</td>\n",
       "      <td>0.128124</td>\n",
       "      <td>...</td>\n",
       "      <td>0.013905</td>\n",
       "      <td>3.435852</td>\n",
       "      <td>6.302969</td>\n",
       "      <td>127.641241</td>\n",
       "      <td>0.326972</td>\n",
       "      <td>0.327444</td>\n",
       "      <td>0.163331</td>\n",
       "      <td>0.735540</td>\n",
       "      <td>0.489756</td>\n",
       "      <td>0.653977</td>\n",
       "    </tr>\n",
       "    <tr>\n",
       "      <th>std</th>\n",
       "      <td>4903.968525</td>\n",
       "      <td>3.355080</td>\n",
       "      <td>0.386055</td>\n",
       "      <td>0.489376</td>\n",
       "      <td>0.480000</td>\n",
       "      <td>0.460521</td>\n",
       "      <td>18.665452</td>\n",
       "      <td>16.439565</td>\n",
       "      <td>20186.211503</td>\n",
       "      <td>0.334229</td>\n",
       "      <td>...</td>\n",
       "      <td>0.117097</td>\n",
       "      <td>3.475342</td>\n",
       "      <td>5.825448</td>\n",
       "      <td>76.903027</td>\n",
       "      <td>0.469110</td>\n",
       "      <td>0.469283</td>\n",
       "      <td>0.369669</td>\n",
       "      <td>0.441047</td>\n",
       "      <td>0.499898</td>\n",
       "      <td>0.475703</td>\n",
       "    </tr>\n",
       "    <tr>\n",
       "      <th>min</th>\n",
       "      <td>0.000000</td>\n",
       "      <td>0.000000</td>\n",
       "      <td>0.000000</td>\n",
       "      <td>0.000000</td>\n",
       "      <td>0.000000</td>\n",
       "      <td>0.000000</td>\n",
       "      <td>0.000000</td>\n",
       "      <td>18.000000</td>\n",
       "      <td>30000.000000</td>\n",
       "      <td>0.000000</td>\n",
       "      <td>...</td>\n",
       "      <td>0.000000</td>\n",
       "      <td>0.000000</td>\n",
       "      <td>0.000000</td>\n",
       "      <td>0.000000</td>\n",
       "      <td>0.000000</td>\n",
       "      <td>0.000000</td>\n",
       "      <td>0.000000</td>\n",
       "      <td>0.000000</td>\n",
       "      <td>0.000000</td>\n",
       "      <td>0.000000</td>\n",
       "    </tr>\n",
       "    <tr>\n",
       "      <th>25%</th>\n",
       "      <td>4253.000000</td>\n",
       "      <td>3.000000</td>\n",
       "      <td>1.000000</td>\n",
       "      <td>0.000000</td>\n",
       "      <td>0.000000</td>\n",
       "      <td>0.000000</td>\n",
       "      <td>0.000000</td>\n",
       "      <td>45.000000</td>\n",
       "      <td>51000.000000</td>\n",
       "      <td>0.000000</td>\n",
       "      <td>...</td>\n",
       "      <td>0.000000</td>\n",
       "      <td>0.000000</td>\n",
       "      <td>0.000000</td>\n",
       "      <td>72.000000</td>\n",
       "      <td>0.000000</td>\n",
       "      <td>0.000000</td>\n",
       "      <td>0.000000</td>\n",
       "      <td>0.000000</td>\n",
       "      <td>0.000000</td>\n",
       "      <td>0.000000</td>\n",
       "    </tr>\n",
       "    <tr>\n",
       "      <th>50%</th>\n",
       "      <td>8497.000000</td>\n",
       "      <td>6.000000</td>\n",
       "      <td>1.000000</td>\n",
       "      <td>1.000000</td>\n",
       "      <td>0.000000</td>\n",
       "      <td>0.000000</td>\n",
       "      <td>0.000000</td>\n",
       "      <td>58.000000</td>\n",
       "      <td>65404.991568</td>\n",
       "      <td>0.000000</td>\n",
       "      <td>...</td>\n",
       "      <td>0.000000</td>\n",
       "      <td>2.000000</td>\n",
       "      <td>5.000000</td>\n",
       "      <td>120.000000</td>\n",
       "      <td>0.000000</td>\n",
       "      <td>0.000000</td>\n",
       "      <td>0.000000</td>\n",
       "      <td>1.000000</td>\n",
       "      <td>0.000000</td>\n",
       "      <td>1.000000</td>\n",
       "    </tr>\n",
       "    <tr>\n",
       "      <th>75%</th>\n",
       "      <td>12742.000000</td>\n",
       "      <td>9.000000</td>\n",
       "      <td>1.000000</td>\n",
       "      <td>1.000000</td>\n",
       "      <td>1.000000</td>\n",
       "      <td>1.000000</td>\n",
       "      <td>4.000000</td>\n",
       "      <td>65.000000</td>\n",
       "      <td>76000.000000</td>\n",
       "      <td>0.000000</td>\n",
       "      <td>...</td>\n",
       "      <td>0.000000</td>\n",
       "      <td>5.000000</td>\n",
       "      <td>10.000000</td>\n",
       "      <td>168.000000</td>\n",
       "      <td>1.000000</td>\n",
       "      <td>1.000000</td>\n",
       "      <td>0.000000</td>\n",
       "      <td>1.000000</td>\n",
       "      <td>1.000000</td>\n",
       "      <td>1.000000</td>\n",
       "    </tr>\n",
       "    <tr>\n",
       "      <th>max</th>\n",
       "      <td>16999.000000</td>\n",
       "      <td>10.000000</td>\n",
       "      <td>1.000000</td>\n",
       "      <td>1.000000</td>\n",
       "      <td>1.000000</td>\n",
       "      <td>1.000000</td>\n",
       "      <td>995.600000</td>\n",
       "      <td>101.000000</td>\n",
       "      <td>120000.000000</td>\n",
       "      <td>1.000000</td>\n",
       "      <td>...</td>\n",
       "      <td>1.000000</td>\n",
       "      <td>10.000000</td>\n",
       "      <td>20.000000</td>\n",
       "      <td>240.000000</td>\n",
       "      <td>1.000000</td>\n",
       "      <td>1.000000</td>\n",
       "      <td>1.000000</td>\n",
       "      <td>1.000000</td>\n",
       "      <td>1.000000</td>\n",
       "      <td>1.000000</td>\n",
       "    </tr>\n",
       "  </tbody>\n",
       "</table>\n",
       "<p>8 rows × 22 columns</p>\n",
       "</div>"
      ],
      "text/plain": [
       "        customer_id      offer_id      received        viewed     completed  \\\n",
       "count  93277.000000  93277.000000  93277.000000  93277.000000  93277.000000   \n",
       "mean    8499.395178      5.498933      0.817747      0.602539      0.359992   \n",
       "std     4903.968525      3.355080      0.386055      0.489376      0.480000   \n",
       "min        0.000000      0.000000      0.000000      0.000000      0.000000   \n",
       "25%     4253.000000      3.000000      1.000000      0.000000      0.000000   \n",
       "50%     8497.000000      6.000000      1.000000      1.000000      0.000000   \n",
       "75%    12742.000000      9.000000      1.000000      1.000000      1.000000   \n",
       "max    16999.000000     10.000000      1.000000      1.000000      1.000000   \n",
       "\n",
       "            success        profit           age     income_[$]  \\\n",
       "count  93277.000000  93277.000000  93277.000000   93277.000000   \n",
       "mean       0.305263      4.991949     55.350794   65381.198519   \n",
       "std        0.460521     18.665452     16.439565   20186.211503   \n",
       "min        0.000000      0.000000     18.000000   30000.000000   \n",
       "25%        0.000000      0.000000     45.000000   51000.000000   \n",
       "50%        0.000000      0.000000     58.000000   65404.991568   \n",
       "75%        1.000000      4.000000     65.000000   76000.000000   \n",
       "max        1.000000    995.600000    101.000000  120000.000000   \n",
       "\n",
       "       missing_values  ...      gender_O    reward_[$]  difficulty_[$]  \\\n",
       "count    93277.000000  ...  93277.000000  93277.000000    93277.000000   \n",
       "mean         0.128124  ...      0.013905      3.435852        6.302969   \n",
       "std          0.334229  ...      0.117097      3.475342        5.825448   \n",
       "min          0.000000  ...      0.000000      0.000000        0.000000   \n",
       "25%          0.000000  ...      0.000000      0.000000        0.000000   \n",
       "50%          0.000000  ...      0.000000      2.000000        5.000000   \n",
       "75%          0.000000  ...      0.000000      5.000000       10.000000   \n",
       "max          1.000000  ...      1.000000     10.000000       20.000000   \n",
       "\n",
       "       duration_[h]  offer_type_bogo  offer_type_discount  \\\n",
       "count  93277.000000     93277.000000         93277.000000   \n",
       "mean     127.641241         0.326972             0.327444   \n",
       "std       76.903027         0.469110             0.469283   \n",
       "min        0.000000         0.000000             0.000000   \n",
       "25%       72.000000         0.000000             0.000000   \n",
       "50%      120.000000         0.000000             0.000000   \n",
       "75%      168.000000         1.000000             1.000000   \n",
       "max      240.000000         1.000000             1.000000   \n",
       "\n",
       "       offer_type_informational  channel_mobile  channel_social   channel_web  \n",
       "count              93277.000000    93277.000000    93277.000000  93277.000000  \n",
       "mean                   0.163331        0.735540        0.489756      0.653977  \n",
       "std                    0.369669        0.441047        0.499898      0.475703  \n",
       "min                    0.000000        0.000000        0.000000      0.000000  \n",
       "25%                    0.000000        0.000000        0.000000      0.000000  \n",
       "50%                    0.000000        1.000000        0.000000      1.000000  \n",
       "75%                    0.000000        1.000000        1.000000      1.000000  \n",
       "max                    1.000000        1.000000        1.000000      1.000000  \n",
       "\n",
       "[8 rows x 22 columns]"
      ]
     },
     "execution_count": 103,
     "metadata": {},
     "output_type": "execute_result"
    }
   ],
   "source": [
    "Starbucks_final_df.describe()"
   ]
  },
  {
   "cell_type": "code",
   "execution_count": 104,
   "metadata": {},
   "outputs": [
    {
     "name": "stdout",
     "output_type": "stream",
     "text": [
      "<class 'pandas.core.frame.DataFrame'>\n",
      "Int64Index: 93277 entries, 0 to 93276\n",
      "Data columns (total 25 columns):\n",
      " #   Column                    Non-Null Count  Dtype         \n",
      "---  ------                    --------------  -----         \n",
      " 0   customer_id               93277 non-null  int64         \n",
      " 1   offer_id                  93277 non-null  int64         \n",
      " 2   received                  93277 non-null  int64         \n",
      " 3   viewed                    93277 non-null  int64         \n",
      " 4   completed                 93277 non-null  int64         \n",
      " 5   success                   93277 non-null  int64         \n",
      " 6   profit                    93277 non-null  float64       \n",
      " 7   age                       93277 non-null  int64         \n",
      " 8   became_member_on_[y-m-d]  93277 non-null  datetime64[ns]\n",
      " 9   income_[$]                93277 non-null  float64       \n",
      " 10  missing_values            93277 non-null  int64         \n",
      " 11  gender_F                  93277 non-null  uint8         \n",
      " 12  gender_M                  93277 non-null  uint8         \n",
      " 13  gender_O                  93277 non-null  uint8         \n",
      " 14  gender                    93277 non-null  object        \n",
      " 15  reward_[$]                93277 non-null  int64         \n",
      " 16  difficulty_[$]            93277 non-null  int64         \n",
      " 17  duration_[h]              93277 non-null  int64         \n",
      " 18  offer_type_bogo           93277 non-null  int64         \n",
      " 19  offer_type_discount       93277 non-null  int64         \n",
      " 20  offer_type_informational  93277 non-null  int64         \n",
      " 21  offer_type                93277 non-null  object        \n",
      " 22  channel_mobile            93277 non-null  int64         \n",
      " 23  channel_social            93277 non-null  int64         \n",
      " 24  channel_web               93277 non-null  int64         \n",
      "dtypes: datetime64[ns](1), float64(2), int64(17), object(2), uint8(3)\n",
      "memory usage: 16.6+ MB\n"
     ]
    }
   ],
   "source": [
    "Starbucks_final_df.info()"
   ]
  },
  {
   "cell_type": "markdown",
   "metadata": {},
   "source": [
    "#### Data wrangling"
   ]
  },
  {
   "cell_type": "markdown",
   "metadata": {},
   "source": [
    "We will convert some of the coluimns into categorical values for better representation and to input into the model later."
   ]
  },
  {
   "cell_type": "markdown",
   "metadata": {},
   "source": [
    "We can delete the received column, as it does not provide usefiul information that we already do not know. If receive is 0, that means that there was no offer in the first, but we go that covered with offer id 10."
   ]
  },
  {
   "cell_type": "code",
   "execution_count": 105,
   "metadata": {},
   "outputs": [],
   "source": [
    "Starbucks_final_df.drop(columns=['received'], inplace=True)"
   ]
  },
  {
   "cell_type": "markdown",
   "metadata": {},
   "source": [
    "Now we will convert age into categories and then make dummy variables:\n",
    "1. <25: young\n",
    "2. 26-50: young_adult\n",
    "3. 51-75: senior_adult\n",
    "4. 75<: senior"
   ]
  },
  {
   "cell_type": "code",
   "execution_count": 106,
   "metadata": {},
   "outputs": [],
   "source": [
    "def select_age(age):\n",
    "    \n",
    "    if age <= 25:\n",
    "        \n",
    "        return 'young'\n",
    "    \n",
    "    elif age <= 50:\n",
    "        \n",
    "        return 'young_adult'\n",
    "    \n",
    "    elif age <= 75:\n",
    "        \n",
    "        return 'senior_adult'\n",
    "    \n",
    "    else:\n",
    "        \n",
    "        return 'senior'"
   ]
  },
  {
   "cell_type": "code",
   "execution_count": 107,
   "metadata": {},
   "outputs": [],
   "source": [
    "Starbucks_final_df['age'] = Starbucks_final_df['age'].apply(lambda x: select_age(x))"
   ]
  },
  {
   "cell_type": "code",
   "execution_count": 108,
   "metadata": {},
   "outputs": [],
   "source": [
    "# Get dummies: https://pandas.pydata.org/pandas-docs/stable/reference/api/pandas.get_dummies.html\n",
    "dummy_age = Starbucks_final_df['age']\n",
    "Starbucks_final_df = pd.get_dummies(Starbucks_final_df, prefix=['age'], columns=['age'])\n",
    "Starbucks_final_df['dummy_age'] = dummy_age"
   ]
  },
  {
   "cell_type": "markdown",
   "metadata": {},
   "source": [
    "We do the same with the income (considering that the min income was 30k):\n",
    "\n",
    "1. < 50k: low\n",
    "2. < 75: midium_low\n",
    "3. < 100: medium_high\n",
    "4. 100<: high"
   ]
  },
  {
   "cell_type": "code",
   "execution_count": 109,
   "metadata": {},
   "outputs": [],
   "source": [
    "def select_income(income):\n",
    "    \n",
    "    if income <= 50000:\n",
    "        \n",
    "        return 'low'\n",
    "    \n",
    "    elif income <= 75000:\n",
    "        \n",
    "        return 'medium_low'\n",
    "    \n",
    "    elif income <= 100000:\n",
    "        \n",
    "        return 'medium_high'\n",
    "    \n",
    "    else:\n",
    "        \n",
    "        return 'high'"
   ]
  },
  {
   "cell_type": "code",
   "execution_count": 110,
   "metadata": {},
   "outputs": [],
   "source": [
    "Starbucks_final_df['income_[$]'] = Starbucks_final_df['income_[$]'].apply(lambda x: select_income(x))"
   ]
  },
  {
   "cell_type": "code",
   "execution_count": 111,
   "metadata": {},
   "outputs": [],
   "source": [
    "# Get dummies: https://pandas.pydata.org/pandas-docs/stable/reference/api/pandas.get_dummies.html\n",
    "dummy_income = Starbucks_final_df['income_[$]']\n",
    "Starbucks_final_df = pd.get_dummies(Starbucks_final_df, prefix=['income'], columns=['income_[$]'])\n",
    "Starbucks_final_df['dummy_income'] = dummy_income"
   ]
  },
  {
   "cell_type": "markdown",
   "metadata": {},
   "source": [
    "Now let us divide the members in groups depending on how early or late they became an app customer."
   ]
  },
  {
   "cell_type": "code",
   "execution_count": 112,
   "metadata": {},
   "outputs": [
    {
     "name": "stdout",
     "output_type": "stream",
     "text": [
      "2013-07-29 00:00:00\n",
      "2018-07-26 00:00:00\n"
     ]
    }
   ],
   "source": [
    "earliest = Starbucks_final_df['became_member_on_[y-m-d]'].min()\n",
    "latest = Starbucks_final_df['became_member_on_[y-m-d]'].max()\n",
    "print(earliest)\n",
    "print(latest)"
   ]
  },
  {
   "cell_type": "code",
   "execution_count": 113,
   "metadata": {},
   "outputs": [],
   "source": [
    "time_period = Starbucks_final_df['became_member_on_[y-m-d]'].max() - Starbucks_final_df['became_member_on_[y-m-d]'].min()"
   ]
  },
  {
   "cell_type": "code",
   "execution_count": 114,
   "metadata": {},
   "outputs": [
    {
     "data": {
      "text/plain": [
       "Timedelta('455 days 18:00:00')"
      ]
     },
     "execution_count": 114,
     "metadata": {},
     "output_type": "execute_result"
    }
   ],
   "source": [
    "time_period/4"
   ]
  },
  {
   "cell_type": "markdown",
   "metadata": {},
   "source": [
    "We will divide the customers in 4 groups:\n",
    "\n",
    "1. <455 days: early adopters\n",
    "2. <910 days: early majority\n",
    "3. <1365 days: late majority\n",
    "4. 1365< days: laggards"
   ]
  },
  {
   "cell_type": "code",
   "execution_count": 115,
   "metadata": {},
   "outputs": [],
   "source": [
    "def select_period(date):\n",
    "    \n",
    "    if date <= earliest + time_period/4:\n",
    "        \n",
    "        return 'early_adopter'\n",
    "    \n",
    "    elif date <= earliest + time_period/4*2:\n",
    "        \n",
    "        return 'early_majority'\n",
    "    \n",
    "    elif date <= earliest + time_period/4*3:\n",
    "        \n",
    "        return 'late_majority'\n",
    "    \n",
    "    else:\n",
    "        \n",
    "        return 'laggard'"
   ]
  },
  {
   "cell_type": "code",
   "execution_count": 116,
   "metadata": {},
   "outputs": [],
   "source": [
    "Starbucks_final_df['became_member_on_[y-m-d]'] = Starbucks_final_df['became_member_on_[y-m-d]'].apply(lambda x: select_period(x))"
   ]
  },
  {
   "cell_type": "code",
   "execution_count": 117,
   "metadata": {},
   "outputs": [],
   "source": [
    "# Get dummies: https://pandas.pydata.org/pandas-docs/stable/reference/api/pandas.get_dummies.html\n",
    "dummy_period = Starbucks_final_df['became_member_on_[y-m-d]']\n",
    "Starbucks_final_df = pd.get_dummies(Starbucks_final_df, prefix=['member_'], columns=['became_member_on_[y-m-d]'])\n",
    "Starbucks_final_df['dummy_became_member_on_[y-m-d]'] = dummy_period\n"
   ]
  },
  {
   "cell_type": "markdown",
   "metadata": {},
   "source": [
    "#### Data cleansing"
   ]
  },
  {
   "cell_type": "markdown",
   "metadata": {},
   "source": [
    "We will delete the dummy attributes after exploration, aside from that, there is nothing to cleanse. we will do this after the exploration."
   ]
  },
  {
   "cell_type": "markdown",
   "metadata": {},
   "source": [
    "#### Data Exploration"
   ]
  },
  {
   "cell_type": "markdown",
   "metadata": {},
   "source": [
    "Here are the questions we can answer:\n",
    "\n",
    "- Which offers are preferred according to gender?\n",
    "- Which offers are preferred according to income?\n",
    "- Which offers are preferred according to age?\n",
    "- Which offers are preferred according to date of becoming a member?\n",
    "- Which are the most successful offers (most completed) between discount and bogos?\n",
    "- Which are the most profitable offers between discont offers?\n",
    "- Which are the most profitable offers between informational?\n",
    "- How much money was earned in total with offers Vs. without offers?"
   ]
  },
  {
   "cell_type": "markdown",
   "metadata": {},
   "source": [
    "##### Which offers are preferred according to gender? "
   ]
  },
  {
   "cell_type": "markdown",
   "metadata": {},
   "source": [
    "We will show a top list of successful offers per gender. Let us remember that informational offers success cannot "
   ]
  },
  {
   "cell_type": "code",
   "execution_count": 118,
   "metadata": {},
   "outputs": [
    {
     "data": {
      "image/png": "[encoded data removed]",
      "text/plain": [
       "<Figure size 864x576 with 1 Axes>"
      ]
     },
     "metadata": {
      "needs_background": "light"
     },
     "output_type": "display_data"
    }
   ],
   "source": [
    "groups_gender_offers = Starbucks_final_df[Starbucks_final_df['offer_id'] != 10].groupby(['gender', 'offer_id'])\\\n",
    "['success'].sum().unstack('gender').plot.bar(figsize = (12,8), rot=0)\n"
   ]
  },
  {
   "cell_type": "markdown",
   "metadata": {},
   "source": [
    "Most males and females prefer offer 6 which is a discount of 2 dollars after buying products worth 10 dollars, with the longest duration of 10 days, and it reaches thorugh all media: mobile, social and web.\n",
    "The second most liked is offer 5, which is also a discount. \n",
    "An the top 3 is 1 for males (bogo) and 8 for females (bogo).\n",
    "But the differnces between female and mae preferences are not that large. "
   ]
  },
  {
   "cell_type": "markdown",
   "metadata": {},
   "source": [
    "Here is a more summarized plot:"
   ]
  },
  {
   "cell_type": "code",
   "execution_count": 119,
   "metadata": {},
   "outputs": [
    {
     "data": {
      "image/png": "[encoded data removed]",
      "text/plain": [
       "<Figure size 864x576 with 1 Axes>"
      ]
     },
     "metadata": {
      "needs_background": "light"
     },
     "output_type": "display_data"
    }
   ],
   "source": [
    "groups_gender_offers = Starbucks_final_df[Starbucks_final_df['offer_type'] != 'none'].groupby(['gender', 'offer_type'])\\\n",
    "['success'].sum().unstack('gender').plot.bar(figsize = (12,8), rot=0)\n"
   ]
  },
  {
   "cell_type": "markdown",
   "metadata": {},
   "source": [
    "##### Which offers are preferred according to income?"
   ]
  },
  {
   "cell_type": "code",
   "execution_count": 120,
   "metadata": {},
   "outputs": [
    {
     "data": {
      "image/png": "[encoded data removed]",
      "text/plain": [
       "<Figure size 864x576 with 1 Axes>"
      ]
     },
     "metadata": {
      "needs_background": "light"
     },
     "output_type": "display_data"
    }
   ],
   "source": [
    "groups_gender_offers = Starbucks_final_df[Starbucks_final_df['offer_id'] != 10].groupby(['dummy_income', 'offer_id'])\\\n",
    "['success'].sum().unstack('dummy_income').plot.bar(figsize = (12,8), rot=0)"
   ]
  },
  {
   "cell_type": "markdown",
   "metadata": {},
   "source": [
    "There are not so many customers with high income. The target group is peoel who earn between 50 and 75k. for them, the most preffered offer ids are 5 and 6, in the table below we see they prefer discount offers."
   ]
  },
  {
   "cell_type": "markdown",
   "metadata": {},
   "source": [
    "Here is amore summarized table"
   ]
  },
  {
   "cell_type": "code",
   "execution_count": 121,
   "metadata": {
    "scrolled": false
   },
   "outputs": [
    {
     "data": {
      "image/png": "[encoded data removed]",
      "text/plain": [
       "<Figure size 864x576 with 1 Axes>"
      ]
     },
     "metadata": {
      "needs_background": "light"
     },
     "output_type": "display_data"
    }
   ],
   "source": [
    "groups_gender_offers = Starbucks_final_df[Starbucks_final_df['offer_id'] != 10].groupby(['dummy_income', 'offer_type'])\\\n",
    "['success'].sum().unstack('dummy_income').plot.bar(figsize = (12,8), rot=0)"
   ]
  },
  {
   "cell_type": "markdown",
   "metadata": {},
   "source": [
    "##### Which offers are preferred according to age?"
   ]
  },
  {
   "cell_type": "code",
   "execution_count": 122,
   "metadata": {
    "scrolled": false
   },
   "outputs": [
    {
     "data": {
      "image/png": "[encoded data removed]",
      "text/plain": [
       "<Figure size 864x576 with 1 Axes>"
      ]
     },
     "metadata": {
      "needs_background": "light"
     },
     "output_type": "display_data"
    }
   ],
   "source": [
    "groups_gender_offers = Starbucks_final_df[Starbucks_final_df['offer_id'] != 10].groupby(['dummy_age', 'offer_id'])\\\n",
    "['success'].sum().unstack('dummy_age').plot.bar(figsize = (12,8), rot=0)"
   ]
  },
  {
   "cell_type": "markdown",
   "metadata": {},
   "source": [
    "Senior adults are the biggest clientele, and prefer offer ids 5 and 6, (discount type on the plotbelow) This leads me to think that most of them have also a medium low income."
   ]
  },
  {
   "cell_type": "code",
   "execution_count": 123,
   "metadata": {},
   "outputs": [
    {
     "data": {
      "image/png": "[encoded data removed]",
      "text/plain": [
       "<Figure size 864x576 with 1 Axes>"
      ]
     },
     "metadata": {
      "needs_background": "light"
     },
     "output_type": "display_data"
    }
   ],
   "source": [
    "groups_gender_offers = Starbucks_final_df[Starbucks_final_df['offer_id'] != 10].groupby(['dummy_age', 'offer_type'])\\\n",
    "['success'].sum().unstack('dummy_age').plot.bar(figsize = (12,8), rot=0)"
   ]
  },
  {
   "cell_type": "markdown",
   "metadata": {},
   "source": [
    "##### Which offers are preferred according to date of becoming a member?"
   ]
  },
  {
   "cell_type": "code",
   "execution_count": 124,
   "metadata": {},
   "outputs": [
    {
     "data": {
      "image/png": "[encoded data removed]",
      "text/plain": [
       "<Figure size 864x576 with 1 Axes>"
      ]
     },
     "metadata": {
      "needs_background": "light"
     },
     "output_type": "display_data"
    }
   ],
   "source": [
    "groups_gender_offers = Starbucks_final_df[Starbucks_final_df['offer_id'] != 10].groupby(['dummy_became_member_on_[y-m-d]', 'offer_id'])\\\n",
    "['success'].sum().unstack('dummy_became_member_on_[y-m-d]').plot.bar(figsize = (12,8), rot=0)"
   ]
  },
  {
   "cell_type": "markdown",
   "metadata": {},
   "source": [
    "This is something we could have expected, each offer has the same distribution, which leads ot think that time of becoming a member does not have an effect on which offers they might prefer."
   ]
  },
  {
   "cell_type": "code",
   "execution_count": 125,
   "metadata": {},
   "outputs": [
    {
     "data": {
      "image/png": "[encoded data removed]",
      "text/plain": [
       "<Figure size 864x576 with 1 Axes>"
      ]
     },
     "metadata": {
      "needs_background": "light"
     },
     "output_type": "display_data"
    }
   ],
   "source": [
    "groups_gender_offers = Starbucks_final_df[Starbucks_final_df['offer_id'] != 10].groupby(['dummy_became_member_on_[y-m-d]', 'offer_type'])\\\n",
    "['success'].sum().unstack('dummy_became_member_on_[y-m-d]').plot.bar(figsize = (12,8), rot=0)"
   ]
  },
  {
   "cell_type": "markdown",
   "metadata": {},
   "source": [
    "##### Which are the most successful offers?"
   ]
  },
  {
   "cell_type": "code",
   "execution_count": 126,
   "metadata": {},
   "outputs": [
    {
     "data": {
      "image/png": "[encoded data removed]",
      "text/plain": [
       "<Figure size 864x576 with 1 Axes>"
      ]
     },
     "metadata": {
      "needs_background": "light"
     },
     "output_type": "display_data"
    }
   ],
   "source": [
    "groups_gender_offers = Starbucks_final_df[Starbucks_final_df['offer_type'] != 'none'].groupby(['offer_type'])\\\n",
    "                                         ['success'].sum()\\\n",
    "                                         .plot.bar(figsize = (12,8), rot=0)"
   ]
  },
  {
   "cell_type": "markdown",
   "metadata": {},
   "source": [
    "The most successful offer type is discount."
   ]
  },
  {
   "cell_type": "markdown",
   "metadata": {},
   "source": [
    "##### Which are the most profitable offers?"
   ]
  },
  {
   "cell_type": "code",
   "execution_count": 127,
   "metadata": {
    "scrolled": false
   },
   "outputs": [
    {
     "data": {
      "image/png": "[encoded data removed]",
      "text/plain": [
       "<Figure size 864x576 with 1 Axes>"
      ]
     },
     "metadata": {
      "needs_background": "light"
     },
     "output_type": "display_data"
    }
   ],
   "source": [
    "groups_gender_offers = Starbucks_final_df[Starbucks_final_df['offer_type'] != 'none'].groupby(['offer_id'])\\\n",
    "                                         ['profit'].sum()\\\n",
    "                                         .plot.bar(figsize = (12,8), rot=0)"
   ]
  },
  {
   "cell_type": "markdown",
   "metadata": {},
   "source": [
    "This plot must be taken with a grain of salt. Bogos are not profitable from our considerations as you produce 0 profit. But they serve other purposed and their success is measured not based on the profit. The most profitable offer is 7 and 2, these are informational. However, informational offers' profit is based on the spending in a period time, during which there were other offers as well. We could clearly conclude that offer 6 among discounts is the most profitable one."
   ]
  },
  {
   "cell_type": "code",
   "execution_count": 128,
   "metadata": {},
   "outputs": [
    {
     "data": {
      "image/png": "[encoded data removed]",
      "text/plain": [
       "<Figure size 864x576 with 1 Axes>"
      ]
     },
     "metadata": {
      "needs_background": "light"
     },
     "output_type": "display_data"
    }
   ],
   "source": [
    "groups_gender_offers = Starbucks_final_df[Starbucks_final_df['offer_type'] != 'none'].groupby(['offer_type'])\\\n",
    "                                         ['profit'].sum()\\\n",
    "                                         .plot.bar(figsize = (12,8), rot=0)"
   ]
  },
  {
   "cell_type": "markdown",
   "metadata": {},
   "source": [
    "##### Which are the most profitable offers between informational?"
   ]
  },
  {
   "cell_type": "code",
   "execution_count": 129,
   "metadata": {},
   "outputs": [
    {
     "data": {
      "image/png": "[encoded data removed]",
      "text/plain": [
       "<Figure size 864x576 with 1 Axes>"
      ]
     },
     "metadata": {
      "needs_background": "light"
     },
     "output_type": "display_data"
    }
   ],
   "source": [
    "groups_gender_offers = Starbucks_final_df[(Starbucks_final_df['offer_id'] == 2) | \\\n",
    "                                         (Starbucks_final_df['offer_id'] == 7)].groupby(['offer_id'])\\\n",
    "                                         ['profit'].sum()\\\n",
    "                                         .plot.bar(figsize = (12,8), rot=0)"
   ]
  },
  {
   "cell_type": "markdown",
   "metadata": {},
   "source": [
    "##### How much money was earned in total with offers Vs. without offers?"
   ]
  },
  {
   "cell_type": "code",
   "execution_count": 130,
   "metadata": {},
   "outputs": [],
   "source": [
    "offer_profit = Starbucks_final_df[Starbucks_final_df['offer_id'] != 10].groupby(['offer_id'])['profit'].sum().sum()\n"
   ]
  },
  {
   "cell_type": "code",
   "execution_count": 131,
   "metadata": {},
   "outputs": [],
   "source": [
    "none_offer_profit = Starbucks_final_df[Starbucks_final_df['offer_id'] == 10].groupby(['offer_id'])['profit'].sum().sum()"
   ]
  },
  {
   "cell_type": "code",
   "execution_count": 132,
   "metadata": {},
   "outputs": [
    {
     "data": {
      "text/plain": [
       "<BarContainer object of 2 artists>"
      ]
     },
     "execution_count": 132,
     "metadata": {},
     "output_type": "execute_result"
    },
    {
     "data": {
      "image/png": "[encoded data removed]",
      "text/plain": [
       "<Figure size 432x288 with 1 Axes>"
      ]
     },
     "metadata": {
      "needs_background": "light"
     },
     "output_type": "display_data"
    }
   ],
   "source": [
    "y_values = [offer_profit, none_offer_profit]\n",
    "x_values =  ['offers', 'no_offers']\n",
    "plt.bar(x_values, y_values)"
   ]
  },
  {
   "cell_type": "markdown",
   "metadata": {},
   "source": [
    "They have made more money without the offers"
   ]
  },
  {
   "cell_type": "code",
   "execution_count": 133,
   "metadata": {},
   "outputs": [],
   "source": [
    "Starbucks_final_df.to_pickle(\"./Starbucks_plotting.pkl\")"
   ]
  },
  {
   "cell_type": "markdown",
   "metadata": {},
   "source": [
    "#### Data cleansing"
   ]
  },
  {
   "cell_type": "markdown",
   "metadata": {},
   "source": [
    "We will transform offer_id into dummies, as it is a categorical atribute.\n",
    "\n",
    "Rewards,  difficulty_[$], duration_[h]   will be scaled between 0 and 1"
   ]
  },
  {
   "cell_type": "code",
   "execution_count": 134,
   "metadata": {},
   "outputs": [],
   "source": [
    "Starbucks_final_df['reward_[$]'] = (Starbucks_final_df['reward_[$]'] - Starbucks_final_df['reward_[$]'].min())/Starbucks_final_df['reward_[$]'].max()"
   ]
  },
  {
   "cell_type": "code",
   "execution_count": 135,
   "metadata": {},
   "outputs": [],
   "source": [
    "Starbucks_final_df['difficulty_[$]'] = (Starbucks_final_df['difficulty_[$]'] - Starbucks_final_df['difficulty_[$]'].min())/Starbucks_final_df['difficulty_[$]'].max()"
   ]
  },
  {
   "cell_type": "code",
   "execution_count": 136,
   "metadata": {},
   "outputs": [],
   "source": [
    "Starbucks_final_df['duration_[h]'] = (Starbucks_final_df['duration_[h]'] - Starbucks_final_df['duration_[h]'].min())/Starbucks_final_df['duration_[h]'].max()"
   ]
  },
  {
   "cell_type": "code",
   "execution_count": 137,
   "metadata": {},
   "outputs": [
    {
     "data": {
      "text/plain": [
       "(93277, 36)"
      ]
     },
     "execution_count": 137,
     "metadata": {},
     "output_type": "execute_result"
    }
   ],
   "source": [
    "Starbucks_final_df.shape"
   ]
  },
  {
   "cell_type": "code",
   "execution_count": 138,
   "metadata": {},
   "outputs": [],
   "source": [
    "Starbucks_final_df = pd.get_dummies(Starbucks_final_df, prefix=['offer_id'], columns=['offer_id'])"
   ]
  },
  {
   "cell_type": "markdown",
   "metadata": {},
   "source": [
    "Alright, so data has been scaled and categrical variables have been converted to dummies. But there are further considerations."
   ]
  },
  {
   "cell_type": "markdown",
   "metadata": {},
   "source": [
    "We are focused on offers, so we should eliminate the rows with offer ids = 10. \n",
    "\n",
    "We will focus on the success variable, that will be our label for training.\n",
    "\n",
    "We will delete viewed and completed because we know that would directly explain success.\n",
    "\n",
    "Also we delete all dummies"
   ]
  },
  {
   "cell_type": "code",
   "execution_count": 139,
   "metadata": {},
   "outputs": [],
   "source": [
    "Starbucks_final_df = Starbucks_final_df.loc[Starbucks_final_df['offer_id_10'] != 1]"
   ]
  },
  {
   "cell_type": "code",
   "execution_count": 140,
   "metadata": {},
   "outputs": [],
   "source": [
    "Starbucks_final_df = Starbucks_final_df.drop(columns=['viewed'])"
   ]
  },
  {
   "cell_type": "code",
   "execution_count": 141,
   "metadata": {},
   "outputs": [],
   "source": [
    "Starbucks_final_df = Starbucks_final_df.drop(columns=['completed'])"
   ]
  },
  {
   "cell_type": "code",
   "execution_count": 142,
   "metadata": {},
   "outputs": [],
   "source": [
    "Starbucks_final_df = Starbucks_final_df.drop(columns=['offer_id_10'])"
   ]
  },
  {
   "cell_type": "code",
   "execution_count": 143,
   "metadata": {},
   "outputs": [],
   "source": [
    "Starbucks_final_df = Starbucks_final_df.drop(columns=['dummy_age'])"
   ]
  },
  {
   "cell_type": "code",
   "execution_count": 144,
   "metadata": {},
   "outputs": [],
   "source": [
    "Starbucks_final_df = Starbucks_final_df.drop(columns=['offer_type'])"
   ]
  },
  {
   "cell_type": "code",
   "execution_count": 145,
   "metadata": {},
   "outputs": [],
   "source": [
    "Starbucks_final_df = Starbucks_final_df.drop(columns=['dummy_became_member_on_[y-m-d]'])"
   ]
  },
  {
   "cell_type": "code",
   "execution_count": 146,
   "metadata": {},
   "outputs": [],
   "source": [
    "Starbucks_final_df = Starbucks_final_df.drop(columns=['dummy_income'])"
   ]
  },
  {
   "cell_type": "code",
   "execution_count": 147,
   "metadata": {},
   "outputs": [],
   "source": [
    "Starbucks_final_df = Starbucks_final_df.drop(columns=['gender'])"
   ]
  },
  {
   "cell_type": "markdown",
   "metadata": {},
   "source": [
    "Delete columns which in my opinion will not bring any value to the prediction. Year of becoming a member does not say nothing much about the person, perhaps that he/she was an early adopter. But I will assume that these personal feature does not impact on advertisement.\n",
    "Customer id does not help, it does not include any value, since we already have the demographics and know that each record is an individual.\n",
    "Profit could be the ground truth used to predict how much an offer will make if sent to an individual, but that is not the question at hand,"
   ]
  },
  {
   "cell_type": "code",
   "execution_count": 148,
   "metadata": {},
   "outputs": [],
   "source": [
    "Starbucks_final_df = Starbucks_final_df.drop(columns=['customer_id'])"
   ]
  },
  {
   "cell_type": "code",
   "execution_count": 149,
   "metadata": {},
   "outputs": [],
   "source": [
    "Starbucks_final_df = Starbucks_final_df.drop(columns=['profit'])"
   ]
  },
  {
   "cell_type": "markdown",
   "metadata": {},
   "source": [
    "###### Save the final dataset into a pickle file"
   ]
  },
  {
   "cell_type": "code",
   "execution_count": 150,
   "metadata": {},
   "outputs": [],
   "source": [
    "Starbucks_final_df.to_pickle(\"./Starbucks_modelling_df.pkl\")"
   ]
  },
  {
   "cell_type": "markdown",
   "metadata": {},
   "source": [
    "### 4. Modeling"
   ]
  },
  {
   "cell_type": "code",
   "execution_count": 151,
   "metadata": {},
   "outputs": [],
   "source": [
    "Starbucks_modelling_df = pd.read_pickle(\"./Starbucks_modelling_df.pkl\")"
   ]
  },
  {
   "cell_type": "code",
   "execution_count": 152,
   "metadata": {},
   "outputs": [
    {
     "data": {
      "text/html": [
       "<div>\n",
       "<style scoped>\n",
       "    .dataframe tbody tr th:only-of-type {\n",
       "        vertical-align: middle;\n",
       "    }\n",
       "\n",
       "    .dataframe tbody tr th {\n",
       "        vertical-align: top;\n",
       "    }\n",
       "\n",
       "    .dataframe thead th {\n",
       "        text-align: right;\n",
       "    }\n",
       "</style>\n",
       "<table border=\"1\" class=\"dataframe\">\n",
       "  <thead>\n",
       "    <tr style=\"text-align: right;\">\n",
       "      <th></th>\n",
       "      <th>success</th>\n",
       "      <th>missing_values</th>\n",
       "      <th>gender_F</th>\n",
       "      <th>gender_M</th>\n",
       "      <th>gender_O</th>\n",
       "      <th>reward_[$]</th>\n",
       "      <th>difficulty_[$]</th>\n",
       "      <th>duration_[h]</th>\n",
       "      <th>offer_type_bogo</th>\n",
       "      <th>offer_type_discount</th>\n",
       "      <th>...</th>\n",
       "      <th>offer_id_0</th>\n",
       "      <th>offer_id_1</th>\n",
       "      <th>offer_id_2</th>\n",
       "      <th>offer_id_3</th>\n",
       "      <th>offer_id_4</th>\n",
       "      <th>offer_id_5</th>\n",
       "      <th>offer_id_6</th>\n",
       "      <th>offer_id_7</th>\n",
       "      <th>offer_id_8</th>\n",
       "      <th>offer_id_9</th>\n",
       "    </tr>\n",
       "  </thead>\n",
       "  <tbody>\n",
       "    <tr>\n",
       "      <th>0</th>\n",
       "      <td>1</td>\n",
       "      <td>0</td>\n",
       "      <td>1</td>\n",
       "      <td>0</td>\n",
       "      <td>0</td>\n",
       "      <td>1.0</td>\n",
       "      <td>0.5</td>\n",
       "      <td>0.7</td>\n",
       "      <td>1</td>\n",
       "      <td>0</td>\n",
       "      <td>...</td>\n",
       "      <td>1</td>\n",
       "      <td>0</td>\n",
       "      <td>0</td>\n",
       "      <td>0</td>\n",
       "      <td>0</td>\n",
       "      <td>0</td>\n",
       "      <td>0</td>\n",
       "      <td>0</td>\n",
       "      <td>0</td>\n",
       "      <td>0</td>\n",
       "    </tr>\n",
       "    <tr>\n",
       "      <th>1</th>\n",
       "      <td>0</td>\n",
       "      <td>1</td>\n",
       "      <td>0</td>\n",
       "      <td>1</td>\n",
       "      <td>0</td>\n",
       "      <td>1.0</td>\n",
       "      <td>0.5</td>\n",
       "      <td>0.7</td>\n",
       "      <td>1</td>\n",
       "      <td>0</td>\n",
       "      <td>...</td>\n",
       "      <td>1</td>\n",
       "      <td>0</td>\n",
       "      <td>0</td>\n",
       "      <td>0</td>\n",
       "      <td>0</td>\n",
       "      <td>0</td>\n",
       "      <td>0</td>\n",
       "      <td>0</td>\n",
       "      <td>0</td>\n",
       "      <td>0</td>\n",
       "    </tr>\n",
       "    <tr>\n",
       "      <th>2</th>\n",
       "      <td>1</td>\n",
       "      <td>1</td>\n",
       "      <td>1</td>\n",
       "      <td>0</td>\n",
       "      <td>0</td>\n",
       "      <td>1.0</td>\n",
       "      <td>0.5</td>\n",
       "      <td>0.7</td>\n",
       "      <td>1</td>\n",
       "      <td>0</td>\n",
       "      <td>...</td>\n",
       "      <td>1</td>\n",
       "      <td>0</td>\n",
       "      <td>0</td>\n",
       "      <td>0</td>\n",
       "      <td>0</td>\n",
       "      <td>0</td>\n",
       "      <td>0</td>\n",
       "      <td>0</td>\n",
       "      <td>0</td>\n",
       "      <td>0</td>\n",
       "    </tr>\n",
       "    <tr>\n",
       "      <th>3</th>\n",
       "      <td>0</td>\n",
       "      <td>1</td>\n",
       "      <td>0</td>\n",
       "      <td>1</td>\n",
       "      <td>0</td>\n",
       "      <td>1.0</td>\n",
       "      <td>0.5</td>\n",
       "      <td>0.7</td>\n",
       "      <td>1</td>\n",
       "      <td>0</td>\n",
       "      <td>...</td>\n",
       "      <td>1</td>\n",
       "      <td>0</td>\n",
       "      <td>0</td>\n",
       "      <td>0</td>\n",
       "      <td>0</td>\n",
       "      <td>0</td>\n",
       "      <td>0</td>\n",
       "      <td>0</td>\n",
       "      <td>0</td>\n",
       "      <td>0</td>\n",
       "    </tr>\n",
       "    <tr>\n",
       "      <th>4</th>\n",
       "      <td>0</td>\n",
       "      <td>0</td>\n",
       "      <td>1</td>\n",
       "      <td>0</td>\n",
       "      <td>0</td>\n",
       "      <td>1.0</td>\n",
       "      <td>0.5</td>\n",
       "      <td>0.7</td>\n",
       "      <td>1</td>\n",
       "      <td>0</td>\n",
       "      <td>...</td>\n",
       "      <td>1</td>\n",
       "      <td>0</td>\n",
       "      <td>0</td>\n",
       "      <td>0</td>\n",
       "      <td>0</td>\n",
       "      <td>0</td>\n",
       "      <td>0</td>\n",
       "      <td>0</td>\n",
       "      <td>0</td>\n",
       "      <td>0</td>\n",
       "    </tr>\n",
       "    <tr>\n",
       "      <th>...</th>\n",
       "      <td>...</td>\n",
       "      <td>...</td>\n",
       "      <td>...</td>\n",
       "      <td>...</td>\n",
       "      <td>...</td>\n",
       "      <td>...</td>\n",
       "      <td>...</td>\n",
       "      <td>...</td>\n",
       "      <td>...</td>\n",
       "      <td>...</td>\n",
       "      <td>...</td>\n",
       "      <td>...</td>\n",
       "      <td>...</td>\n",
       "      <td>...</td>\n",
       "      <td>...</td>\n",
       "      <td>...</td>\n",
       "      <td>...</td>\n",
       "      <td>...</td>\n",
       "      <td>...</td>\n",
       "      <td>...</td>\n",
       "      <td>...</td>\n",
       "    </tr>\n",
       "    <tr>\n",
       "      <th>76272</th>\n",
       "      <td>0</td>\n",
       "      <td>0</td>\n",
       "      <td>0</td>\n",
       "      <td>1</td>\n",
       "      <td>0</td>\n",
       "      <td>0.2</td>\n",
       "      <td>0.5</td>\n",
       "      <td>0.7</td>\n",
       "      <td>0</td>\n",
       "      <td>1</td>\n",
       "      <td>...</td>\n",
       "      <td>0</td>\n",
       "      <td>0</td>\n",
       "      <td>0</td>\n",
       "      <td>0</td>\n",
       "      <td>0</td>\n",
       "      <td>0</td>\n",
       "      <td>0</td>\n",
       "      <td>0</td>\n",
       "      <td>0</td>\n",
       "      <td>1</td>\n",
       "    </tr>\n",
       "    <tr>\n",
       "      <th>76273</th>\n",
       "      <td>0</td>\n",
       "      <td>1</td>\n",
       "      <td>0</td>\n",
       "      <td>1</td>\n",
       "      <td>0</td>\n",
       "      <td>0.2</td>\n",
       "      <td>0.5</td>\n",
       "      <td>0.7</td>\n",
       "      <td>0</td>\n",
       "      <td>1</td>\n",
       "      <td>...</td>\n",
       "      <td>0</td>\n",
       "      <td>0</td>\n",
       "      <td>0</td>\n",
       "      <td>0</td>\n",
       "      <td>0</td>\n",
       "      <td>0</td>\n",
       "      <td>0</td>\n",
       "      <td>0</td>\n",
       "      <td>0</td>\n",
       "      <td>1</td>\n",
       "    </tr>\n",
       "    <tr>\n",
       "      <th>76274</th>\n",
       "      <td>0</td>\n",
       "      <td>0</td>\n",
       "      <td>1</td>\n",
       "      <td>0</td>\n",
       "      <td>0</td>\n",
       "      <td>0.2</td>\n",
       "      <td>0.5</td>\n",
       "      <td>0.7</td>\n",
       "      <td>0</td>\n",
       "      <td>1</td>\n",
       "      <td>...</td>\n",
       "      <td>0</td>\n",
       "      <td>0</td>\n",
       "      <td>0</td>\n",
       "      <td>0</td>\n",
       "      <td>0</td>\n",
       "      <td>0</td>\n",
       "      <td>0</td>\n",
       "      <td>0</td>\n",
       "      <td>0</td>\n",
       "      <td>1</td>\n",
       "    </tr>\n",
       "    <tr>\n",
       "      <th>76275</th>\n",
       "      <td>0</td>\n",
       "      <td>0</td>\n",
       "      <td>0</td>\n",
       "      <td>1</td>\n",
       "      <td>0</td>\n",
       "      <td>0.2</td>\n",
       "      <td>0.5</td>\n",
       "      <td>0.7</td>\n",
       "      <td>0</td>\n",
       "      <td>1</td>\n",
       "      <td>...</td>\n",
       "      <td>0</td>\n",
       "      <td>0</td>\n",
       "      <td>0</td>\n",
       "      <td>0</td>\n",
       "      <td>0</td>\n",
       "      <td>0</td>\n",
       "      <td>0</td>\n",
       "      <td>0</td>\n",
       "      <td>0</td>\n",
       "      <td>1</td>\n",
       "    </tr>\n",
       "    <tr>\n",
       "      <th>76276</th>\n",
       "      <td>0</td>\n",
       "      <td>0</td>\n",
       "      <td>0</td>\n",
       "      <td>1</td>\n",
       "      <td>0</td>\n",
       "      <td>0.2</td>\n",
       "      <td>0.5</td>\n",
       "      <td>0.7</td>\n",
       "      <td>0</td>\n",
       "      <td>1</td>\n",
       "      <td>...</td>\n",
       "      <td>0</td>\n",
       "      <td>0</td>\n",
       "      <td>0</td>\n",
       "      <td>0</td>\n",
       "      <td>0</td>\n",
       "      <td>0</td>\n",
       "      <td>0</td>\n",
       "      <td>0</td>\n",
       "      <td>0</td>\n",
       "      <td>1</td>\n",
       "    </tr>\n",
       "  </tbody>\n",
       "</table>\n",
       "<p>76277 rows × 36 columns</p>\n",
       "</div>"
      ],
      "text/plain": [
       "       success  missing_values  gender_F  gender_M  gender_O  reward_[$]  \\\n",
       "0            1               0         1         0         0         1.0   \n",
       "1            0               1         0         1         0         1.0   \n",
       "2            1               1         1         0         0         1.0   \n",
       "3            0               1         0         1         0         1.0   \n",
       "4            0               0         1         0         0         1.0   \n",
       "...        ...             ...       ...       ...       ...         ...   \n",
       "76272        0               0         0         1         0         0.2   \n",
       "76273        0               1         0         1         0         0.2   \n",
       "76274        0               0         1         0         0         0.2   \n",
       "76275        0               0         0         1         0         0.2   \n",
       "76276        0               0         0         1         0         0.2   \n",
       "\n",
       "       difficulty_[$]  duration_[h]  offer_type_bogo  offer_type_discount  \\\n",
       "0                 0.5           0.7                1                    0   \n",
       "1                 0.5           0.7                1                    0   \n",
       "2                 0.5           0.7                1                    0   \n",
       "3                 0.5           0.7                1                    0   \n",
       "4                 0.5           0.7                1                    0   \n",
       "...               ...           ...              ...                  ...   \n",
       "76272             0.5           0.7                0                    1   \n",
       "76273             0.5           0.7                0                    1   \n",
       "76274             0.5           0.7                0                    1   \n",
       "76275             0.5           0.7                0                    1   \n",
       "76276             0.5           0.7                0                    1   \n",
       "\n",
       "       ...  offer_id_0  offer_id_1  offer_id_2  offer_id_3  offer_id_4  \\\n",
       "0      ...           1           0           0           0           0   \n",
       "1      ...           1           0           0           0           0   \n",
       "2      ...           1           0           0           0           0   \n",
       "3      ...           1           0           0           0           0   \n",
       "4      ...           1           0           0           0           0   \n",
       "...    ...         ...         ...         ...         ...         ...   \n",
       "76272  ...           0           0           0           0           0   \n",
       "76273  ...           0           0           0           0           0   \n",
       "76274  ...           0           0           0           0           0   \n",
       "76275  ...           0           0           0           0           0   \n",
       "76276  ...           0           0           0           0           0   \n",
       "\n",
       "       offer_id_5  offer_id_6  offer_id_7  offer_id_8  offer_id_9  \n",
       "0               0           0           0           0           0  \n",
       "1               0           0           0           0           0  \n",
       "2               0           0           0           0           0  \n",
       "3               0           0           0           0           0  \n",
       "4               0           0           0           0           0  \n",
       "...           ...         ...         ...         ...         ...  \n",
       "76272           0           0           0           0           1  \n",
       "76273           0           0           0           0           1  \n",
       "76274           0           0           0           0           1  \n",
       "76275           0           0           0           0           1  \n",
       "76276           0           0           0           0           1  \n",
       "\n",
       "[76277 rows x 36 columns]"
      ]
     },
     "execution_count": 152,
     "metadata": {},
     "output_type": "execute_result"
    }
   ],
   "source": [
    "Starbucks_modelling_df"
   ]
  },
  {
   "cell_type": "markdown",
   "metadata": {},
   "source": [
    "Everything is ready to input our dataset into the model."
   ]
  },
  {
   "cell_type": "code",
   "execution_count": 153,
   "metadata": {},
   "outputs": [],
   "source": [
    "labels = Starbucks_modelling_df['success']\n",
    "features = Starbucks_modelling_df.drop(columns=['success'], inplace=False)"
   ]
  },
  {
   "cell_type": "code",
   "execution_count": 154,
   "metadata": {},
   "outputs": [
    {
     "name": "stdout",
     "output_type": "stream",
     "text": [
      "Training set has 53393 samples.\n",
      "Testing set has 22884 samples.\n"
     ]
    }
   ],
   "source": [
    "# Split the 'features' and 'income' data into training and testing sets\n",
    "X_train, X_test, y_train, y_test = train_test_split(features, \n",
    "                                                    labels, \n",
    "                                                    test_size = 0.3, \n",
    "                                                    random_state = 42)\n",
    "\n",
    "# Show the results of the split\n",
    "print(\"Training set has {} samples.\".format(X_train.shape[0]))\n",
    "print(\"Testing set has {} samples.\".format(X_test.shape[0]))"
   ]
  },
  {
   "cell_type": "markdown",
   "metadata": {},
   "source": [
    "For classification, we will use:\n",
    "- SVM\n",
    "- Random forests\n",
    "- Logistic regression\n",
    "- Gradient Boosting"
   ]
  },
  {
   "cell_type": "code",
   "execution_count": 155,
   "metadata": {},
   "outputs": [],
   "source": [
    "from sklearn.svm import SVC\n",
    "from sklearn.ensemble import RandomForestClassifier\n",
    "from sklearn.linear_model import LogisticRegression\n",
    "from sklearn.ensemble import GradientBoostingClassifier"
   ]
  },
  {
   "cell_type": "code",
   "execution_count": 156,
   "metadata": {},
   "outputs": [],
   "source": [
    "# REF: udavity course\n",
    "# TODO: Import two metrics from sklearn - fbeta_score and accuracy_score\n",
    "from sklearn.metrics import fbeta_score, accuracy_score\n",
    "\n",
    "def train_predict(learner, sample_size, X_train, y_train, X_test, y_test): \n",
    "    '''\n",
    "    inputs:\n",
    "       - learner: the learning algorithm to be trained and predicted on\n",
    "       - sample_size: the size of samples (number) to be drawn from training set\n",
    "       - X_train: features training set\n",
    "       - y_train: income training set\n",
    "       - X_test: features testing set\n",
    "       - y_test: income testing set\n",
    "    '''\n",
    "    \n",
    "    results = {}\n",
    "    \n",
    "    # TODO: Fit the learner to the training data using slicing with 'sample_size' using .fit(training_features[:], training_labels[:])\n",
    "    start = time() # Get start time\n",
    "    learner = learner.fit(X_train[:sample_size], y_train[:sample_size])\n",
    "    end = time() # Get end time\n",
    "    \n",
    "    # TODO: Calculate the training time\n",
    "    results['train_time'] = end - start\n",
    "        \n",
    "    # TODO: Get the predictions on the test set(X_test),\n",
    "    #       then get predictions on the first 300 training samples(X_train) using .predict()\n",
    "    start = time() # Get start time\n",
    "    predictions_test = learner.predict(X_test)\n",
    "    predictions_train = learner.predict(X_train[:300])\n",
    "    end = time() # Get end time\n",
    "    \n",
    "    # TODO: Calculate the total prediction time\n",
    "    results['pred_time'] = end - start\n",
    "            \n",
    "    # TODO: Compute accuracy on the first 300 training samples which is y_train[:300]\n",
    "    results['acc_train'] = accuracy_score(y_train[:300], predictions_train)\n",
    "        \n",
    "    # TODO: Compute accuracy on test set using accuracy_score()\n",
    "    results['acc_test'] = accuracy_score(y_test, predictions_test)\n",
    "    \n",
    "    # TODO: Compute F-score on the the first 300 training samples using fbeta_score()\n",
    "    results['f_train'] = fbeta_score(y_train[:300], predictions_train, beta=0.5)\n",
    "        \n",
    "    # TODO: Compute F-score on the test set which is y_test\n",
    "    # I use beta = 0.5 as we are focuing on precision\n",
    "    results['f_test'] = fbeta_score(y_test, predictions_test, beta=0.5)\n",
    "    \n",
    "       \n",
    "    # Success\n",
    "    print(\"{} trained on {} samples.\".format(learner.__class__.__name__, sample_size))\n",
    "        \n",
    "    # Return the results\n",
    "    return results"
   ]
  },
  {
   "cell_type": "code",
   "execution_count": 157,
   "metadata": {},
   "outputs": [],
   "source": [
    "clf_A = SVC(random_state=0)\n",
    "clf_B = RandomForestClassifier(random_state=0)\n",
    "clf_C = LogisticRegression(random_state=0)\n",
    "clf_D = GradientBoostingClassifier(random_state=0)"
   ]
  },
  {
   "cell_type": "code",
   "execution_count": 158,
   "metadata": {},
   "outputs": [],
   "source": [
    "clfs = [clf_A, clf_B, clf_C, clf_D]"
   ]
  },
  {
   "cell_type": "code",
   "execution_count": 159,
   "metadata": {},
   "outputs": [
    {
     "name": "stderr",
     "output_type": "stream",
     "text": [
      "/usr/local/anaconda3/envs/Datascience/lib/python3.7/site-packages/sklearn/svm/base.py:193: FutureWarning: The default value of gamma will change from 'auto' to 'scale' in version 0.22 to account better for unscaled features. Set gamma explicitly to 'auto' or 'scale' to avoid this warning.\n",
      "  \"avoid this warning.\", FutureWarning)\n",
      "[====================================                                    ]  50%\r"
     ]
    },
    {
     "name": "stdout",
     "output_type": "stream",
     "text": [
      "SVC trained on 5339 samples.\n"
     ]
    },
    {
     "name": "stderr",
     "output_type": "stream",
     "text": [
      "/usr/local/anaconda3/envs/Datascience/lib/python3.7/site-packages/sklearn/svm/base.py:193: FutureWarning: The default value of gamma will change from 'auto' to 'scale' in version 0.22 to account better for unscaled features. Set gamma explicitly to 'auto' or 'scale' to avoid this warning.\n",
      "  \"avoid this warning.\", FutureWarning)\n",
      "[========================================================================] 100%\n",
      "[==================                                                      ]  25%\r"
     ]
    },
    {
     "name": "stdout",
     "output_type": "stream",
     "text": [
      "SVC trained on 53393 samples.\n"
     ]
    },
    {
     "name": "stderr",
     "output_type": "stream",
     "text": [
      "/usr/local/anaconda3/envs/Datascience/lib/python3.7/site-packages/sklearn/ensemble/forest.py:245: FutureWarning: The default value of n_estimators will change from 10 in version 0.20 to 100 in 0.22.\n",
      "  \"10 in version 0.20 to 100 in 0.22.\", FutureWarning)\n",
      "[====================================                                    ]  50%\r"
     ]
    },
    {
     "name": "stdout",
     "output_type": "stream",
     "text": [
      "RandomForestClassifier trained on 5339 samples.\n"
     ]
    },
    {
     "name": "stderr",
     "output_type": "stream",
     "text": [
      "[====================================                                    ]  50%\r"
     ]
    },
    {
     "name": "stdout",
     "output_type": "stream",
     "text": [
      "RandomForestClassifier trained on 53393 samples.\n"
     ]
    },
    {
     "name": "stderr",
     "output_type": "stream",
     "text": [
      "/usr/local/anaconda3/envs/Datascience/lib/python3.7/site-packages/sklearn/linear_model/logistic.py:432: FutureWarning: Default solver will be changed to 'lbfgs' in 0.22. Specify a solver to silence this warning.\n",
      "  FutureWarning)\n",
      "/usr/local/anaconda3/envs/Datascience/lib/python3.7/site-packages/sklearn/linear_model/logistic.py:432: FutureWarning: Default solver will be changed to 'lbfgs' in 0.22. Specify a solver to silence this warning.\n",
      "  FutureWarning)\n"
     ]
    },
    {
     "name": "stdout",
     "output_type": "stream",
     "text": [
      "LogisticRegression trained on 5339 samples.\n"
     ]
    },
    {
     "name": "stderr",
     "output_type": "stream",
     "text": [
      "[======================================================                  ]  75%\r"
     ]
    },
    {
     "name": "stdout",
     "output_type": "stream",
     "text": [
      "LogisticRegression trained on 53393 samples.\n"
     ]
    },
    {
     "name": "stderr",
     "output_type": "stream",
     "text": [
      "[====================================                                    ]  50%\r"
     ]
    },
    {
     "name": "stdout",
     "output_type": "stream",
     "text": [
      "GradientBoostingClassifier trained on 5339 samples.\n"
     ]
    },
    {
     "name": "stderr",
     "output_type": "stream",
     "text": [
      "[========================================================================] 100%\r"
     ]
    },
    {
     "name": "stdout",
     "output_type": "stream",
     "text": [
      "GradientBoostingClassifier trained on 53393 samples.\n"
     ]
    },
    {
     "name": "stderr",
     "output_type": "stream",
     "text": [
      "[========================================================================] 100%\n"
     ]
    }
   ],
   "source": [
    "# initialize the progress bar\n",
    "bar_1 = progressbar.ProgressBar(maxval=len(clfs), \\\n",
    "    widgets=[progressbar.Bar('=', '[', ']'), ' ', progressbar.Percentage()])\n",
    "\n",
    "# initialize the progress bar\n",
    "bar_2 = progressbar.ProgressBar(maxval=2, \\\n",
    "    widgets=[progressbar.Bar('=', '[', ']'), ' ', progressbar.Percentage()])\n",
    "\n",
    "# REF: udacity course\n",
    "# It is interesting to see how they perform with less samples\n",
    "samples_100 = int(len(y_train))\n",
    "samples_10 = int(round(0.1 * samples_100))\n",
    "\n",
    "# Collect results on the learners\n",
    "results = {}\n",
    "bar_1.start()\n",
    "clf_counter = 0\n",
    "for clf in clfs:\n",
    "    clf_name = clf.__class__.__name__\n",
    "    results[clf_name] = {}\n",
    "    bar_2.start()\n",
    "    for i, samples in enumerate([samples_10, samples_100]):\n",
    "        results[clf_name][i] = \\\n",
    "        train_predict(clf, samples, X_train, y_train, X_test, y_test)\n",
    "   \n",
    "        # progress bar\n",
    "        bar_2.update(i+1)\n",
    "        sleep(0.1)\n",
    "    \n",
    "    bar_2.finish()\n",
    "   # progress bar\n",
    "    clf_counter += 1\n",
    "    bar_1.update(clf_counter)\n",
    "    sleep(0.1)\n",
    "    \n",
    "bar_1.finish()"
   ]
  },
  {
   "cell_type": "code",
   "execution_count": 160,
   "metadata": {},
   "outputs": [],
   "source": [
    "# Run metrics visualization for the three supervised learning models chosen\n",
    "ALL_results = {}\n",
    "ALL_results = results"
   ]
  },
  {
   "cell_type": "markdown",
   "metadata": {},
   "source": [
    "##### Performing algorithm comparisons"
   ]
  },
  {
   "cell_type": "code",
   "execution_count": 161,
   "metadata": {},
   "outputs": [
    {
     "name": "stdout",
     "output_type": "stream",
     "text": [
      "Training with all samples\n",
      "SVC\n",
      "Training time =  164.17853903770447\n",
      "Testing time =  33.015408754348755\n",
      "Test Accuracy =  0.6959884635553225\n",
      "Test Fscore =  0.582545208095869\n",
      "\n",
      "\n",
      "RandomForestClassifier\n",
      "Training time =  0.2846059799194336\n",
      "Testing time =  0.0351099967956543\n",
      "Test Accuracy =  0.7047718930256948\n",
      "Test Fscore =  0.5984216117772044\n",
      "\n",
      "\n",
      "LogisticRegression\n",
      "Training time =  0.16101694107055664\n",
      "Testing time =  0.0060138702392578125\n",
      "Test Accuracy =  0.7007953155042824\n",
      "Test Fscore =  0.5910921218455107\n",
      "\n",
      "\n",
      "GradientBoostingClassifier\n",
      "Training time =  4.785567045211792\n",
      "Testing time =  0.03660392761230469\n",
      "Test Accuracy =  0.7081803880440483\n",
      "Test Fscore =  0.6026470491641762\n",
      "\n",
      "\n"
     ]
    }
   ],
   "source": [
    "# We print the different metrics for all the tested algorithms.\n",
    "print('Training with all samples')\n",
    "for clf in clfs:\n",
    "    clf_name = clf.__class__.__name__\n",
    "    print(clf_name)\n",
    "    print('Training time = ', ALL_results[clf_name][1]['train_time'])\n",
    "    print('Testing time = ', ALL_results[clf_name][1]['pred_time'])\n",
    "    print('Test Accuracy = ', ALL_results[clf_name][1]['acc_test'])\n",
    "    print('Test Fscore = ', ALL_results[clf_name][1]['f_test'])\n",
    "    print('\\n')"
   ]
  },
  {
   "cell_type": "markdown",
   "metadata": {},
   "source": [
    "- Best train time: LogisticRegression\n",
    "- Best test time: LogisticRegression\n",
    "- Best Accuracy: GradientBoostingClassifier (by a hair)\n",
    "- Best Fscore (beta = 0.5): GradientBoostingClassifier (by a hair)"
   ]
  },
  {
   "cell_type": "code",
   "execution_count": 162,
   "metadata": {},
   "outputs": [
    {
     "name": "stdout",
     "output_type": "stream",
     "text": [
      "Training with 10% of samples\n",
      "SVC\n",
      "Training time =  1.0258140563964844\n",
      "Testing time =  3.1299290657043457\n",
      "Test Accuracy =  0.6952455864359378\n",
      "Test Fscore =  0.5777104623680969\n",
      "\n",
      "\n",
      "RandomForestClassifier\n",
      "Training time =  0.0488131046295166\n",
      "Testing time =  0.033370018005371094\n",
      "Test Accuracy =  0.673527355357455\n",
      "Test Fscore =  0.5574165715010785\n",
      "\n",
      "\n",
      "LogisticRegression\n",
      "Training time =  0.021611928939819336\n",
      "Testing time =  0.008096933364868164\n",
      "Test Accuracy =  0.6955514770145079\n",
      "Test Fscore =  0.5839501477428981\n",
      "\n",
      "\n",
      "GradientBoostingClassifier\n",
      "Training time =  0.4492828845977783\n",
      "Testing time =  0.0361332893371582\n",
      "Test Accuracy =  0.701800384548156\n",
      "Test Fscore =  0.5943984313266412\n",
      "\n",
      "\n"
     ]
    }
   ],
   "source": [
    "# We print the different metrics for all the tested algorithms.\n",
    "print('Training with 10% of samples')\n",
    "for clf in clfs:\n",
    "    clf_name = clf.__class__.__name__\n",
    "    print(clf_name)\n",
    "    print('Training time = ', ALL_results[clf_name][0]['train_time'])\n",
    "    print('Testing time = ', ALL_results[clf_name][0]['pred_time'])\n",
    "    print('Test Accuracy = ', ALL_results[clf_name][0]['acc_test'])\n",
    "    print('Test Fscore = ', ALL_results[clf_name][0]['f_test'])\n",
    "    print('\\n')"
   ]
  },
  {
   "cell_type": "markdown",
   "metadata": {},
   "source": [
    "- Best train time: LogisticRegression\n",
    "- Best test time: LogisticRegression\n",
    "- Best Accuracy: GradientBoostingClassifier (by a hair)\n",
    "- Best Fscore (beta = 0.5): GradientBoostingClassifier (by a hair)"
   ]
  },
  {
   "cell_type": "code",
   "execution_count": 163,
   "metadata": {},
   "outputs": [],
   "source": [
    "# We save the model\n",
    "filename = 'trained_classifier.sav'\n",
    "pickle.dump(clf_D, open(filename, 'wb'))"
   ]
  },
  {
   "cell_type": "code",
   "execution_count": 164,
   "metadata": {},
   "outputs": [],
   "source": [
    "loaded_model = pickle.load(open(filename, 'rb'))"
   ]
  },
  {
   "cell_type": "markdown",
   "metadata": {},
   "source": [
    "The most performant classifier is GradientBoosting. We will use it and now try to optimize its parameters for getting a better accuracy and fscore."
   ]
  },
  {
   "cell_type": "markdown",
   "metadata": {},
   "source": [
    "Before we do that, let us get some intuition of the guts of the model afteer training"
   ]
  },
  {
   "cell_type": "markdown",
   "metadata": {},
   "source": [
    "This is the feature that has the biggest impact on the classification for success"
   ]
  },
  {
   "cell_type": "code",
   "execution_count": 165,
   "metadata": {},
   "outputs": [
    {
     "data": {
      "text/plain": [
       "Index(['channel_social'], dtype='object')"
      ]
     },
     "execution_count": 165,
     "metadata": {},
     "output_type": "execute_result"
    }
   ],
   "source": [
    "best_feature_index = np.where(loaded_model.feature_importances_ == loaded_model.feature_importances_.max()) \n",
    "features.columns[best_feature_index]"
   ]
  },
  {
   "cell_type": "markdown",
   "metadata": {},
   "source": [
    "##### Grid search on best performing algorithm"
   ]
  },
  {
   "cell_type": "code",
   "execution_count": 166,
   "metadata": {},
   "outputs": [],
   "source": [
    "from sklearn.metrics import make_scorer\n",
    "from sklearn.model_selection import GridSearchCV"
   ]
  },
  {
   "cell_type": "code",
   "execution_count": 167,
   "metadata": {},
   "outputs": [
    {
     "data": {
      "text/plain": [
       "GradientBoostingClassifier(criterion='friedman_mse', init=None,\n",
       "                           learning_rate=0.1, loss='deviance', max_depth=3,\n",
       "                           max_features=None, max_leaf_nodes=None,\n",
       "                           min_impurity_decrease=0.0, min_impurity_split=None,\n",
       "                           min_samples_leaf=1, min_samples_split=2,\n",
       "                           min_weight_fraction_leaf=0.0, n_estimators=100,\n",
       "                           n_iter_no_change=None, presort='auto',\n",
       "                           random_state=0, subsample=1.0, tol=0.0001,\n",
       "                           validation_fraction=0.1, verbose=0,\n",
       "                           warm_start=False)"
      ]
     },
     "execution_count": 167,
     "metadata": {},
     "output_type": "execute_result"
    }
   ],
   "source": [
    "loaded_model"
   ]
  },
  {
   "cell_type": "code",
   "execution_count": 168,
   "metadata": {},
   "outputs": [],
   "source": [
    "# TODO: Initialize the classifier again\n",
    "GradientBoostingClassifier_optimal =  GradientBoostingClassifier()"
   ]
  },
  {
   "cell_type": "code",
   "execution_count": 169,
   "metadata": {},
   "outputs": [],
   "source": [
    "# Create the parameters list you wish to tune, using a dictionary if needed.\n",
    "def grid_search(model, scorer):\n",
    "\n",
    "    # specify parameters for grid search\n",
    "    parameters = {\n",
    "        'learning_rate': [0.1, 0.5, 1],\n",
    "        'max_depth': [3, 4],\n",
    "        'n_estimators': [100, 125, 150],\n",
    "    }\n",
    "\n",
    "    # create grid search object\n",
    "    cv = GridSearchCV(model, param_grid=parameters, scoring=scorer)\n",
    "    \n",
    "    return cv"
   ]
  },
  {
   "cell_type": "code",
   "execution_count": 170,
   "metadata": {},
   "outputs": [],
   "source": [
    "# fbeta_score scoring object using make_scorer()\n",
    "scorer = make_scorer(fbeta_score, beta=0.5)\n"
   ]
  },
  {
   "cell_type": "code",
   "execution_count": 171,
   "metadata": {},
   "outputs": [],
   "source": [
    "# Perform grid search on the classifier using 'scorer' as the scoring method using GridSearchCV()\n",
    "grid_object = grid_search(GradientBoostingClassifier_optimal, scorer)\n"
   ]
  },
  {
   "cell_type": "code",
   "execution_count": 172,
   "metadata": {},
   "outputs": [
    {
     "name": "stderr",
     "output_type": "stream",
     "text": [
      "/usr/local/anaconda3/envs/Datascience/lib/python3.7/site-packages/sklearn/model_selection/_split.py:1978: FutureWarning: The default value of cv will change from 3 to 5 in version 0.22. Specify it explicitly to silence this warning.\n",
      "  warnings.warn(CV_WARNING, FutureWarning)\n"
     ]
    }
   ],
   "source": [
    "# Fit the grid search object to the training data\n",
    "grid_fit = grid_object.fit(X_train, y_train)\n"
   ]
  },
  {
   "cell_type": "code",
   "execution_count": 173,
   "metadata": {},
   "outputs": [],
   "source": [
    "# Get the estimator\n",
    "best_clf = grid_fit.best_estimator_\n"
   ]
  },
  {
   "cell_type": "code",
   "execution_count": 174,
   "metadata": {},
   "outputs": [],
   "source": [
    "# We save the model\n",
    "filename = 'best_trained_classifier.sav'\n",
    "pickle.dump(best_clf, open(filename, 'wb'))"
   ]
  },
  {
   "cell_type": "code",
   "execution_count": 175,
   "metadata": {},
   "outputs": [],
   "source": [
    "best_clf = pickle.load(open(filename, 'rb'))"
   ]
  },
  {
   "cell_type": "code",
   "execution_count": 176,
   "metadata": {},
   "outputs": [],
   "source": [
    "# Make predictions using the unoptimized and model\n",
    "predictions = (clf.fit(X_train, y_train)).predict(X_test)\n",
    "best_predictions = best_clf.predict(X_test)"
   ]
  },
  {
   "cell_type": "code",
   "execution_count": 177,
   "metadata": {},
   "outputs": [
    {
     "name": "stdout",
     "output_type": "stream",
     "text": [
      "Unoptimized model\n",
      "------\n",
      "Accuracy score on testing data: 0.7082\n",
      "F-score on testing data: 0.6026\n",
      "\n",
      "Optimized Model\n",
      "------\n",
      "Final accuracy score on the testing data: 0.7105\n",
      "Final F-score on the testing data: 0.6086\n"
     ]
    },
    {
     "data": {
      "text/plain": [
       "GradientBoostingClassifier(criterion='friedman_mse', init=None,\n",
       "                           learning_rate=0.5, loss='deviance', max_depth=3,\n",
       "                           max_features=None, max_leaf_nodes=None,\n",
       "                           min_impurity_decrease=0.0, min_impurity_split=None,\n",
       "                           min_samples_leaf=1, min_samples_split=2,\n",
       "                           min_weight_fraction_leaf=0.0, n_estimators=100,\n",
       "                           n_iter_no_change=None, presort='auto',\n",
       "                           random_state=None, subsample=1.0, tol=0.0001,\n",
       "                           validation_fraction=0.1, verbose=0,\n",
       "                           warm_start=False)"
      ]
     },
     "execution_count": 177,
     "metadata": {},
     "output_type": "execute_result"
    }
   ],
   "source": [
    "# Report the before-and-afterscores\n",
    "print(\"Unoptimized model\\n------\")\n",
    "print(\"Accuracy score on testing data: {:.4f}\".format(accuracy_score(y_test, predictions)))\n",
    "print(\"F-score on testing data: {:.4f}\".format(fbeta_score(y_test, predictions, beta = 0.5)))\n",
    "print(\"\\nOptimized Model\\n------\")\n",
    "print(\"Final accuracy score on the testing data: {:.4f}\".format(accuracy_score(y_test, best_predictions)))\n",
    "print(\"Final F-score on the testing data: {:.4f}\".format(fbeta_score(y_test, best_predictions, beta = 0.5)))\n",
    "best_clf"
   ]
  },
  {
   "cell_type": "markdown",
   "metadata": {},
   "source": [
    "### 5. Evaluation"
   ]
  },
  {
   "cell_type": "markdown",
   "metadata": {},
   "source": [
    "#### Result evaluation"
   ]
  },
  {
   "cell_type": "markdown",
   "metadata": {},
   "source": [
    "The best model to predict if an offer will be successful is Gradient Boosting.\n",
    "However, 70% is not such a high accuracy, better than human though. \n",
    "Grid search did not show much improvements, so furtehr tunning should be carried out.\n",
    "We saw that the learning rate went from 0.1 to 0.5, while the rest of parameters stayed the same. The enxt logical step would be to try with a learning rate of 0.75 (as 1 was not chosen) and try to change other parameters.\n"
   ]
  },
  {
   "cell_type": "markdown",
   "metadata": {},
   "source": [
    "#### Outlook"
   ]
  },
  {
   "cell_type": "markdown",
   "metadata": {},
   "source": [
    "With respect to the model, we could perform further tuning to improve the scores.\n",
    "Overall, the score is not too high but of course, it is better than human intuition as there are many parameters into consideration."
   ]
  },
  {
   "cell_type": "markdown",
   "metadata": {},
   "source": [
    "### 6. Deployment"
   ]
  },
  {
   "cell_type": "markdown",
   "metadata": {},
   "source": [
    "Process and results presented in [blogpost]()."
   ]
  },
  {
   "cell_type": "markdown",
   "metadata": {},
   "source": [
    "#### Conclusion"
   ]
  },
  {
   "cell_type": "markdown",
   "metadata": {},
   "source": [
    "We have wrangled, cleansed and explored 3 datasets. We have studied individually their content. We have calculated the target label for the model, the success of an offer. We have merged afterwards all these datasets, further explore its insights and finally, prepare it and feed it into a model. The model chosen was Gradient Boosting and teh accuracy and f-score were 0.7 and 0.6 respectively, which are not too high but given the amount of variables, it is a better prediction than a 1/offer_ids of a human."
   ]
  },
  {
   "cell_type": "code",
   "execution_count": null,
   "metadata": {},
   "outputs": [],
   "source": []
  }
 ],
 "metadata": {
  "kernelspec": {
   "display_name": "Python 3",
   "language": "python",
   "name": "python3"
  },
  "language_info": {
   "codemirror_mode": {
    "name": "ipython",
    "version": 3
   },
   "file_extension": ".py",
   "mimetype": "text/x-python",
   "name": "python",
   "nbconvert_exporter": "python",
   "pygments_lexer": "ipython3",
   "version": "3.7.6"
  }
 },
 "nbformat": 4,
 "nbformat_minor": 2
}
